{
 "cells": [
  {
   "cell_type": "code",
   "execution_count": 73,
   "metadata": {},
   "outputs": [],
   "source": [
    "import numpy as np\n",
    "import pandas as pd"
   ]
  },
  {
   "cell_type": "code",
   "execution_count": 74,
   "metadata": {},
   "outputs": [
    {
     "data": {
      "text/plain": [
       "(6, 6, 5)"
      ]
     },
     "execution_count": 74,
     "metadata": {},
     "output_type": "execute_result"
    }
   ],
   "source": [
    "i = np.identity(6)\n",
    "adjacency = np.dstack([i]*5)\n",
    "adjacency.shape"
   ]
  },
  {
   "cell_type": "code",
   "execution_count": 75,
   "metadata": {},
   "outputs": [],
   "source": [
    "# set stochiometric\n",
    "adjacency[0,4,0] = -1\n",
    "adjacency[4,0,0] = -1\n",
    "adjacency[1,4,0] = -1\n",
    "adjacency[4,1,0] = -1\n",
    "adjacency[2,4,0] = 1\n",
    "adjacency[4,2,0] = 1\n",
    "adjacency[2,5,0] = -1\n",
    "adjacency[5,2,0] = -1\n",
    "adjacency[3,5,0] = 1\n",
    "adjacency[5,3,0] = 1\n",
    "# set input/input\n",
    "adjacency[0,1,3] = 1\n",
    "adjacency[1,0,3] = 1\n",
    "# set input/output\n",
    "adjacency[0,2,4] = 1\n",
    "adjacency[2,0,4] = 1\n",
    "adjacency[1,2,4] = 1\n",
    "adjacency[2,1,4] = 1"
   ]
  },
  {
   "cell_type": "code",
   "execution_count": 76,
   "metadata": {},
   "outputs": [],
   "source": [
    "Y = np.array([10, 4, 5, 0, 0, 0])\n",
    "mask = np.array([1,1,1,0,0,0])\n",
    "X = np.zeros([6,2])\n",
    "X[4,0]=3\n",
    "X[4,1]=5\n",
    "X[5,0]=2\n",
    "X[5,1]=9"
   ]
  },
  {
   "cell_type": "code",
   "execution_count": 77,
   "metadata": {},
   "outputs": [],
   "source": [
    "n = 0\n",
    "b = 1\n",
    "w = np.array([0.1, 0.3, 0.4, 0.4, 0.5])"
   ]
  },
  {
   "cell_type": "code",
   "execution_count": 78,
   "metadata": {},
   "outputs": [
    {
     "name": "stdout",
     "output_type": "stream",
     "text": [
      "-4.8\n"
     ]
    }
   ],
   "source": [
    "total = b\n",
    "for i in range(5):\n",
    "    total += w[i] * np.sum(adjacency[n,:,i] * X[:,0] + adjacency[n,:,i] * X[:,1])\n",
    "total = np.sum(total)\n",
    "print(total)"
   ]
  },
  {
   "cell_type": "code",
   "execution_count": 82,
   "metadata": {},
   "outputs": [],
   "source": [
    "#total = b + np.sum(w * (adjacency[n,:,:] * X[:,0] + adjacency[n,:,:] * X[:,1]))\n",
    "#print(total)"
   ]
  },
  {
   "cell_type": "code",
   "execution_count": null,
   "metadata": {},
   "outputs": [],
   "source": []
  }
 ],
 "metadata": {
  "kernelspec": {
   "display_name": "Python 3",
   "language": "python",
   "name": "python3"
  },
  "language_info": {
   "codemirror_mode": {
    "name": "ipython",
    "version": 3
   },
   "file_extension": ".py",
   "mimetype": "text/x-python",
   "name": "python",
   "nbconvert_exporter": "python",
   "pygments_lexer": "ipython3",
   "version": "3.6.8"
  }
 },
 "nbformat": 4,
 "nbformat_minor": 2
}
