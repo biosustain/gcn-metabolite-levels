{
 "cells": [
  {
   "cell_type": "code",
   "execution_count": 99,
   "metadata": {},
   "outputs": [],
   "source": [
    "%matplotlib inline\n",
    "import networkx as nx\n",
    "import matplotlib.pyplot as plt\n",
    "import numpy as np\n",
    "import scipy.sparse as sp\n",
    "import torch\n",
    "import math\n",
    "import seaborn as sns; sns.set()\n",
    "import pickle\n",
    "from scipy.linalg import block_diag"
   ]
  },
  {
   "cell_type": "code",
   "execution_count": 102,
   "metadata": {},
   "outputs": [
    {
     "name": "stderr",
     "output_type": "stream",
     "text": [
      "/Users/kobon/miniconda3/envs/deeplearning/lib/python3.6/site-packages/networkx/drawing/nx_pylab.py:611: MatplotlibDeprecationWarning: isinstance(..., numbers.Number)\n",
      "  if cb.is_numlike(alpha):\n"
     ]
    },
    {
     "data": {
      "image/png": "[encoded data removed]",
      "text/plain": [
       "<Figure size 432x288 with 1 Axes>"
      ]
     },
     "metadata": {},
     "output_type": "display_data"
    }
   ],
   "source": [
    "G=nx.Graph()\n",
    "G.add_node(0)\n",
    "G.add_node(1)\n",
    "G.add_node(2)\n",
    "G.add_node(3)\n",
    "G.add_edge(1,2, weight=1)\n",
    "G.add_edge(1,3, weight=1)\n",
    "G.add_edge(0,1, weight=1)\n",
    "G.add_edge(2,3, weight=1)\n",
    "nx.draw(G, with_labels=True)"
   ]
  },
  {
   "cell_type": "code",
   "execution_count": 113,
   "metadata": {},
   "outputs": [
    {
     "name": "stdout",
     "output_type": "stream",
     "text": [
      "[[1. 1. 0. 0.]\n",
      " [1. 1. 1. 1.]\n",
      " [0. 1. 1. 1.]\n",
      " [0. 1. 1. 1.]]\n",
      "[[0 1 0 0 0 0 0 0 0 0 0 0 0 0 0 0 0 0 0 0]\n",
      " [1 0 1 1 0 0 0 0 0 0 0 0 0 0 0 0 0 0 0 0]\n",
      " [0 1 0 1 0 0 0 0 0 0 0 0 0 0 0 0 0 0 0 0]\n",
      " [0 1 1 0 0 0 0 0 0 0 0 0 0 0 0 0 0 0 0 0]\n",
      " [0 0 0 0 0 1 0 0 0 0 0 0 0 0 0 0 0 0 0 0]\n",
      " [0 0 0 0 1 0 1 1 0 0 0 0 0 0 0 0 0 0 0 0]\n",
      " [0 0 0 0 0 1 0 1 0 0 0 0 0 0 0 0 0 0 0 0]\n",
      " [0 0 0 0 0 1 1 0 0 0 0 0 0 0 0 0 0 0 0 0]\n",
      " [0 0 0 0 0 0 0 0 0 1 0 0 0 0 0 0 0 0 0 0]\n",
      " [0 0 0 0 0 0 0 0 1 0 1 1 0 0 0 0 0 0 0 0]\n",
      " [0 0 0 0 0 0 0 0 0 1 0 1 0 0 0 0 0 0 0 0]\n",
      " [0 0 0 0 0 0 0 0 0 1 1 0 0 0 0 0 0 0 0 0]\n",
      " [0 0 0 0 0 0 0 0 0 0 0 0 0 1 0 0 0 0 0 0]\n",
      " [0 0 0 0 0 0 0 0 0 0 0 0 1 0 1 1 0 0 0 0]\n",
      " [0 0 0 0 0 0 0 0 0 0 0 0 0 1 0 1 0 0 0 0]\n",
      " [0 0 0 0 0 0 0 0 0 0 0 0 0 1 1 0 0 0 0 0]\n",
      " [0 0 0 0 0 0 0 0 0 0 0 0 0 0 0 0 0 1 0 0]\n",
      " [0 0 0 0 0 0 0 0 0 0 0 0 0 0 0 0 1 0 1 1]\n",
      " [0 0 0 0 0 0 0 0 0 0 0 0 0 0 0 0 0 1 0 1]\n",
      " [0 0 0 0 0 0 0 0 0 0 0 0 0 0 0 0 0 1 1 0]]\n"
     ]
    },
    {
     "data": {
      "image/png": "[encoded data removed]",
      "text/plain": [
       "<Figure size 432x288 with 4 Axes>"
      ]
     },
     "metadata": {},
     "output_type": "display_data"
    }
   ],
   "source": [
    "# Class 0:  < 2\n",
    "# Class 1:  ==2\n",
    "# Class 2:  > 2\n",
    "\n",
    "#features = np.array([[0,0,1,1],[0,1,1,1],[4,1,0,0],[1,0,2,0],[0,3,0,0]])\n",
    "#labels   = np.array([[0,1,1,1],[0,2,2,2],[2,2,0,0],[1,2,1,1],[2,2,2,2]])\n",
    "#features = np.array([[0,0,1,1]])\n",
    "#labels   = np.array([[0,1,1,1]])\n",
    "features = np.array([[0,0,1,1,0,1,1,1,4,1,0,0,1,0,2,0,0,3,0,0]])\n",
    "labels   = np.array([[0,1,1,1,0,2,2,2,2,2,0,0,1,2,1,1,2,2,2,2]])\n",
    "features = torch.FloatTensor(features)\n",
    "labels = torch.LongTensor(labels)\n",
    "\n",
    "def normalize(mx):\n",
    "    \"\"\"Row-normalize sparse matrix\"\"\"\n",
    "    rowsum = np.array(mx.sum(1))\n",
    "    r_inv = np.power(rowsum, -1).flatten()\n",
    "    r_inv[np.isinf(r_inv)] = 0.\n",
    "    r_mat_inv = sp.diags(r_inv)\n",
    "    mx = r_mat_inv.dot(mx)\n",
    "    return mx\n",
    "\n",
    "def sparse_mx_to_torch_sparse_tensor(sparse_mx):\n",
    "    \"\"\"Convert a scipy sparse matrix to a torch sparse tensor.\"\"\"\n",
    "    sparse_mx = sparse_mx.tocoo().astype(np.float32)\n",
    "    indices = torch.from_numpy(np.vstack((sparse_mx.row, sparse_mx.col)).astype(np.int64))\n",
    "    values = torch.from_numpy(sparse_mx.data)\n",
    "    shape = torch.Size(sparse_mx.shape)\n",
    "    return torch.sparse.FloatTensor(indices, values, shape)\n",
    "\n",
    "adj = nx.adjacency_matrix(G)\n",
    "#adj = adj.todense()\n",
    "adj = adj + np.eye(adj.shape[0])\n",
    "print(adj)\n",
    "plt.subplot(1, 2, 1)\n",
    "ax = sns.heatmap(adj)\n",
    "\n",
    "\n",
    "adj = nx.adjacency_matrix(G).todense()\n",
    "adj = block_diag(adj, adj, adj, adj, adj)\n",
    "\n",
    "print(adj)\n",
    "adj = adj + sp.eye(adj.shape[0])\n",
    "adj = normalize(adj)\n",
    "#adj = sparse_mx_to_torch_sparse_tensor(adj)\n",
    "#print(adj.to_dense())\n",
    "plt.subplot(1, 2, 2)\n",
    "ax = sns.heatmap(adj)\n",
    "\n",
    "\n",
    "adj = torch.FloatTensor(adj)\n",
    "dataset = {'adj':adj, 'features':features, 'labels':labels}\n",
    "f = open('../Data/testdata.pkl', 'wb')\n",
    "pickle.dump(dataset, f, -1)\n",
    "f.close()"
   ]
  },
  {
   "cell_type": "code",
   "execution_count": 95,
   "metadata": {},
   "outputs": [
    {
     "name": "stdout",
     "output_type": "stream",
     "text": [
      "Features  torch.Size([8, 4])\n",
      "tensor([[0., 0., 2., 2.],\n",
      "        [3., 2., 2., 0.],\n",
      "        [4., 1., 0., 0.],\n",
      "        [0., 0., 2., 6.],\n",
      "        [0., 1., 2., 7.],\n",
      "        [0., 1., 0., 0.],\n",
      "        [2., 0., 0., 5.],\n",
      "        [5., 2., 2., 5.]])\n",
      "Labels  torch.Size([8, 4])\n",
      "tensor([[0, 0, 1, 1],\n",
      "        [1, 0, 1, 0],\n",
      "        [0, 1, 0, 0],\n",
      "        [0, 0, 1, 0],\n",
      "        [0, 1, 1, 0],\n",
      "        [0, 1, 0, 0],\n",
      "        [0, 0, 0, 0],\n",
      "        [0, 0, 1, 0]])\n"
     ]
    }
   ],
   "source": [
    "#column_sums = features.sum(axis=0)\n",
    "#features = features / column_sums[np.newaxis,:] \n",
    "#row_sums = features.sum(axis=1)\n",
    "#features = features / column_sums[:,np.newaxis] \n",
    "\n",
    "#print(\"Features \", features.shape)\n",
    "#print(features)\n",
    "#print(\"Labels \", labels.shape)\n",
    "#print(labels)\n",
    "\n",
    "#from torch.utils.data import TensorDataset, DataLoader\n",
    "#train_dl = DataLoader(TensorDataset(features, labels), batch_size=1)\n",
    "#for xb,yb in train_dl:\n",
    "#    xb.transpose_(0,1)\n",
    "#    print(\"----\")\n",
    "#    print(xb)\n",
    "#    print(xb.shape)\n",
    "#    print(yb)"
   ]
  },
  {
   "cell_type": "code",
   "execution_count": 88,
   "metadata": {},
   "outputs": [
    {
     "name": "stdout",
     "output_type": "stream",
     "text": [
      "tensor([[1.3548],\n",
      "        [1.8182],\n",
      "        [2.0000],\n",
      "        [2.0000]])\n"
     ]
    }
   ],
   "source": [
    "features = np.array([2,0,2,2]).reshape(4,1)\n",
    "features = torch.FloatTensor(features)\n",
    "weight = torch.FloatTensor([1]).reshape(1,1)\n",
    "support = torch.mm(features, weight)\n",
    "output = torch.spmm(adj, support)\n",
    "\n",
    "print(output)"
   ]
  },
  {
   "cell_type": "code",
   "execution_count": 17,
   "metadata": {},
   "outputs": [
    {
     "name": "stdout",
     "output_type": "stream",
     "text": [
      "Y.shape = torch.Size([4])\n"
     ]
    },
    {
     "ename": "ValueError",
     "evalue": "Integers to negative integer powers are not allowed.",
     "output_type": "error",
     "traceback": [
      "\u001b[0;31m---------------------------------------------------------------------------\u001b[0m",
      "\u001b[0;31mValueError\u001b[0m                                Traceback (most recent call last)",
      "\u001b[0;32m<ipython-input-17-f0ca284e689d>\u001b[0m in \u001b[0;36m<module>\u001b[0;34m\u001b[0m\n\u001b[1;32m     10\u001b[0m \u001b[0mprint\u001b[0m\u001b[0;34m(\u001b[0m\u001b[0;34m\"Y.shape =\"\u001b[0m\u001b[0;34m,\u001b[0m \u001b[0mY\u001b[0m\u001b[0;34m.\u001b[0m\u001b[0mshape\u001b[0m\u001b[0;34m)\u001b[0m\u001b[0;34m\u001b[0m\u001b[0;34m\u001b[0m\u001b[0m\n\u001b[1;32m     11\u001b[0m \u001b[0;34m\u001b[0m\u001b[0m\n\u001b[0;32m---> 12\u001b[0;31m \u001b[0mX\u001b[0m \u001b[0;34m=\u001b[0m \u001b[0mnormalize\u001b[0m\u001b[0;34m(\u001b[0m\u001b[0mnp\u001b[0m\u001b[0;34m.\u001b[0m\u001b[0marray\u001b[0m\u001b[0;34m(\u001b[0m\u001b[0;34m[\u001b[0m\u001b[0;36m0\u001b[0m\u001b[0;34m,\u001b[0m \u001b[0;36m0\u001b[0m\u001b[0;34m,\u001b[0m \u001b[0;36m2\u001b[0m\u001b[0;34m,\u001b[0m \u001b[0;36m2\u001b[0m\u001b[0;34m]\u001b[0m\u001b[0;34m)\u001b[0m\u001b[0;34m.\u001b[0m\u001b[0mreshape\u001b[0m\u001b[0;34m(\u001b[0m\u001b[0;36m4\u001b[0m\u001b[0;34m,\u001b[0m\u001b[0;36m1\u001b[0m\u001b[0;34m)\u001b[0m\u001b[0;34m)\u001b[0m\u001b[0;34m\u001b[0m\u001b[0;34m\u001b[0m\u001b[0m\n\u001b[0m\u001b[1;32m     13\u001b[0m \u001b[0mX\u001b[0m \u001b[0;34m=\u001b[0m \u001b[0mtorch\u001b[0m\u001b[0;34m.\u001b[0m\u001b[0mFloatTensor\u001b[0m\u001b[0;34m(\u001b[0m\u001b[0mX\u001b[0m\u001b[0;34m)\u001b[0m\u001b[0;34m\u001b[0m\u001b[0;34m\u001b[0m\u001b[0m\n\u001b[1;32m     14\u001b[0m \u001b[0mprint\u001b[0m\u001b[0;34m(\u001b[0m\u001b[0;34m\"X.shape =\"\u001b[0m\u001b[0;34m,\u001b[0m \u001b[0mX\u001b[0m\u001b[0;34m.\u001b[0m\u001b[0mshape\u001b[0m\u001b[0;34m)\u001b[0m\u001b[0;34m\u001b[0m\u001b[0;34m\u001b[0m\u001b[0m\n",
      "\u001b[0;32m<ipython-input-16-a6db610c005b>\u001b[0m in \u001b[0;36mnormalize\u001b[0;34m(mx)\u001b[0m\n\u001b[1;32m      2\u001b[0m     \u001b[0;34m\"\"\"Row-normalize sparse matrix\"\"\"\u001b[0m\u001b[0;34m\u001b[0m\u001b[0;34m\u001b[0m\u001b[0m\n\u001b[1;32m      3\u001b[0m     \u001b[0mrowsum\u001b[0m \u001b[0;34m=\u001b[0m \u001b[0mnp\u001b[0m\u001b[0;34m.\u001b[0m\u001b[0marray\u001b[0m\u001b[0;34m(\u001b[0m\u001b[0mmx\u001b[0m\u001b[0;34m.\u001b[0m\u001b[0msum\u001b[0m\u001b[0;34m(\u001b[0m\u001b[0;36m1\u001b[0m\u001b[0;34m)\u001b[0m\u001b[0;34m)\u001b[0m\u001b[0;34m\u001b[0m\u001b[0;34m\u001b[0m\u001b[0m\n\u001b[0;32m----> 4\u001b[0;31m     \u001b[0mr_inv\u001b[0m \u001b[0;34m=\u001b[0m \u001b[0mnp\u001b[0m\u001b[0;34m.\u001b[0m\u001b[0mpower\u001b[0m\u001b[0;34m(\u001b[0m\u001b[0mrowsum\u001b[0m\u001b[0;34m,\u001b[0m \u001b[0;34m-\u001b[0m\u001b[0;36m1\u001b[0m\u001b[0;34m)\u001b[0m\u001b[0;34m.\u001b[0m\u001b[0mflatten\u001b[0m\u001b[0;34m(\u001b[0m\u001b[0;34m)\u001b[0m\u001b[0;34m\u001b[0m\u001b[0;34m\u001b[0m\u001b[0m\n\u001b[0m\u001b[1;32m      5\u001b[0m     \u001b[0mr_inv\u001b[0m\u001b[0;34m[\u001b[0m\u001b[0mnp\u001b[0m\u001b[0;34m.\u001b[0m\u001b[0misinf\u001b[0m\u001b[0;34m(\u001b[0m\u001b[0mr_inv\u001b[0m\u001b[0;34m)\u001b[0m\u001b[0;34m]\u001b[0m \u001b[0;34m=\u001b[0m \u001b[0;36m0.\u001b[0m\u001b[0;34m\u001b[0m\u001b[0;34m\u001b[0m\u001b[0m\n\u001b[1;32m      6\u001b[0m     \u001b[0mr_mat_inv\u001b[0m \u001b[0;34m=\u001b[0m \u001b[0msp\u001b[0m\u001b[0;34m.\u001b[0m\u001b[0mdiags\u001b[0m\u001b[0;34m(\u001b[0m\u001b[0mr_inv\u001b[0m\u001b[0;34m)\u001b[0m\u001b[0;34m\u001b[0m\u001b[0;34m\u001b[0m\u001b[0m\n",
      "\u001b[0;31mValueError\u001b[0m: Integers to negative integer powers are not allowed."
     ]
    }
   ],
   "source": [
    "from torch import nn\n",
    "from torch import optim\n",
    "\n",
    "# X shape is N x C, nodes/channels (c-dimensional feature vector for every node)\n",
    "# W shape is C x F, channels/filters\n",
    "# Y shape is N x 1\n",
    "\n",
    "Y = np.array([0, 0, 1, 1])\n",
    "Y = torch.FloatTensor(Y)\n",
    "print(\"Y.shape =\", Y.shape)\n",
    "\n",
    "X = normalize(np.array([0, 0, 2, 2]).reshape(4,1))\n",
    "X = torch.FloatTensor(X)\n",
    "print(\"X.shape =\", X.shape)\n",
    "# W = np.array([1]).reshape(1,1)\n",
    "# W = torch.FloatTensor(W)\n",
    "# print(\"W.shape =\", W.shape)\n",
    "\n",
    "#def loss_func(input, target):\n",
    "#    return -input[range(target.shape[0]), target].mean()\n",
    "\n",
    "def loss_func(input, target):\n",
    "    return torch.sum(torch.abs(input-target))\n",
    "\n",
    "def log_softmax(x):\n",
    "    return x - x.exp().sum(-1).log().unsqueeze(-1)\n",
    "\n",
    "class GCN(nn.Module):\n",
    "    def __init__(self):\n",
    "        super().__init__()\n",
    "        self.weights = nn.Parameter(torch.randn(1, 1))\n",
    "\n",
    "    def forward(self, X, adj):\n",
    "        support = torch.mm(X, self.weights)\n",
    "        output = torch.spmm(adj, support)\n",
    "        pred = log_softmax(output)\n",
    "        return pred\n",
    "\n",
    "def get_model():\n",
    "    model = GCN()\n",
    "    return model, optim.SGD(model.parameters(), lr=0.5)\n",
    "\n",
    "model, opt = get_model()\n",
    "epochs = 3\n",
    "for epoch in range(epochs):\n",
    "    pred = model(X, adj)\n",
    "    loss = loss_func(pred, Y)\n",
    "    print(\"W\", model.weights)\n",
    "    print(\"P\", pred)\n",
    "    print(\"L\", loss)\n",
    "    loss.backward()\n",
    "    opt.step()\n",
    "    opt.zero_grad()\n",
    "\n",
    "# print(\"a.shape =\", adj.shape)\n",
    "# print(\"s.shape =\", support.shape)\n",
    "# print(\"o.shape =\", output.shape)\n",
    "# print(support)"
   ]
  },
  {
   "cell_type": "code",
   "execution_count": 19,
   "metadata": {},
   "outputs": [
    {
     "name": "stdout",
     "output_type": "stream",
     "text": [
      "[[0 0 1 1]\n",
      " [1 0 1 0]\n",
      " [0 1 0 0]\n",
      " [0 0 1 0]\n",
      " [0 1 1 0]\n",
      " [0 1 0 0]\n",
      " [0 0 0 0]\n",
      " [0 0 1 0]]\n",
      "(array([0, 0, 1, 1, 2, 3, 4, 4, 5, 7]), array([2, 3, 0, 2, 1, 2, 1, 2, 1, 2]))\n"
     ]
    },
    {
     "data": {
      "text/plain": [
       "torch.Size([8, 4])"
      ]
     },
     "execution_count": 19,
     "metadata": {},
     "output_type": "execute_result"
    }
   ],
   "source": [
    "# 1 if (input = degree of node) else 0\n",
    "# [3,1,2,2]\n",
    "\n",
    "f = np.array([[0,0,2,2],[3,2,2,0],[4,1,0,0],[0,0,2,6],[0,1,2,7],[0,1,0,0],[2,0,0,5],[5,2,2,5]])\n",
    "l = np.array([[0,0,1,1],[1,0,1,0],[0,1,0,0],[0,0,1,0],[0,1,1,0],[0,1,0,0],[0,0,0,0],[0,0,1,0]])\n",
    "print(l)\n",
    "print(np.where(l))\n",
    "\n",
    "#f = np.array([[0,0,2,2],[3,2,2,0],[4,1,0,0],[0,0,2,6]])\n",
    "#l = np.array([[0,0,1,1],[1,0,1,0],[0,1,0,0],[0,0,1,0]])\n",
    "\n",
    "#f = np.array([0,0,2,2]).reshape(4,1)\n",
    "#l = np.array([0,0,1,1])\n",
    "\n",
    "features = torch.FloatTensor(f) #.unsqueeze(0).transpose(0,1)\n",
    "labels   = torch.LongTensor(l)\n",
    "\n",
    "features.shape"
   ]
  },
  {
   "cell_type": "code",
   "execution_count": null,
   "metadata": {},
   "outputs": [],
   "source": [
    "from torch.nn.parameter import Parameter\n",
    "from torch.nn.modules.module import Module\n",
    "\n",
    "class GraphConvolution(Module):\n",
    "    \"\"\"\n",
    "    Simple GCN layer, similar to https://arxiv.org/abs/1609.02907\n",
    "    \"\"\"\n",
    "\n",
    "    def __init__(self, in_features, out_features, bias=True):\n",
    "        super(GraphConvolution, self).__init__()\n",
    "        self.in_features = in_features\n",
    "        self.out_features = out_features\n",
    "        self.weight = Parameter(torch.FloatTensor(in_features, out_features))\n",
    "        print(self.weight)\n",
    "        if bias:\n",
    "            self.bias = Parameter(torch.FloatTensor(out_features))\n",
    "        else:\n",
    "            self.register_parameter('bias', None)\n",
    "        self.reset_parameters()\n",
    "\n",
    "    def reset_parameters(self):\n",
    "        stdv = 1. / math.sqrt(self.weight.size(1))\n",
    "        self.weight.data.uniform_(-stdv, stdv)\n",
    "        if self.bias is not None:\n",
    "            self.bias.data.uniform_(-stdv, stdv)\n",
    "\n",
    "    def forward(self, input, adj):\n",
    "        support = torch.mm(input, self.weight)\n",
    "        print(\"input = \", input)\n",
    "        print(\"weight = \", self.weight)\n",
    "        print(\"support = \", support)\n",
    "        output = torch.spmm(adj, support)\n",
    "        print(\"output = \", output)\n",
    "        if self.bias is not None:\n",
    "            return output + self.bias\n",
    "        else:\n",
    "            return output\n",
    "\n",
    "    def __repr__(self):\n",
    "        return self.__class__.__name__ + ' (' \\\n",
    "               + str(self.in_features) + ' -> ' \\\n",
    "               + str(self.out_features) + ')'\n"
   ]
  },
  {
   "cell_type": "code",
   "execution_count": null,
   "metadata": {},
   "outputs": [],
   "source": [
    "import torch.nn.functional as F\n",
    "import torch.optim as optim\n",
    "\n",
    "gc1 = GraphConvolution(1, 1)\n",
    "optimizer = optim.Adam(gc1.parameters(), lr=0.05, weight_decay=5e-4)\n",
    "\n",
    "def log_softmax(x):\n",
    "    return x - x.exp().sum(-1).log().unsqueeze(-1)\n",
    "\n",
    "def own_loss(x,y):\n",
    "    return -x[range(y.shape[0]), y].mean()"
   ]
  },
  {
   "cell_type": "code",
   "execution_count": null,
   "metadata": {},
   "outputs": [],
   "source": [
    "epochs = 1\n",
    "bs = 1\n",
    "n, c = features.shape\n",
    "\n",
    "for epoch in range(epochs):\n",
    "    for i in range((n - 1) // bs + 1):\n",
    "\n",
    "        start_i = i * bs\n",
    "        end_i = start_i + bs\n",
    "        xb = features[start_i:end_i].transpose(1,0)\n",
    "        yb = labels[start_i:end_i].flatten()\n",
    "        #print(xb)\n",
    "        optimizer.zero_grad()\n",
    "        output = gc1(xb, adj)\n",
    "        #print(output)\n",
    "        #print(yb)\n",
    "        #loss_train = torch.nn.MSELoss(output, yb)\n",
    "        #print(loss_train)\n",
    "        #loss_train.backward()\n",
    "        #optimizer.step()"
   ]
  },
  {
   "cell_type": "code",
   "execution_count": null,
   "metadata": {},
   "outputs": [],
   "source": [
    "adj"
   ]
  },
  {
   "cell_type": "code",
   "execution_count": null,
   "metadata": {},
   "outputs": [],
   "source": []
  }
 ],
 "metadata": {
  "kernelspec": {
   "display_name": "Python 3",
   "language": "python",
   "name": "python3"
  },
  "language_info": {
   "codemirror_mode": {
    "name": "ipython",
    "version": 3
   },
   "file_extension": ".py",
   "mimetype": "text/x-python",
   "name": "python",
   "nbconvert_exporter": "python",
   "pygments_lexer": "ipython3",
   "version": "3.6.8"
  }
 },
 "nbformat": 4,
 "nbformat_minor": 2
}
