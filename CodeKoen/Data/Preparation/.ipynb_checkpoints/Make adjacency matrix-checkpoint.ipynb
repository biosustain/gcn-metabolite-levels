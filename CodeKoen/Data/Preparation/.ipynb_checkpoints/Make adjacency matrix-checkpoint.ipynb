{
 "cells": [
  {
   "cell_type": "code",
   "execution_count": 1,
   "metadata": {},
   "outputs": [
    {
     "data": {
      "text/html": []
     },
     "metadata": {},
     "output_type": "display_data"
    },
    {
     "data": {
      "application/javascript": [
       "\n",
       "(function(global) {\n",
       "  function now() {\n",
       "    return new Date();\n",
       "  }\n",
       "\n",
       "  var force = true;\n",
       "\n",
       "  if (typeof (window._bokeh_onload_callbacks) === \"undefined\" || force === true) {\n",
       "    window._bokeh_onload_callbacks = [];\n",
       "    window._bokeh_is_loading = undefined;\n",
       "  }\n",
       "\n",
       "\n",
       "  \n",
       "  if (typeof (window._bokeh_timeout) === \"undefined\" || force === true) {\n",
       "    window._bokeh_timeout = Date.now() + 5000;\n",
       "    window._bokeh_failed_load = false;\n",
       "  }\n",
       "\n",
       "  var NB_LOAD_WARNING = {'data': {'text/html':\n",
       "     \"<div style='background-color: #fdd'>\\n\"+\n",
       "     \"<p>\\n\"+\n",
       "     \"BokehJS does not appear to have successfully loaded. If loading BokehJS from CDN, this \\n\"+\n",
       "     \"may be due to a slow or bad network connection. Possible fixes:\\n\"+\n",
       "     \"</p>\\n\"+\n",
       "     \"<ul>\\n\"+\n",
       "     \"<li>re-rerun `output_notebook()` to attempt to load from CDN again, or</li>\\n\"+\n",
       "     \"<li>use INLINE resources instead, as so:</li>\\n\"+\n",
       "     \"</ul>\\n\"+\n",
       "     \"<code>\\n\"+\n",
       "     \"from bokeh.resources import INLINE\\n\"+\n",
       "     \"output_notebook(resources=INLINE)\\n\"+\n",
       "     \"</code>\\n\"+\n",
       "     \"</div>\"}};\n",
       "\n",
       "  function display_loaded() {\n",
       "    if (window.Bokeh !== undefined) {\n",
       "      document.getElementById(\"\").textContent = \"BokehJS successfully loaded.\";\n",
       "    } else if (Date.now() < window._bokeh_timeout) {\n",
       "      setTimeout(display_loaded, 100)\n",
       "    }\n",
       "  }\n",
       "\n",
       "  function run_callbacks() {\n",
       "    window._bokeh_onload_callbacks.forEach(function(callback) { callback() });\n",
       "    delete window._bokeh_onload_callbacks\n",
       "    console.info(\"Bokeh: all callbacks have finished\");\n",
       "  }\n",
       "\n",
       "  function load_libs(js_urls, callback) {\n",
       "    window._bokeh_onload_callbacks.push(callback);\n",
       "    if (window._bokeh_is_loading > 0) {\n",
       "      console.log(\"Bokeh: BokehJS is being loaded, scheduling callback at\", now());\n",
       "      return null;\n",
       "    }\n",
       "    if (js_urls == null || js_urls.length === 0) {\n",
       "      run_callbacks();\n",
       "      return null;\n",
       "    }\n",
       "    console.log(\"Bokeh: BokehJS not loaded, scheduling load and callback at\", now());\n",
       "    window._bokeh_is_loading = js_urls.length;\n",
       "    for (var i = 0; i < js_urls.length; i++) {\n",
       "      var url = js_urls[i];\n",
       "      var s = document.createElement('script');\n",
       "      s.src = url;\n",
       "      s.async = false;\n",
       "      s.onreadystatechange = s.onload = function() {\n",
       "        window._bokeh_is_loading--;\n",
       "        if (window._bokeh_is_loading === 0) {\n",
       "          console.log(\"Bokeh: all BokehJS libraries loaded\");\n",
       "          run_callbacks()\n",
       "        }\n",
       "      };\n",
       "      s.onerror = function() {\n",
       "        console.warn(\"failed to load library \" + url);\n",
       "      };\n",
       "      console.log(\"Bokeh: injecting script tag for BokehJS library: \", url);\n",
       "      document.getElementsByTagName(\"head\")[0].appendChild(s);\n",
       "    }\n",
       "  };\n",
       "\n",
       "  var js_urls = [\"https://cdn.pydata.org/bokeh/release/bokeh-0.12.4.min.js\", \"https://cdn.pydata.org/bokeh/release/bokeh-widgets-0.12.4.min.js\"];\n",
       "\n",
       "  var inline_js = [\n",
       "    function(Bokeh) {\n",
       "      Bokeh.set_log_level(\"info\");\n",
       "    },\n",
       "    function(Bokeh) {\n",
       "      console.log(\"Bokeh: injecting CSS: https://cdn.pydata.org/bokeh/release/bokeh-0.12.4.min.css\");\n",
       "      Bokeh.embed.inject_css(\"https://cdn.pydata.org/bokeh/release/bokeh-0.12.4.min.css\");\n",
       "      console.log(\"Bokeh: injecting CSS: https://cdn.pydata.org/bokeh/release/bokeh-widgets-0.12.4.min.css\");\n",
       "      Bokeh.embed.inject_css(\"https://cdn.pydata.org/bokeh/release/bokeh-widgets-0.12.4.min.css\");\n",
       "    }\n",
       "  ];\n",
       "\n",
       "  function run_inline_js() {\n",
       "    \n",
       "    if ((window.Bokeh !== undefined) || (force === true)) {\n",
       "      for (var i = 0; i < inline_js.length; i++) {\n",
       "        inline_js[i](window.Bokeh);\n",
       "      }} else if (Date.now() < window._bokeh_timeout) {\n",
       "      setTimeout(run_inline_js, 100);\n",
       "    } else if (!window._bokeh_failed_load) {\n",
       "      console.log(\"Bokeh: BokehJS failed to load within specified timeout.\");\n",
       "      window._bokeh_failed_load = true;\n",
       "    } else if (force !== true) {\n",
       "      var cell = $(document.getElementById(\"\")).parents('.cell').data().cell;\n",
       "      cell.output_area.append_execute_result(NB_LOAD_WARNING)\n",
       "    }\n",
       "\n",
       "  }\n",
       "\n",
       "  if (window._bokeh_is_loading === 0) {\n",
       "    console.log(\"Bokeh: BokehJS loaded, going straight to plotting\");\n",
       "    run_inline_js();\n",
       "  } else {\n",
       "    load_libs(js_urls, function() {\n",
       "      console.log(\"Bokeh: BokehJS plotting callback run at\", now());\n",
       "      run_inline_js();\n",
       "    });\n",
       "  }\n",
       "}(this));"
      ]
     },
     "metadata": {},
     "output_type": "display_data"
    },
    {
     "data": {
      "text/html": []
     },
     "metadata": {},
     "output_type": "display_data"
    },
    {
     "data": {
      "application/javascript": [
       "\n",
       "(function(global) {\n",
       "  function now() {\n",
       "    return new Date();\n",
       "  }\n",
       "\n",
       "  var force = true;\n",
       "\n",
       "  if (typeof (window._bokeh_onload_callbacks) === \"undefined\" || force === true) {\n",
       "    window._bokeh_onload_callbacks = [];\n",
       "    window._bokeh_is_loading = undefined;\n",
       "  }\n",
       "\n",
       "\n",
       "  \n",
       "  if (typeof (window._bokeh_timeout) === \"undefined\" || force === true) {\n",
       "    window._bokeh_timeout = Date.now() + 5000;\n",
       "    window._bokeh_failed_load = false;\n",
       "  }\n",
       "\n",
       "  var NB_LOAD_WARNING = {'data': {'text/html':\n",
       "     \"<div style='background-color: #fdd'>\\n\"+\n",
       "     \"<p>\\n\"+\n",
       "     \"BokehJS does not appear to have successfully loaded. If loading BokehJS from CDN, this \\n\"+\n",
       "     \"may be due to a slow or bad network connection. Possible fixes:\\n\"+\n",
       "     \"</p>\\n\"+\n",
       "     \"<ul>\\n\"+\n",
       "     \"<li>re-rerun `output_notebook()` to attempt to load from CDN again, or</li>\\n\"+\n",
       "     \"<li>use INLINE resources instead, as so:</li>\\n\"+\n",
       "     \"</ul>\\n\"+\n",
       "     \"<code>\\n\"+\n",
       "     \"from bokeh.resources import INLINE\\n\"+\n",
       "     \"output_notebook(resources=INLINE)\\n\"+\n",
       "     \"</code>\\n\"+\n",
       "     \"</div>\"}};\n",
       "\n",
       "  function display_loaded() {\n",
       "    if (window.Bokeh !== undefined) {\n",
       "      document.getElementById(\"\").textContent = \"BokehJS successfully loaded.\";\n",
       "    } else if (Date.now() < window._bokeh_timeout) {\n",
       "      setTimeout(display_loaded, 100)\n",
       "    }\n",
       "  }\n",
       "\n",
       "  function run_callbacks() {\n",
       "    window._bokeh_onload_callbacks.forEach(function(callback) { callback() });\n",
       "    delete window._bokeh_onload_callbacks\n",
       "    console.info(\"Bokeh: all callbacks have finished\");\n",
       "  }\n",
       "\n",
       "  function load_libs(js_urls, callback) {\n",
       "    window._bokeh_onload_callbacks.push(callback);\n",
       "    if (window._bokeh_is_loading > 0) {\n",
       "      console.log(\"Bokeh: BokehJS is being loaded, scheduling callback at\", now());\n",
       "      return null;\n",
       "    }\n",
       "    if (js_urls == null || js_urls.length === 0) {\n",
       "      run_callbacks();\n",
       "      return null;\n",
       "    }\n",
       "    console.log(\"Bokeh: BokehJS not loaded, scheduling load and callback at\", now());\n",
       "    window._bokeh_is_loading = js_urls.length;\n",
       "    for (var i = 0; i < js_urls.length; i++) {\n",
       "      var url = js_urls[i];\n",
       "      var s = document.createElement('script');\n",
       "      s.src = url;\n",
       "      s.async = false;\n",
       "      s.onreadystatechange = s.onload = function() {\n",
       "        window._bokeh_is_loading--;\n",
       "        if (window._bokeh_is_loading === 0) {\n",
       "          console.log(\"Bokeh: all BokehJS libraries loaded\");\n",
       "          run_callbacks()\n",
       "        }\n",
       "      };\n",
       "      s.onerror = function() {\n",
       "        console.warn(\"failed to load library \" + url);\n",
       "      };\n",
       "      console.log(\"Bokeh: injecting script tag for BokehJS library: \", url);\n",
       "      document.getElementsByTagName(\"head\")[0].appendChild(s);\n",
       "    }\n",
       "  };\n",
       "\n",
       "  var js_urls = [\"https://cdn.pydata.org/bokeh/release/bokeh-0.12.4.min.js\", \"https://cdn.pydata.org/bokeh/release/bokeh-widgets-0.12.4.min.js\"];\n",
       "\n",
       "  var inline_js = [\n",
       "    function(Bokeh) {\n",
       "      Bokeh.set_log_level(\"info\");\n",
       "    },\n",
       "    function(Bokeh) {\n",
       "      console.log(\"Bokeh: injecting CSS: https://cdn.pydata.org/bokeh/release/bokeh-0.12.4.min.css\");\n",
       "      Bokeh.embed.inject_css(\"https://cdn.pydata.org/bokeh/release/bokeh-0.12.4.min.css\");\n",
       "      console.log(\"Bokeh: injecting CSS: https://cdn.pydata.org/bokeh/release/bokeh-widgets-0.12.4.min.css\");\n",
       "      Bokeh.embed.inject_css(\"https://cdn.pydata.org/bokeh/release/bokeh-widgets-0.12.4.min.css\");\n",
       "    }\n",
       "  ];\n",
       "\n",
       "  function run_inline_js() {\n",
       "    \n",
       "    if ((window.Bokeh !== undefined) || (force === true)) {\n",
       "      for (var i = 0; i < inline_js.length; i++) {\n",
       "        inline_js[i](window.Bokeh);\n",
       "      }} else if (Date.now() < window._bokeh_timeout) {\n",
       "      setTimeout(run_inline_js, 100);\n",
       "    } else if (!window._bokeh_failed_load) {\n",
       "      console.log(\"Bokeh: BokehJS failed to load within specified timeout.\");\n",
       "      window._bokeh_failed_load = true;\n",
       "    } else if (force !== true) {\n",
       "      var cell = $(document.getElementById(\"\")).parents('.cell').data().cell;\n",
       "      cell.output_area.append_execute_result(NB_LOAD_WARNING)\n",
       "    }\n",
       "\n",
       "  }\n",
       "\n",
       "  if (window._bokeh_is_loading === 0) {\n",
       "    console.log(\"Bokeh: BokehJS loaded, going straight to plotting\");\n",
       "    run_inline_js();\n",
       "  } else {\n",
       "    load_libs(js_urls, function() {\n",
       "      console.log(\"Bokeh: BokehJS plotting callback run at\", now());\n",
       "      run_inline_js();\n",
       "    });\n",
       "  }\n",
       "}(this));"
      ]
     },
     "metadata": {},
     "output_type": "display_data"
    }
   ],
   "source": [
    "from krisj import gcn\n",
    "import cameo\n",
    "import numpy as np\n",
    "import pandas as pd\n",
    "import ast\n",
    "import matplotlib.pyplot as plt\n",
    "import cobra\n",
    "import json\n",
    "import seaborn as sbn"
   ]
  },
  {
   "cell_type": "code",
   "execution_count": 2,
   "metadata": {},
   "outputs": [],
   "source": [
    "%matplotlib inline"
   ]
  },
  {
   "cell_type": "markdown",
   "metadata": {},
   "source": [
    "### Load model"
   ]
  },
  {
   "cell_type": "code",
   "execution_count": 3,
   "metadata": {},
   "outputs": [],
   "source": [
    "with open(\"../Data/Genome-wide/Measured_metabolites.json\") as infile:\n",
    "    measured_metabolites = json.load(infile)"
   ]
  },
  {
   "cell_type": "code",
   "execution_count": 18,
   "metadata": {
    "scrolled": true
   },
   "outputs": [
    {
     "name": "stdout",
     "output_type": "stream",
     "text": [
      "1805\n",
      "2583\n"
     ]
    }
   ],
   "source": [
    "model = cameo.load_model(\"iJO1366\")\n",
    "\n",
    "assert all(m in model.metabolites for m in measured_metabolites)\n",
    "\n",
    "# metabolite_list = measured_metabolites + [m.id for m in model.metabolites if not m.id in measured_metabolites]\n",
    "metabolite_list = [m.id for m in model.metabolites]\n",
    "n_mets = len(model.metabolites)\n",
    "reaction_list = [r.id for r in model.reactions]\n",
    "n_reacs = len(model.reactions)\n",
    "print(n_mets)\n",
    "print(n_reacs)\n",
    "# ecoli_core = cameo.load_model(\"e_coli_core\")\n",
    "\n",
    "metabolites_indices = {met: i for i, met in enumerate(metabolite_list)}\n",
    "reaction_indices = {reac: n_mets + i for i, reac in enumerate(reaction_list)}"
   ]
  },
  {
   "cell_type": "code",
   "execution_count": 19,
   "metadata": {},
   "outputs": [],
   "source": [
    "## Output SIF file (for cytoscape visualization)\n",
    "\n",
    "# sif_data = gcn.model_to_sif_file(ecoli_core)\n",
    "# with open(\"../Data/e_coli_core_metabolic.sif\", \"w\") as f:\n",
    "#     f.write(sif_data)"
   ]
  },
  {
   "cell_type": "markdown",
   "metadata": {},
   "source": [
    "### Make stoichiometric graph and flux coupling graph"
   ]
  },
  {
   "cell_type": "code",
   "execution_count": 20,
   "metadata": {},
   "outputs": [],
   "source": [
    "A = gcn.model_to_A(model, metabolites_indices, reaction_indices, connect_self=True)\n",
    "coupling = gcn.calculate_flux_coupling(model)"
   ]
  },
  {
   "cell_type": "code",
   "execution_count": 21,
   "metadata": {},
   "outputs": [],
   "source": [
    "# Add flux coupling to graph matrix\n",
    "coupling_mat = np.zeros(shape=A.shape)\n",
    "coupling_mat[-n_reacs:, -n_reacs:] = coupling\n",
    "\n",
    "# Normalize A and coupling matrix\n",
    "coupling_hat = np.nan_to_num(gcn.normalized_adjacency_matrix(coupling_mat))\n",
    "\n",
    "D = np.diag(1 / np.abs(A).sum(1))\n",
    "A_hat = np.sqrt(D).dot(A).dot(np.sqrt(D))\n",
    "#A_hat[-1577:, -1577:] = coupling"
   ]
  },
  {
   "cell_type": "markdown",
   "metadata": {},
   "source": [
    "### Make Small molecule reaction network graph"
   ]
  },
  {
   "cell_type": "code",
   "execution_count": 22,
   "metadata": {},
   "outputs": [],
   "source": [
    "# n_mets = len(model.metabolites)\n",
    "# n_reacs = len(model.reactions)\n"
   ]
  },
  {
   "cell_type": "code",
   "execution_count": 23,
   "metadata": {},
   "outputs": [
    {
     "name": "stdout",
     "output_type": "stream",
     "text": [
      "0.0\n",
      "2488.0\n"
     ]
    }
   ],
   "source": [
    "if not model.id == \"iJO1366\":\n",
    "    print(\"WARNING: SMRN data is collected for E. coli. Using other metabolic networks might not work well\")\n",
    "    \n",
    "smrn_data = pd.read_csv(\"../Data/Small_molecule_regulatory_network/Reduced_smrn.csv\")\n",
    "smrn_mat = np.zeros(shape=A.shape)\n",
    "print(smrn_mat.sum())\n",
    "for idx, row in smrn_data.iterrows():\n",
    "    _, reac_id, mode, met_id = row.values\n",
    "    i = reaction_indices[reac_id]\n",
    "    j = metabolites_indices[met_id]\n",
    "    if mode == \"+\":\n",
    "        val = 1\n",
    "    elif mode == \"-\":\n",
    "        val = -1\n",
    "    else:\n",
    "        raise ValueError(mode)\n",
    "    smrn_mat[i, j] = smrn_mat[j, i] = val\n",
    "    \n",
    "print(abs(smrn_mat).sum())\n",
    "assert abs(smrn_mat).sum() == len(smrn_data) * 2\n",
    "\n",
    "smrn_hat = np.nan_to_num(gcn.normalized_adjacency_matrix(smrn_mat))"
   ]
  },
  {
   "cell_type": "markdown",
   "metadata": {},
   "source": [
    "### Prepare yeast AA data"
   ]
  },
  {
   "cell_type": "code",
   "execution_count": 32,
   "metadata": {},
   "outputs": [],
   "source": [
    "df = pd.read_csv(\"../Data/Processed_mulleder_data.tsv\", sep=\"\\t\", index_col=0)\n",
    "p_vals = pd.read_csv(\"../Data/Cleaned_p_vals.tsv\", sep=\"\\t\", index_col=0)"
   ]
  },
  {
   "cell_type": "code",
   "execution_count": 33,
   "metadata": {},
   "outputs": [],
   "source": [
    "amino_acids = [\n",
    "    \"alanine\",\n",
    "    #\"cysteine\",  # Cysteine is not in the data...\n",
    "    \"aspartate\",\n",
    "    \"glutamate\",\n",
    "    \"phenylalanine\",\n",
    "    \"glycine\",\n",
    "    \"histidine\",\n",
    "    \"isoleucine\",\n",
    "    \"lysine\",\n",
    "    \"leucine\",\n",
    "    \"methionine\",\n",
    "    \"asparagine\",\n",
    "    \"proline\",\n",
    "    \"glutamine\",\n",
    "    \"arginine\",\n",
    "    \"serine\",\n",
    "    \"threonine\",\n",
    "    \"valine\",\n",
    "    \"tryptophan\",\n",
    "    \"tyrosine\"\n",
    "]"
   ]
  },
  {
   "cell_type": "code",
   "execution_count": 34,
   "metadata": {},
   "outputs": [],
   "source": [
    "aa_to_metabolite = {\n",
    "    \"alanine\": \"ala__L_c\",\n",
    "    \"cysteine\": \"cys__L_c\",\n",
    "    \"aspartate\": \"asp__L_c\",\n",
    "    \"glutamate\": \"glu__L_c\",\n",
    "    \"phenylalanine\": \"phe__L_c\",\n",
    "    \"glycine\": \"gly_c\",\n",
    "    \"histidine\": \"his__L_c\",\n",
    "    \"isoleucine\": \"ile__L_c\",\n",
    "    \"lysine\": \"lys__L_c\",\n",
    "    \"leucine\": \"leu__L_c\",\n",
    "    \"methionine\": \"met__L_c\",\n",
    "    \"asparagine\": \"asn__L_c\",\n",
    "    \"proline\": \"pro__L_c\",\n",
    "    \"glutamine\": \"gln__L_c\",\n",
    "    \"arginine\": \"arg__L_c\",\n",
    "    \"serine\": \"ser__L_c\",\n",
    "    \"threonine\": \"thr__L_c\",\n",
    "    \"valine\": \"val__L_c\",\n",
    "    \"tryptophan\": \"trp__L_c\",\n",
    "    \"tyrosine\": \"tyr__L_c\"\n",
    "}"
   ]
  },
  {
   "cell_type": "code",
   "execution_count": 35,
   "metadata": {},
   "outputs": [],
   "source": [
    "index_mask = np.array([metabolites_indices[aa_to_metabolite[aa]] for aa in amino_acids])"
   ]
  },
  {
   "cell_type": "code",
   "execution_count": 36,
   "metadata": {},
   "outputs": [],
   "source": [
    "aa_indices = {aa: metabolites_indices[aa_to_metabolite[aa]] for aa in aa_to_metabolite}"
   ]
  },
  {
   "cell_type": "code",
   "execution_count": 38,
   "metadata": {},
   "outputs": [
    {
     "name": "stdout",
     "output_type": "stream",
     "text": [
      "618\n",
      "341\n"
     ]
    }
   ],
   "source": [
    "data = df[df[\"metabolic\"]].copy()\n",
    "print(len(data))\n",
    "\n",
    "data.loc[:, amino_acids] = np.log10(data[amino_acids] / data[amino_acids].mean(0))\n",
    "\n",
    "data = data[data[\"reactions\"] != \"set()\"]\n",
    "print(len(data))"
   ]
  },
  {
   "cell_type": "code",
   "execution_count": 39,
   "metadata": {},
   "outputs": [],
   "source": [
    "cat_df = data.copy()\n",
    "for idx, row in data.iterrows():\n",
    "    orf = row[\"ORF\"]\n",
    "    for aa in amino_acids:\n",
    "        if p_vals.loc[orf, aa] > 0.05:\n",
    "            lev = 1\n",
    "        else:\n",
    "            if row[aa] > 0:\n",
    "                lev = 2\n",
    "            else:\n",
    "                lev = 0\n",
    "        cat_df.loc[idx, aa] = lev"
   ]
  },
  {
   "cell_type": "markdown",
   "metadata": {},
   "source": [
    "### Prepare E. coli genome-wide data"
   ]
  },
  {
   "cell_type": "code",
   "execution_count": 24,
   "metadata": {},
   "outputs": [
    {
     "name": "stdout",
     "output_type": "stream",
     "text": [
      "3807\n",
      "1064\n"
     ]
    }
   ],
   "source": [
    "data_df = pd.read_csv(\"../Data/Genome-wide/Metabolite_z_values_with_reactions.tsv\", sep=\"\\t\", index_col=0)\n",
    "print(len(data_df))\n",
    "data_df = data_df[data_df[\"REACTIONS\"].notnull()]  # Only use metabolic gene data\n",
    "print(len(data_df))\n",
    "data_mets = list(data_df.columns[:-1])\n",
    "\n",
    "def get_met_index(name):\n",
    "    try:\n",
    "        return metabolites_indices[name + \"_c\"]\n",
    "    except KeyError:\n",
    "        return metabolites_indices[name + \"_p\"]\n",
    "\n",
    "data_indices = [get_met_index(m) for m in data_mets]"
   ]
  },
  {
   "cell_type": "code",
   "execution_count": 25,
   "metadata": {},
   "outputs": [],
   "source": [
    "X = np.zeros([len(data_df), n_mets + n_reacs])\n",
    "for i, reacs in enumerate(data_df[\"REACTIONS\"]):\n",
    "    reacs = reacs.split(\", \")\n",
    "    for reac in reacs:\n",
    "        reac_idx = reaction_indices[reac]\n",
    "        X[i, reac_idx] = 1\n",
    "        \n",
    "met_mask = np.zeros_like(X)\n",
    "for i in metabolites_indices.values():\n",
    "    met_mask[:, i] = 1\n",
    "    \n",
    "reac_mask = np.zeros_like(X)\n",
    "for i in reaction_indices.values():\n",
    "    reac_mask[:, i] = 1\n",
    "    \n",
    "fluxes = np.zeros_like(X)\n",
    "flux_dict = cameo.pfba(model).fluxes\n",
    "for rid, flux in flux_dict.items():\n",
    "    i = reaction_indices[rid]\n",
    "    fluxes[:, i] = flux\n",
    "    \n",
    "# ko_fluxes = np.zeros_like(X)\n",
    "# for i, kos in enumerate(data[\"affected_reactions\"]):\n",
    "#     kos = ast.literal_eval(kos)\n",
    "#     with cameo.util.TimeMachine() as tm:\n",
    "#         for ko in kos:\n",
    "#             model.reactions.get_by_id(ko).knock_out(tm)\n",
    "#         try:\n",
    "#             flux = cameo.pfba(model).fluxes\n",
    "#         except cameo.exceptions.SolveError:\n",
    "#             flux = {r.id: 0 for r in model.reactions}\n",
    "#         for r in model.reactions:\n",
    "#             r_i = reaction_indices[r.id]\n",
    "#             ko_fluxes[i, r_i] = flux[r.id]\n",
    "            \n",
    "\n",
    "Y = np.zeros(shape=X.shape)\n",
    "for i, (idx, row) in enumerate(data_df[data_mets].iterrows()):\n",
    "    Y[i, [data_indices]] = (row.abs() > 1.92).astype(\"int\")\n",
    "    \n",
    "    \n",
    "# cat_Y = np.zeros(shape=X.shape, dtype=\"int\")\n",
    "# affected = np.zeros(shape=X.shape[0], dtype=\"int\")\n",
    "# for i, (idx, row) in enumerate(cat_df[amino_acids].iterrows()):\n",
    "#     for aa, num in row.items():\n",
    "#         j = metabolites_indices[aa_to_metabolite[aa]]\n",
    "#         cat_Y[i, j] = num\n",
    "#         if num != 1:\n",
    "#             affected[i] = 1\n",
    "\n",
    "X = np.stack([X, met_mask, fluxes], axis=2)\n",
    "Y = np.stack([Y], axis=2)"
   ]
  },
  {
   "cell_type": "code",
   "execution_count": 26,
   "metadata": {},
   "outputs": [],
   "source": [
    "adjacency = np.stack([A_hat, coupling_hat, smrn_hat], axis=2)"
   ]
  },
  {
   "cell_type": "code",
   "execution_count": 27,
   "metadata": {},
   "outputs": [],
   "source": [
    "### Export the E coli data\n",
    "np.savez_compressed(\n",
    "    \"../Data/NN_e_coli_data.npz\",\n",
    "    [X, Y, A_hat, adjacency],\n",
    "    [\"X\", \"Y\", \"A_hat\", \"adjacency\"]\n",
    ")"
   ]
  },
  {
   "cell_type": "code",
   "execution_count": 28,
   "metadata": {},
   "outputs": [],
   "source": [
    "with open(\"../Data/Genome-wide/Measured_metabolite_indices.json\", \"w\") as outfile:\n",
    "    json.dump(data_indices, outfile)"
   ]
  },
  {
   "cell_type": "markdown",
   "metadata": {},
   "source": [
    "### Export data (yeast AA)"
   ]
  },
  {
   "cell_type": "code",
   "execution_count": 40,
   "metadata": {},
   "outputs": [
    {
     "ename": "KeyError",
     "evalue": "'CYTDt2'",
     "output_type": "error",
     "traceback": [
      "\u001b[0;31m---------------------------------------------------------------------------\u001b[0m",
      "\u001b[0;31mKeyError\u001b[0m                                  Traceback (most recent call last)",
      "\u001b[0;32m<ipython-input-40-ee05f42ffafe>\u001b[0m in \u001b[0;36m<module>\u001b[0;34m()\u001b[0m\n\u001b[1;32m      5\u001b[0m         \u001b[0mreacs\u001b[0m \u001b[0;34m=\u001b[0m \u001b[0;34m\"[]\"\u001b[0m\u001b[0;34m\u001b[0m\u001b[0m\n\u001b[1;32m      6\u001b[0m     \u001b[0;32mfor\u001b[0m \u001b[0mreac\u001b[0m \u001b[0;32min\u001b[0m \u001b[0mast\u001b[0m\u001b[0;34m.\u001b[0m\u001b[0mliteral_eval\u001b[0m\u001b[0;34m(\u001b[0m\u001b[0mreacs\u001b[0m\u001b[0;34m)\u001b[0m\u001b[0;34m:\u001b[0m\u001b[0;34m\u001b[0m\u001b[0m\n\u001b[0;32m----> 7\u001b[0;31m         \u001b[0mj\u001b[0m \u001b[0;34m=\u001b[0m \u001b[0mreaction_indices\u001b[0m\u001b[0;34m[\u001b[0m\u001b[0mreac\u001b[0m\u001b[0;34m]\u001b[0m\u001b[0;34m\u001b[0m\u001b[0m\n\u001b[0m\u001b[1;32m      8\u001b[0m         \u001b[0mX\u001b[0m\u001b[0;34m[\u001b[0m\u001b[0mi\u001b[0m\u001b[0;34m,\u001b[0m \u001b[0mj\u001b[0m\u001b[0;34m]\u001b[0m \u001b[0;34m=\u001b[0m \u001b[0;36m1\u001b[0m\u001b[0;34m\u001b[0m\u001b[0m\n\u001b[1;32m      9\u001b[0m \u001b[0;34m\u001b[0m\u001b[0m\n",
      "\u001b[0;31mKeyError\u001b[0m: 'CYTDt2'"
     ]
    }
   ],
   "source": [
    "X = np.zeros([len(data), n_mets + n_reacs])\n",
    "empty_X = X\n",
    "for i, reacs in enumerate(data[\"reactions\"]):\n",
    "    if reacs == 'set()':\n",
    "        reacs = \"[]\"\n",
    "    for reac in ast.literal_eval(reacs):\n",
    "        j = reaction_indices[reac]\n",
    "        X[i, j] = 1\n",
    "  \n",
    "        \n",
    "met_mask = np.zeros_like(X)\n",
    "for i in metabolites_indices.values():\n",
    "    met_mask[:, i] = 1\n",
    "    \n",
    "reac_mask = np.zeros_like(X)\n",
    "for i in reaction_indices.values():\n",
    "    reac_mask[:, i] = 1\n",
    "    \n",
    "fluxes = np.zeros_like(X)\n",
    "flux_dict = cameo.pfba(model).fluxes\n",
    "for rid, flux in flux_dict.items():\n",
    "    i = reaction_indices[rid]\n",
    "    fluxes[:, i] = flux\n",
    "    \n",
    "ko_fluxes = np.zeros_like(X)\n",
    "for i, kos in enumerate(data[\"affected_reactions\"]):\n",
    "    kos = ast.literal_eval(kos)\n",
    "    with cameo.util.TimeMachine() as tm:\n",
    "        for ko in kos:\n",
    "            model.reactions.get_by_id(ko).knock_out(tm)\n",
    "        try:\n",
    "            flux = cameo.pfba(model).fluxes\n",
    "        except cameo.exceptions.SolveError:\n",
    "            flux = {r.id: 0 for r in model.reactions}\n",
    "        for r in model.reactions:\n",
    "            r_i = reaction_indices[r.id]\n",
    "            ko_fluxes[i, r_i] = flux[r.id]\n",
    "        \n",
    "Y = np.zeros([len(data), n_mets + n_reacs])\n",
    "for i, (idx, row) in enumerate(data[amino_acids].iterrows()):\n",
    "    for aa, num in row.items():\n",
    "        j = metabolites_indices[aa_to_metabolite[aa]]\n",
    "        Y[i, j] = num\n",
    "        \n",
    "cat_Y = np.zeros([len(data), n_mets + n_reacs], dtype=\"int\")\n",
    "affected = np.zeros(len(data), dtype=\"int\")\n",
    "for i, (idx, row) in enumerate(cat_df[amino_acids].iterrows()):\n",
    "    for aa, num in row.items():\n",
    "        j = metabolites_indices[aa_to_metabolite[aa]]\n",
    "        cat_Y[i, j] = num\n",
    "        if num != 1:\n",
    "            affected[i] = 1\n",
    "\n",
    "cat_Y = np.stack([cat_Y==0, cat_Y==1, cat_Y==2], axis=2).astype(\"int\")        \n",
    "\n",
    "X = np.stack([X, met_mask, fluxes, ko_fluxes], axis=2)\n",
    "Y = np.stack([Y], axis=2)\n",
    "\n",
    "# Subtract mean concentration:\n",
    "# Y = Y / Y.mean(axis=0)\n",
    "# for aa in amino_acids:\n",
    "#     i = metabolites_indices[aa_to_metabolite[aa]]\n",
    "#     Y[:, i] = np.log10(Y[:, i] / Y[:, i].mean())\n",
    "\n",
    "print(affected.sum())"
   ]
  },
  {
   "cell_type": "code",
   "execution_count": 43,
   "metadata": {},
   "outputs": [],
   "source": [
    "double_A = np.stack([A_hat, coupling_hat])"
   ]
  },
  {
   "cell_type": "code",
   "execution_count": 44,
   "metadata": {},
   "outputs": [
    {
     "data": {
      "text/plain": [
       "array([ 149, 6068,  262])"
      ]
     },
     "execution_count": 44,
     "metadata": {},
     "output_type": "execute_result"
    }
   ],
   "source": [
    "cat_Y[:, index_mask].sum(0).sum(0)"
   ]
  },
  {
   "cell_type": "code",
   "execution_count": 41,
   "metadata": {},
   "outputs": [],
   "source": [
    "counts, lims = np.histogram(data[amino_acids].values.flatten(), bins=20)\n",
    "def sort_to_bin_count(num):\n",
    "    for c, l in zip(counts, lims[1:]):\n",
    "        if num <= l:\n",
    "            count = c\n",
    "            break\n",
    "    else:\n",
    "        raise RuntimeError(\"Number is too large: \" + str(num))\n",
    "    return count\n",
    "\n",
    "density_data = data[amino_acids].copy()\n",
    "for aa in amino_acids:\n",
    "    density_data[aa] = data[aa].map(sort_to_bin_count)\n",
    "\n",
    "weight_mask = np.zeros_like(empty_X)\n",
    "\n",
    "flatten_factor = 100\n",
    "\n",
    "for aa in amino_acids:\n",
    "    aa_index = metabolites_indices[aa_to_metabolite[aa]]\n",
    "    weight_mask[:, aa_index] = 1 / (density_data[aa] + (flatten_factor - 1)) * flatten_factor"
   ]
  },
  {
   "cell_type": "code",
   "execution_count": 58,
   "metadata": {},
   "outputs": [],
   "source": [
    "import json\n",
    "with open(\"../Data/aa_indices.json\", \"w\") as f:\n",
    "    json.dump(aa_indices, f)"
   ]
  },
  {
   "cell_type": "code",
   "execution_count": 47,
   "metadata": {},
   "outputs": [
    {
     "data": {
      "text/plain": [
       "(341, 2803)"
      ]
     },
     "execution_count": 47,
     "metadata": {},
     "output_type": "execute_result"
    }
   ],
   "source": [
    "(cat_Y[:, :, 0] != 1).shape"
   ]
  },
  {
   "cell_type": "code",
   "execution_count": 48,
   "metadata": {},
   "outputs": [],
   "source": [
    "np.savez_compressed(\n",
    "    \"../Data/NN_data.npz\",\n",
    "    [X, Y, cat_Y, A_hat, weight_mask, affected, double_A],\n",
    "    [\"X\", \"Y\", \"cat_Y\", \"A_hat\", \"weight_mask\", \"affected\", \"double_A\"]\n",
    ")"
   ]
  },
  {
   "cell_type": "code",
   "execution_count": 203,
   "metadata": {},
   "outputs": [
    {
     "data": {
      "text/plain": [
       "1.3376668977202772"
      ]
     },
     "execution_count": 203,
     "metadata": {},
     "output_type": "execute_result"
    }
   ],
   "source": [
    "((data[550:][amino_acids] - data[:550][amino_acids].mean())**2).values.mean()"
   ]
  },
  {
   "cell_type": "code",
   "execution_count": 205,
   "metadata": {},
   "outputs": [
    {
     "data": {
      "text/plain": [
       "56.186304967972902"
      ]
     },
     "execution_count": 205,
     "metadata": {},
     "output_type": "execute_result"
    }
   ],
   "source": [
    "((data[550:][amino_acids] - data[:550][amino_acids].values.mean())**2).values.mean()"
   ]
  },
  {
   "cell_type": "code",
   "execution_count": 29,
   "metadata": {},
   "outputs": [
    {
     "data": {
      "text/plain": [
       "1485"
      ]
     },
     "execution_count": 29,
     "metadata": {},
     "output_type": "execute_result"
    }
   ],
   "source": [
    "reaction_indices[\"ATPM\"]"
   ]
  },
  {
   "cell_type": "code",
   "execution_count": 53,
   "metadata": {},
   "outputs": [],
   "source": [
    "A_hat_2 = A_hat.copy()\n",
    "for i in range(len(A_hat)):\n",
    "    A_hat_2[i, i] = 0.7"
   ]
  },
  {
   "cell_type": "code",
   "execution_count": 36,
   "metadata": {},
   "outputs": [],
   "source": [
    "import seaborn as sbn"
   ]
  },
  {
   "cell_type": "code",
   "execution_count": 75,
   "metadata": {},
   "outputs": [
    {
     "data": {
      "text/plain": [
       "<matplotlib.axes._subplots.AxesSubplot at 0x114c6bac8>"
      ]
     },
     "execution_count": 75,
     "metadata": {},
     "output_type": "execute_result"
    },
    {
     "data": {
      "image/png": "[encoded data removed]",
      "text/plain": [
       "<matplotlib.figure.Figure at 0x114c0ff28>"
      ]
     },
     "metadata": {},
     "output_type": "display_data"
    }
   ],
   "source": [
    "#plot_data = data[data]\n",
    "plt.figure(figsize=[14, 7])\n",
    "sbn.distplot(data[amino_acids].values.flatten(), kde=False, bins=20)"
   ]
  },
  {
   "cell_type": "code",
   "execution_count": 83,
   "metadata": {
    "collapsed": true
   },
   "outputs": [],
   "source": [
    "density_data = data[amino_acids].copy()\n",
    "for aa in amino_acids:\n",
    "    density_data[aa] = data[aa].map(sort_to_bin_count)"
   ]
  }
 ],
 "metadata": {
  "anaconda-cloud": {},
  "kernelspec": {
   "display_name": "Python 3",
   "language": "python",
   "name": "python3"
  },
  "language_info": {
   "codemirror_mode": {
    "name": "ipython",
    "version": 3
   },
   "file_extension": ".py",
   "mimetype": "text/x-python",
   "name": "python",
   "nbconvert_exporter": "python",
   "pygments_lexer": "ipython3",
   "version": "3.6.8"
  }
 },
 "nbformat": 4,
 "nbformat_minor": 1
}
