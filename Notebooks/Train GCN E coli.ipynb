{
 "cells": [
  {
   "cell_type": "code",
   "execution_count": 1,
   "metadata": {},
   "outputs": [],
   "source": [
    "from __future__ import print_function\n",
    "import theano\n",
    "import theano.tensor as T\n",
    "import numpy as np\n",
    "import lasagne\n",
    "import math\n",
    "import matplotlib.pyplot as plt\n",
    "from IPython import display\n",
    "import random\n",
    "import scipy\n",
    "import json\n",
    "import pandas as pd"
   ]
  },
  {
   "cell_type": "code",
   "execution_count": 2,
   "metadata": {},
   "outputs": [],
   "source": [
    "%matplotlib inline"
   ]
  },
  {
   "cell_type": "code",
   "execution_count": 3,
   "metadata": {},
   "outputs": [],
   "source": [
    "# class GCNLayer(lasagne.layers.Layer):\n",
    "#     def __init__(\n",
    "#         self, incoming, A_hat, num_out_features=3,\n",
    "#         W=lasagne.init.GlorotUniform(),\n",
    "#         nonlinearity=lasagne.nonlinearities.sigmoid,\n",
    "#         **kwargs\n",
    "#     ):\n",
    "#         \n",
    "#         super(GCNLayer, self).__init__(incoming, **kwargs)\n",
    "#         self.A_hat = A_hat\n",
    "#         self.num_out_features = num_out_features\n",
    "#         if nonlinearity is None:\n",
    "#             nonlinearity = lasagne.nonlinearities.linear\n",
    "#         self.nonlinearity = nonlinearity\n",
    "#         \n",
    "#         self.W = self.add_param(W, [incoming.output_shape[2], num_out_features], name=\"W\")\n",
    "#         \n",
    "#     def get_output_shape_for(self, input_shape):\n",
    "#         return (input_shape[0], input_shape[1], self.num_out_features)\n",
    "#     \n",
    "#     def get_output_for(self, input, **kwargs):\n",
    "#         A_X = T.tensordot(self.A_hat, input, axes=[1, 1]).transpose(1, 0, 2)\n",
    "#         Z = T.dot(A_X, self.W)\n",
    "#         return self.nonlinearity(Z)\n",
    "    \n",
    "class GCNLayer(lasagne.layers.Layer):\n",
    "    \"\"\"\n",
    "    A Graph Convolution Net layer.\n",
    "    \n",
    "    A_hat: A \"square\" 3-dimensional tensor, consisting of one or more normalized adjacency matrices, stacked in\n",
    "        the second dimension. E.g. shape (2, 1000, 1000)\n",
    "    num_out_features: The number of features to extract from the input.\n",
    "    num_graphs: The number of different adjacency matrices contained in A_hat. Must be equal to A_hat.shape[0]\n",
    "    nonlinearity: A theano-compatible nonlinearity function.\n",
    "    \"\"\"\n",
    "    def __init__(\n",
    "        self, incoming, A_hat, num_out_features=3, num_graphs=3,\n",
    "        W=lasagne.init.GlorotUniform(),\n",
    "        nonlinearity=lasagne.nonlinearities.sigmoid,\n",
    "        **kwargs\n",
    "    ):\n",
    "        \n",
    "        super(GCNLayer, self).__init__(incoming, **kwargs)\n",
    "        self.A_hat = A_hat\n",
    "        self.num_graphs = num_graphs\n",
    "        self.num_out_features = num_out_features\n",
    "        if nonlinearity is None:\n",
    "            nonlinearity = lasagne.nonlinearities.linear\n",
    "        self.nonlinearity = nonlinearity\n",
    "        \n",
    "        # print([self.num_graphs, incoming.output_shape[2], num_out_features])\n",
    "        self.W = self.add_param(W, [self.num_graphs, incoming.output_shape[2], num_out_features], name=\"W\")\n",
    "        \n",
    "    def get_output_shape_for(self, input_shape):\n",
    "        return (input_shape[0], input_shape[1], self.num_out_features)\n",
    "    \n",
    "    def get_output_for(self, input, **kwargs):\n",
    "        A_X = T.tensordot(self.A_hat, input, axes=[1, 1]).transpose(2, 1, 0, 3)\n",
    "        Z = T.tensordot(A_X, self.W, axes=2)\n",
    "        return self.nonlinearity(Z)\n",
    "    \n",
    "def special_softmax(t):\n",
    "    \"\"\"\n",
    "    Function that applies the softmax function over the last dimension, keeping the remaining shape\n",
    "    of the input tensor intact.\n",
    "    \"\"\"\n",
    "    #num = T.exp(t)\n",
    "    #den = num.sum(2, keepdims=True)\n",
    "    #return num / den\n",
    "    t2 = t.reshape((-1, t.shape[-1]))\n",
    "    t2 = lasagne.nonlinearities.softmax(t2)\n",
    "    return t2.reshape(t.shape)\n",
    "\n",
    "class ConfusionMatrix(object):\n",
    "    def __init__(self, preds, reals):\n",
    "        assert len(preds) == len(reals)\n",
    "        self.preds = preds\n",
    "        self.reals = reals\n",
    "        classes = sorted(set(preds) | set(reals))\n",
    "        mat = np.zeros([len(classes), len(classes)], dtype=\"int\")\n",
    "        for real, pred in zip(reals, preds):\n",
    "            mat[classes.index(real), classes.index(pred)] += 1\n",
    "        self.mat = mat     \n",
    "            \n",
    "    def __str__(self):\n",
    "        return str(self.mat)\n",
    "    \n",
    "    def bac(self):\n",
    "        return (self.mat.diagonal() / self.mat.sum(1)).mean()"
   ]
  },
  {
   "cell_type": "code",
   "execution_count": 4,
   "metadata": {},
   "outputs": [],
   "source": [
    "# with open(\"../Data/aa_indices.json\") as f:\n",
    "#     aa_indices = json.load(f)\n",
    "# del aa_indices[\"cysteine\"]"
   ]
  },
  {
   "cell_type": "code",
   "execution_count": 5,
   "metadata": {},
   "outputs": [],
   "source": [
    "with open(\"../Data/Genome-wide/Measured_metabolite_indices.json\") as infile:\n",
    "    data_indices = json.load(infile)"
   ]
  },
  {
   "cell_type": "code",
   "execution_count": 6,
   "metadata": {},
   "outputs": [],
   "source": [
    "loaded = np.load(\"../Data/NN_e_coli_data.npz\")\n",
    "data = dict(zip(loaded[\"arr_1\"], loaded[\"arr_0\"]))"
   ]
  },
  {
   "cell_type": "code",
   "execution_count": 7,
   "metadata": {},
   "outputs": [
    {
     "data": {
      "text/plain": [
       "310"
      ]
     },
     "execution_count": 7,
     "metadata": {},
     "output_type": "execute_result"
    }
   ],
   "source": [
    "len(data_indices)"
   ]
  },
  {
   "cell_type": "code",
   "execution_count": 8,
   "metadata": {},
   "outputs": [
    {
     "name": "stdout",
     "output_type": "stream",
     "text": [
      "[311916.  17924.]\n",
      "0.9456585010914382\n",
      "[249622.  14188.]\n",
      "0.9462188696410295\n",
      "[62294.  3736.]\n"
     ]
    }
   ],
   "source": [
    "# loaded = np.load(\"../Data/NN_e_coli_data.npz\")\n",
    "# data = dict(zip(loaded[\"arr_1\"], loaded[\"arr_0\"]))\n",
    "X = data[\"X\"].astype(\"float32\")\n",
    "Y = data[\"Y\"].astype(\"float32\")\n",
    "\n",
    "splitpoint = int(X.shape[0] * 0.8)\n",
    "\n",
    "order = random.sample(range(len(X)), len(X))\n",
    "X = X[order]\n",
    "Y = Y[order]\n",
    "\n",
    "# Only predict measured metabolites\n",
    "data_mask = np.zeros(shape=(Y.shape[0], Y.shape[1], 1))\n",
    "data_mask[:, data_indices] = 1\n",
    "\n",
    "Y = np.concatenate([(Y == 0).astype(\"int\"), (Y == 1).astype(\"int\")], axis=2)\n",
    "Y = Y * data_mask\n",
    "\n",
    "A_hat = data[\"adjacency\"].astype(\"float32\").transpose(2, 0, 1)\n",
    "\n",
    "# Amplify knockout signal\n",
    "X[:, :, 0] *= 3000\n",
    "\n",
    "X_train = X[:splitpoint]\n",
    "Y_train = Y[:splitpoint]\n",
    "X_test  = X[splitpoint:]\n",
    "Y_test  = Y[splitpoint:]\n",
    "\n",
    "mask_train = data_mask[:splitpoint]\n",
    "mask_test = data_mask[splitpoint:]\n",
    "\n",
    "cat_counts = Y.sum(1).sum(0)\n",
    "cat_factors = [cat_counts.max() / cnt for cnt in cat_counts]\n",
    "print(cat_counts)\n",
    "print(cat_counts[0] / sum(cat_counts))\n",
    "\n",
    "train_cat_counts = Y_train.sum(1).sum(0)\n",
    "train_cat_factors = [train_cat_counts.max() / cnt for cnt in train_cat_counts]\n",
    "print(train_cat_counts)\n",
    "print(train_cat_counts[0] / sum(train_cat_counts))\n",
    "\n",
    "print(np.array(cat_counts) - np.array(train_cat_counts))\n",
    "\n",
    "for i, fact in enumerate(train_cat_factors):\n",
    "    mask_train[:, :, 0] *= (Y_train[:, :, i] == 1).astype(\"int\") * (fact - 1) + 1"
   ]
  },
  {
   "cell_type": "code",
   "execution_count": 9,
   "metadata": {},
   "outputs": [
    {
     "data": {
      "text/plain": [
       "[1.0, 17.593882153932903]"
      ]
     },
     "execution_count": 9,
     "metadata": {},
     "output_type": "execute_result"
    }
   ],
   "source": [
    "train_cat_factors"
   ]
  },
  {
   "cell_type": "code",
   "execution_count": 10,
   "metadata": {},
   "outputs": [],
   "source": [
    "# X_train = X_train[\"valine\"]\n",
    "# Y_train = Y_train[\"valine\"]\n",
    "# mask_train = mask_train[\"valine\"]\n",
    "# \n",
    "# X_test = X_test[\"valine\"]\n",
    "# Y_test = Y_test[\"valine\"]\n",
    "# mask_test = mask_test[\"valine\"]"
   ]
  },
  {
   "cell_type": "code",
   "execution_count": 11,
   "metadata": {},
   "outputs": [
    {
     "name": "stdout",
     "output_type": "stream",
     "text": [
      "908 parameters\n"
     ]
    }
   ],
   "source": [
    "BATCH_SIZE = 100\n",
    "NUM_INPUTS = X_train.shape[2]\n",
    "NUM_OUTPUTS = Y.shape[-1]\n",
    "\n",
    "x_sym = T.tensor3(\"x_sym\")\n",
    "y_sym = T.tensor3(\"y_sym\")\n",
    "#A_sym = T.matrix(\"A_sym\")\n",
    "A_sym = T.tensor3(\"A_sym\")\n",
    "ymask_sym = T.tensor3(\"ymask_sym\")\n",
    "\n",
    "l_in = lasagne.layers.InputLayer((None, X.shape[1], NUM_INPUTS))\n",
    "\n",
    "l_1 = GCNLayer(l_in, A_sym, num_out_features=3, nonlinearity=lasagne.nonlinearities.leaky_rectify) # 5\n",
    "l_2 = GCNLayer(l_1, A_sym, num_out_features=5, nonlinearity=lasagne.nonlinearities.leaky_rectify) # 7\n",
    "l_3 = GCNLayer(l_2, A_sym, num_out_features=7, nonlinearity=lasagne.nonlinearities.leaky_rectify) # 9\n",
    "l_4 = GCNLayer(l_3, A_sym, num_out_features=9, nonlinearity=lasagne.nonlinearities.leaky_rectify) # 13\n",
    "l_5 = GCNLayer(l_4, A_sym, num_out_features=7, nonlinearity=lasagne.nonlinearities.leaky_rectify)\n",
    "\n",
    "l_concat = lasagne.layers.ConcatLayer([\n",
    "    l_1,\n",
    "    l_2,\n",
    "    l_3,\n",
    "    l_4,\n",
    "    # l_5\n",
    "], axis=2)\n",
    "\n",
    "# Dense: 50 units, leaky_rectify\n",
    "# l_slice = lasagne.layers.SliceLayer(l_concat, indices=slice(0, 310), axis=1)\n",
    "l_dense = lasagne.layers.DenseLayer(l_concat, num_units=20, num_leading_axes=2, nonlinearity=lasagne.nonlinearities.leaky_rectify)\n",
    "l_drop = lasagne.layers.DropoutLayer(l_dense)\n",
    "\n",
    "l_out = lasagne.layers.DenseLayer(l_drop, num_units=NUM_OUTPUTS, num_leading_axes=2, nonlinearity=special_softmax)\n",
    "\n",
    "\n",
    "all_params = lasagne.layers.get_all_params(l_out, trainable=True)\n",
    "print(sum(w.eval().size for w in all_params), \"parameters\")"
   ]
  },
  {
   "cell_type": "code",
   "execution_count": 12,
   "metadata": {},
   "outputs": [
    {
     "data": {
      "text/plain": [
       "(24, 20)"
      ]
     },
     "execution_count": 12,
     "metadata": {},
     "output_type": "execute_result"
    }
   ],
   "source": [
    "l_dense.W.eval().shape"
   ]
  },
  {
   "cell_type": "code",
   "execution_count": 13,
   "metadata": {},
   "outputs": [],
   "source": [
    "#theano.config.exception_verbosity = \"high\""
   ]
  },
  {
   "cell_type": "code",
   "execution_count": 14,
   "metadata": {
    "scrolled": false
   },
   "outputs": [
    {
     "name": "stdout",
     "output_type": "stream",
     "text": [
      "Input layer (100, 4388, 3)\n"
     ]
    },
    {
     "name": "stderr",
     "output_type": "stream",
     "text": [
      "WARNING (theano.configdefaults): install mkl with `conda install mkl-service`: No module named 'mkl'\n"
     ]
    },
    {
     "name": "stdout",
     "output_type": "stream",
     "text": [
      "Conv layer (100, 4388, 3)\n",
      "Conv layer (100, 4388, 5)\n",
      "Concat layer (100, 4388, 24)\n",
      "Dense layer (100, 4388, 20)\n",
      "Drop layer (100, 4388, 20)\n",
      "Output layer (100, 4388, 2)\n"
     ]
    }
   ],
   "source": [
    "print(\"Input layer\", lasagne.layers.get_output(l_in, inputs={l_in: x_sym}).eval({x_sym: X[:100]}).shape)\n",
    "\n",
    "print(\"Conv layer\", lasagne.layers.get_output(l_1, inputs={l_in: x_sym}).eval({x_sym: X[:100], A_sym: A_hat}).shape)\n",
    "\n",
    "print(\"Conv layer\", lasagne.layers.get_output(l_2, inputs={l_in: x_sym}).eval({x_sym: X[:100], A_sym: A_hat}).shape)\n",
    "\n",
    "print(\"Concat layer\", lasagne.layers.get_output(l_concat, inputs={l_in: x_sym}).eval({x_sym: X[:100], A_sym: A_hat}).shape)\n",
    "\n",
    "print(\"Dense layer\", lasagne.layers.get_output(l_dense, inputs={l_in: x_sym}).eval({x_sym: X[:100], A_sym: A_hat}).shape)\n",
    "\n",
    "print(\"Drop layer\", lasagne.layers.get_output(l_drop, inputs={l_in: x_sym}).eval({x_sym: X[:100], A_sym: A_hat}).shape)\n",
    "\n",
    "print(\"Output layer\", lasagne.layers.get_output(l_out, inputs={l_in: x_sym}).eval({x_sym: X[:100], A_sym: A_hat}).shape)\n"
   ]
  },
  {
   "cell_type": "code",
   "execution_count": 15,
   "metadata": {},
   "outputs": [],
   "source": [
    "# Retrieve network output\n",
    "train_out = lasagne.layers.get_output(l_out, inputs={l_in: x_sym}, deterministic=False)\n",
    "eval_out = lasagne.layers.get_output(l_out, inputs={l_in: x_sym}, deterministic=True)\n",
    "\n",
    "all_params = lasagne.layers.get_all_params(l_out, trainable=True)\n",
    "\n",
    "# cost = T.nnet.categorical_crossentropy(train_out+1e-8, y_sym).mean()\n",
    "# cost = lasagne.objectives.squared_error(train_out, y_sym)\n",
    "cost = lasagne.objectives.categorical_crossentropy(train_out+1e-8, y_sym)\n",
    "cost = lasagne.objectives.aggregate(cost, weights=ymask_sym[:, :, 0], mode=\"mean\")\n",
    "\n",
    "# cost = lasagne.objectives.categorical_crossentropy(train_out+1e-8, y_sym)\n",
    "# cost = lasagne.objectives.aggregate(cost, weights=ymask_sym[:, :, 0], mode=\"mean\")\n",
    "\n",
    "#cost_eval = lasagne.objectives.squared_error(eval_out, y_sym)\n",
    "\n",
    "all_grads = T.grad(cost, all_params)\n",
    "\n",
    "updates = lasagne.updates.adamax(all_grads, all_params, learning_rate=0.06) #, learning_rate=0.002)\n",
    "\n",
    "f_eval = theano.function([x_sym, A_sym],\n",
    "                     eval_out, on_unused_input='warn')\n",
    "\n",
    "cost_eval = theano.function([x_sym, y_sym, A_sym, ymask_sym],\n",
    "                     cost, on_unused_input='warn')\n",
    "\n",
    "f_train = theano.function(\n",
    "    [x_sym, y_sym, A_sym, ymask_sym],\n",
    "    cost,\n",
    "    updates=updates, on_unused_input='warn'\n",
    ")"
   ]
  },
  {
   "cell_type": "code",
   "execution_count": 16,
   "metadata": {},
   "outputs": [
    {
     "data": {
      "text/plain": [
       "(3, 4388, 4388)"
      ]
     },
     "execution_count": 16,
     "metadata": {},
     "output_type": "execute_result"
    }
   ],
   "source": [
    "A_hat.shape"
   ]
  },
  {
   "cell_type": "code",
   "execution_count": 17,
   "metadata": {
    "scrolled": false
   },
   "outputs": [
    {
     "data": {
      "image/png": "[encoded data removed]",
      "text/plain": [
       "<IPython.core.display.Image object>"
      ]
     },
     "metadata": {},
     "output_type": "display_data"
    },
    {
     "name": "stdout",
     "output_type": "stream",
     "text": [
      "[[62177   117]\n",
      " [ 3717    19]]\n",
      "0.5016037312944923\n",
      "\n",
      "[[249102    520]\n",
      " [ 14107     81]]\n",
      "0.5018129500894725\n",
      "1\n"
     ]
    }
   ],
   "source": [
    "EPOCHS = 2\n",
    "BATCH_SIZE = 100\n",
    "\n",
    "train_losses = []\n",
    "test_losses = []\n",
    "\n",
    "best_bac = 0\n",
    "\n",
    "for epoch in range(EPOCHS):\n",
    "    for j in range(1):\n",
    "        for i in range(math.ceil(len(X_train)/BATCH_SIZE)):\n",
    "            x_batch = X_train[i*BATCH_SIZE: (i+1)*BATCH_SIZE]\n",
    "            y_batch = Y_train[i*BATCH_SIZE: (i+1)*BATCH_SIZE]\n",
    "            mask_batch = mask_train[i*BATCH_SIZE: (i+1)*BATCH_SIZE]\n",
    "            # print(x_batch.shape, y_batch.shape, mask_batch.shape)\n",
    "\n",
    "            #f_train({x_sym: x_batch, y_sym: y_batch, A_sym: A_hat, ymask_sym: mask_batch})\n",
    "            if epoch != 0:\n",
    "                batch_train_loss = f_train(x_batch, y_batch, A_hat, mask_batch)\n",
    "        \n",
    "    test_output = f_eval(X_test, A_hat)\n",
    "    train_output = f_eval(X_train, A_hat)\n",
    "    \n",
    "    test_loss = cost_eval(X_test, Y_test, A_hat, mask_test)\n",
    "    train_loss = cost_eval(X_train, Y_train, A_hat, mask_train)\n",
    "    #test_loss = (lasagne.objectives.categorical_crossentropy(test_output+1e-8, Y_test) * mask_test[:, :, 0]).sum() / mask_test.sum()\n",
    "    #train_loss = 0.5 * (lasagne.objectives.categorical_crossentropy(train_output+1e-8, Y_train) * mask_train[:, :, 0]).sum() / mask_test.sum()\n",
    "    \n",
    "    #print((test_cost * mask_test).mean())\n",
    "    \n",
    "    train_losses.append(train_loss)\n",
    "    test_losses.append(test_loss)\n",
    "    \n",
    "    plt.figure(figsize=[14, 5])\n",
    "    plt.subplot(1, 3, 1)\n",
    "    plt.plot(list(range(epoch+1)), train_losses, \"g\", label=\"Train\")\n",
    "    plt.plot(list(range(epoch+1)), test_losses, \"b\", label=\"Test\")\n",
    "    plt.legend()\n",
    "    plt.xlabel(\"Epochs\")\n",
    "    plt.ylabel(\"Loss\")\n",
    "    plt.title(\"Loss\")\n",
    "    \n",
    "    \n",
    "    plt.savefig(\"out.png\")\n",
    "    plt.close()\n",
    "    display.display(display.Image(filename=\"out.png\"))\n",
    "    \n",
    "    test_predictions = test_output.argmax(-1).flatten()[mask_test.flatten().astype(\"bool\")]\n",
    "    real_classes = Y_test.argmax(-1).flatten()[mask_test.flatten().astype(\"bool\")]\n",
    "    # test_predictions = test_output.argmax(-1).flatten()[mask_test.flatten().astype(\"bool\")]\n",
    "    # real_classes = Y_test.argmax(-1).flatten()[mask_test.flatten().astype(\"bool\")]\n",
    "    \n",
    "    conf = ConfusionMatrix(test_predictions, real_classes)\n",
    "    print(conf)\n",
    "    print(conf.bac())\n",
    "    print(\"\")\n",
    "    if conf.bac() > best_bac:\n",
    "        best_bac = conf.bac()\n",
    "        best_pred = test_predictions\n",
    "        best_output = test_output\n",
    "        real_test_classes = real_classes\n",
    "        best_epoch = epoch\n",
    "    \n",
    "    test_predictions = train_output.argmax(-1).flatten()[mask_train.flatten().astype(\"bool\")]\n",
    "    real_classes = Y_train.argmax(-1).flatten()[mask_train.flatten().astype(\"bool\")]\n",
    "    # test_predictions = train_output.argmax(-1).flatten()[mask_train.flatten().astype(\"bool\")]\n",
    "    # real_classes = Y_train.argmax(-1).flatten()[mask_train.flatten().astype(\"bool\")]\n",
    "    \n",
    "    conf = ConfusionMatrix(test_predictions, real_classes)\n",
    "    print(conf)\n",
    "    print(conf.bac())\n",
    "    \n",
    "    print(epoch)\n",
    "    \n",
    "    display.clear_output(wait=True)"
   ]
  },
  {
   "cell_type": "code",
   "execution_count": 23,
   "metadata": {},
   "outputs": [
    {
     "data": {
      "text/plain": [
       "()"
      ]
     },
     "execution_count": 23,
     "metadata": {},
     "output_type": "execute_result"
    }
   ],
   "source": [
    "train_loss.shape"
   ]
  },
  {
   "cell_type": "code",
   "execution_count": 77,
   "metadata": {},
   "outputs": [
    {
     "data": {
      "text/plain": [
       "(263810,)"
      ]
     },
     "execution_count": 77,
     "metadata": {},
     "output_type": "execute_result"
    }
   ],
   "source": [
    "output_values = train_output[:, :, 1].flatten()[mask_train.flatten().astype(\"bool\")]\n",
    "output_values.shape"
   ]
  },
  {
   "cell_type": "code",
   "execution_count": 84,
   "metadata": {},
   "outputs": [
    {
     "data": {
      "text/plain": [
       "<matplotlib.axes._subplots.AxesSubplot at 0x16939c898>"
      ]
     },
     "execution_count": 84,
     "metadata": {},
     "output_type": "execute_result"
    },
    {
     "data": {
      "image/png": "[encoded data removed]",
      "text/plain": [
       "<matplotlib.figure.Figure at 0x169463860>"
      ]
     },
     "metadata": {},
     "output_type": "display_data"
    }
   ],
   "source": [
    "import seaborn as sbn\n",
    "\n",
    "plt.figure(figsize=[14, 7])\n",
    "\n",
    "plot_values = output_values[real_classes == 0]\n",
    "sbn.distplot(plot_values, kde=True)\n",
    "\n",
    "plot_values = output_values[real_classes == 1]\n",
    "sbn.distplot(plot_values, kde=True)"
   ]
  },
  {
   "cell_type": "code",
   "execution_count": 61,
   "metadata": {},
   "outputs": [
    {
     "data": {
      "text/plain": [
       "3734188"
      ]
     },
     "execution_count": 61,
     "metadata": {},
     "output_type": "execute_result"
    }
   ],
   "source": [
    "4388 * 851"
   ]
  },
  {
   "cell_type": "code",
   "execution_count": 186,
   "metadata": {},
   "outputs": [
    {
     "name": "stdout",
     "output_type": "stream",
     "text": [
      "(66030,)\n",
      "(66030,)\n"
     ]
    }
   ],
   "source": [
    "test_predictions = test_output.argmax(-1).flatten()[mask_test.flatten().astype(\"bool\")]\n",
    "real_classes = Y_test.argmax(-1).flatten()[mask_test.flatten().astype(\"bool\")]\n",
    "print(test_predictions.shape)\n",
    "print(real_classes.shape)"
   ]
  },
  {
   "cell_type": "code",
   "execution_count": 187,
   "metadata": {},
   "outputs": [
    {
     "name": "stdout",
     "output_type": "stream",
     "text": [
      "[[49469 12822]\n",
      " [ 2924   815]]\n",
      "0.506066194957\n"
     ]
    }
   ],
   "source": [
    "conf = ConfusionMatrix(test_predictions, real_classes)\n",
    "print(conf)\n",
    "print(conf.bac())"
   ]
  },
  {
   "cell_type": "code",
   "execution_count": 157,
   "metadata": {},
   "outputs": [
    {
     "ename": "ValueError",
     "evalue": "Input dimension mis-match. (input[0].shape[1] = 213, input[1].shape[1] = 4388)\nApply node that caused the error: Elemwise{mul,no_inplace}(InplaceDimShuffle{x,0,1}.0, ymask_sym)\nToposort index: 129\nInputs types: [TensorType(float64, (True, False, False)), TensorType(float64, 3D)]\nInputs shapes: [(1, 213, 4388), (213, 4388, 1)]\nInputs strides: [(7477152, 35104, 8), (35104, 8, 8)]\nInputs values: ['not shown', 'not shown']\nInputs type_num: [12, 12]\nOutputs clients: [[Sum{acc_dtype=float64}(Elemwise{mul,no_inplace}.0)]]\n\nBacktrace when the node is created(use Theano flag traceback.limit=N to make it longer):\n  File \"/Users/krisj/anaconda/envs/cfb_old/lib/python3.4/site-packages/ipykernel/kernelbase.py\", line 228, in dispatch_shell\n    handler(stream, idents, msg)\n  File \"/Users/krisj/anaconda/envs/cfb_old/lib/python3.4/site-packages/ipykernel/kernelbase.py\", line 391, in execute_request\n    user_expressions, allow_stdin)\n  File \"/Users/krisj/anaconda/envs/cfb_old/lib/python3.4/site-packages/ipykernel/ipkernel.py\", line 199, in do_execute\n    shell.run_cell(code, store_history=store_history, silent=silent)\n  File \"/Users/krisj/anaconda/envs/cfb_old/lib/python3.4/site-packages/IPython/core/interactiveshell.py\", line 2717, in run_cell\n    interactivity=interactivity, compiler=compiler, result=result)\n  File \"/Users/krisj/anaconda/envs/cfb_old/lib/python3.4/site-packages/IPython/core/interactiveshell.py\", line 2821, in run_ast_nodes\n    if self.run_code(code, result):\n  File \"/Users/krisj/anaconda/envs/cfb_old/lib/python3.4/site-packages/IPython/core/interactiveshell.py\", line 2881, in run_code\n    exec(code_obj, self.user_global_ns, self.user_ns)\n  File \"<ipython-input-144-ada4fb01b576>\", line 10, in <module>\n    cost = lasagne.objectives.aggregate(cost, weights=ymask_sym, mode=\"mean\")\n  File \"/Users/krisj/anaconda/envs/cfb_old/lib/python3.4/site-packages/lasagne/objectives.py\", line 237, in aggregate\n    return loss.mean()\n\nDebugprint of the apply node: \nElemwise{mul,no_inplace} [id A] <TensorType(float64, 3D)> ''   \n |InplaceDimShuffle{x,0,1} [id B] <TensorType(float64, (True, False, False))> ''   \n | |Sum{axis=[2], acc_dtype=float64} [id C] <TensorType(float64, matrix)> ''   \n |   |Elemwise{Composite{(i0 * log((i1 + i2)))}}[(0, 2)] [id D] <TensorType(float64, 3D)> ''   \n |     |y_sym [id E] <TensorType(float64, 3D)>\n |     |TensorConstant{(1, 1, 1) of 1e-08} [id F] <TensorType(float64, (True, True, True))>\n |     |Reshape{3} [id G] <TensorType(float64, 3D)> ''   \n |       |Softmax [id H] <TensorType(float64, matrix)> ''   \n |       | |Reshape{2} [id I] <TensorType(float64, matrix)> ''   \n |       |   |Elemwise{Add}[(0, 0)] [id J] <TensorType(float64, 3D)> ''   \n |       |   | |Reshape{3} [id K] <TensorType(float64, 3D)> ''   \n |       |   | | |Dot22 [id L] <TensorType(float64, matrix)> ''   \n |       |   | | | |Reshape{2} [id M] <TensorType(float64, matrix)> ''   \n |       |   | | | | |Elemwise{Composite{(i0 * ((i1 * (i2 + i3) * Composite{Cast{float64}(LT(i0, i1))}(i4, i5)) + (i6 * Abs((i2 + i3)) * Composite{Cast{float64}(LT(i0, i1))}(i4, i5))))}}[(0, 2)] [id N] <TensorType(float64, 3D)> ''   \n |       |   | | | | | |TensorConstant{(1, 1, 1) of 2.0} [id O] <TensorType(float64, (True, True, True))>\n |       |   | | | | | |TensorConstant{(1, 1, 1) of 0.505} [id P] <TensorType(float64, (True, True, True))>\n |       |   | | | | | |Reshape{3} [id Q] <TensorType(float64, 3D)> ''   \n |       |   | | | | | | |Dot22 [id R] <TensorType(float64, matrix)> ''   \n |       |   | | | | | | | |Reshape{2} [id S] <TensorType(float64, matrix)> ''   \n |       |   | | | | | | | | |Join [id T] <TensorType(float64, 3D)> ''   \n |       |   | | | | | | | | | |TensorConstant{2} [id U] <TensorType(int8, scalar)>\n |       |   | | | | | | | | | |Elemwise{Composite{((i0 * i1) + (i2 * Abs(i1)))}}[(0, 1)] [id V] <TensorType(float64, 3D)> ''   \n |       |   | | | | | | | | | | |TensorConstant{(1, 1, 1) of 0.505} [id P] <TensorType(float64, (True, True, True))>\n |       |   | | | | | | | | | | |Reshape{3} [id W] <TensorType(float64, 3D)> ''   \n |       |   | | | | | | | | | | | |Dot22 [id X] <TensorType(float64, matrix)> ''   \n |       |   | | | | | | | | | | | | |Reshape{2} [id Y] <TensorType(float64, matrix)> ''   \n |       |   | | | | | | | | | | | | | |InplaceDimShuffle{2,1,0,3} [id Z] <TensorType(float64, 4D)> ''   \n |       |   | | | | | | | | | | | | | | |Reshape{4} [id BA] <TensorType(float64, 4D)> ''   \n |       |   | | | | | | | | | | | | | |   |Dot22 [id BB] <TensorType(float64, matrix)> ''   \n |       |   | | | | | | | | | | | | | |   | |Reshape{2} [id BC] <TensorType(float64, matrix)> ''   \n |       |   | | | | | | | | | | | | | |   | | |InplaceDimShuffle{0,2,1} [id BD] <TensorType(float64, 3D)> ''   \n |       |   | | | | | | | | | | | | | |   | | | |A_sym [id BE] <TensorType(float64, 3D)>\n |       |   | | | | | | | | | | | | | |   | | |MakeVector{dtype='int64'} [id BF] <TensorType(int64, vector)> ''   \n |       |   | | | | | | | | | | | | | |   | |   |Elemwise{Mul}[(0, 0)] [id BG] <TensorType(int64, scalar)> ''   \n |       |   | | | | | | | | | | | | | |   | |   | |Shape_i{0} [id BH] <TensorType(int64, scalar)> ''   \n |       |   | | | | | | | | | | | | | |   | |   | | |A_sym [id BE] <TensorType(float64, 3D)>\n |       |   | | | | | | | | | | | | | |   | |   | |Shape_i{2} [id BI] <TensorType(int64, scalar)> ''   \n |       |   | | | | | | | | | | | | | |   | |   |   |A_sym [id BE] <TensorType(float64, 3D)>\n |       |   | | | | | | | | | | | | | |   | |   |Shape_i{1} [id BJ] <TensorType(int64, scalar)> ''   \n |       |   | | | | | | | | | | | | | |   | |     |A_sym [id BE] <TensorType(float64, 3D)>\n |       |   | | | | | | | | | | | | | |   | |Reshape{2} [id BK] <TensorType(float64, matrix)> ''   \n |       |   | | | | | | | | | | | | | |   |   |InplaceDimShuffle{1,0,2} [id BL] <TensorType(float64, 3D)> ''   \n |       |   | | | | | | | | | | | | | |   |   | |x_sym [id BM] <TensorType(float64, 3D)>\n |       |   | | | | | | | | | | | | | |   |   |MakeVector{dtype='int64'} [id BN] <TensorType(int64, vector)> ''   \n |       |   | | | | | | | | | | | | | |   |     |Shape_i{1} [id BO] <TensorType(int64, scalar)> ''   \n |       |   | | | | | | | | | | | | | |   |     | |x_sym [id BM] <TensorType(float64, 3D)>\n |       |   | | | | | | | | | | | | | |   |     |Elemwise{mul,no_inplace} [id BP] <TensorType(int64, scalar)> ''   \n |       |   | | | | | | | | | | | | | |   |       |Shape_i{2} [id BQ] <TensorType(int64, scalar)> ''   \n |       |   | | | | | | | | | | | | | |   |       | |x_sym [id BM] <TensorType(float64, 3D)>\n |       |   | | | | | | | | | | | | | |   |       |Shape_i{0} [id BR] <TensorType(int64, scalar)> ''   \n |       |   | | | | | | | | | | | | | |   |         |x_sym [id BM] <TensorType(float64, 3D)>\n |       |   | | | | | | | | | | | | | |   |MakeVector{dtype='int64'} [id BS] <TensorType(int64, vector)> ''   \n |       |   | | | | | | | | | | | | | |     |Shape_i{0} [id BH] <TensorType(int64, scalar)> ''   \n |       |   | | | | | | | | | | | | | |     |Shape_i{2} [id BI] <TensorType(int64, scalar)> ''   \n |       |   | | | | | | | | | | | | | |     |Shape_i{0} [id BR] <TensorType(int64, scalar)> ''   \n |       |   | | | | | | | | | | | | | |     |Shape_i{2} [id BQ] <TensorType(int64, scalar)> ''   \n |       |   | | | | | | | | | | | | | |MakeVector{dtype='int64'} [id BT] <TensorType(int64, vector)> ''   \n |       |   | | | | | | | | | | | | |   |Elemwise{Mul}[(0, 0)] [id BU] <TensorType(int64, scalar)> ''   \n |       |   | | | | | | | | | | | | |   | |Shape_i{0} [id BR] <TensorType(int64, scalar)> ''   \n |       |   | | | | | | | | | | | | |   | |Shape_i{2} [id BI] <TensorType(int64, scalar)> ''   \n |       |   | | | | | | | | | | | | |   |Elemwise{Mul}[(0, 0)] [id BV] <TensorType(int64, scalar)> ''   \n |       |   | | | | | | | | | | | | |     |Shape_i{2} [id BQ] <TensorType(int64, scalar)> ''   \n |       |   | | | | | | | | | | | | |     |Shape_i{0} [id BH] <TensorType(int64, scalar)> ''   \n |       |   | | | | | | | | | | | | |Reshape{2} [id BW] <TensorType(float64, matrix)> ''   \n |       |   | | | | | | | | | | | |   |W [id BX] <TensorType(float64, 3D)>\n |       |   | | | | | | | | | | | |   |MakeVector{dtype='int64'} [id BY] <TensorType(int64, vector)> ''   \n |       |   | | | | | | | | | | | |     |Elemwise{Mul}[(0, 0)] [id BZ] <TensorType(int64, scalar)> ''   \n |       |   | | | | | | | | | | | |     | |Shape_i{0} [id CA] <TensorType(int64, scalar)> ''   \n |       |   | | | | | | | | | | | |     | | |W [id BX] <TensorType(float64, 3D)>\n |       |   | | | | | | | | | | | |     | |Shape_i{1} [id CB] <TensorType(int64, scalar)> ''   \n |       |   | | | | | | | | | | | |     |   |W [id BX] <TensorType(float64, 3D)>\n |       |   | | | | | | | | | | | |     |Shape_i{2} [id CC] <TensorType(int64, scalar)> ''   \n |       |   | | | | | | | | | | | |       |W [id BX] <TensorType(float64, 3D)>\n |       |   | | | | | | | | | | | |MakeVector{dtype='int64'} [id CD] <TensorType(int64, vector)> ''   \n |       |   | | | | | | | | | | |   |Shape_i{0} [id BR] <TensorType(int64, scalar)> ''   \n |       |   | | | | | | | | | | |   |Shape_i{2} [id BI] <TensorType(int64, scalar)> ''   \n |       |   | | | | | | | | | | |   |Shape_i{2} [id CC] <TensorType(int64, scalar)> ''   \n |       |   | | | | | | | | | | |TensorConstant{(1, 1, 1) of 0.495} [id CE] <TensorType(float64, (True, True, True))>\n |       |   | | | | | | | | | |Elemwise{Composite{((i0 * i1) + (i2 * Abs(i1)))}}[(0, 1)] [id CF] <TensorType(float64, 3D)> ''   \n |       |   | | | | | | | | | | |TensorConstant{(1, 1, 1) of 0.505} [id P] <TensorType(float64, (True, True, True))>\n |       |   | | | | | | | | | | |Reshape{3} [id CG] <TensorType(float64, 3D)> ''   \n |       |   | | | | | | | | | | | |Dot22 [id CH] <TensorType(float64, matrix)> ''   \n |       |   | | | | | | | | | | | | |Reshape{2} [id CI] <TensorType(float64, matrix)> ''   \n |       |   | | | | | | | | | | | | | |InplaceDimShuffle{2,1,0,3} [id CJ] <TensorType(float64, 4D)> ''   \n |       |   | | | | | | | | | | | | | | |Reshape{4} [id CK] <TensorType(float64, 4D)> ''   \n |       |   | | | | | | | | | | | | | |   |Dot22 [id CL] <TensorType(float64, matrix)> ''   \n |       |   | | | | | | | | | | | | | |   | |Reshape{2} [id BC] <TensorType(float64, matrix)> ''   \n |       |   | | | | | | | | | | | | | |   | |Reshape{2} [id CM] <TensorType(float64, matrix)> ''   \n |       |   | | | | | | | | | | | | | |   |   |InplaceDimShuffle{1,0,2} [id CN] <TensorType(float64, 3D)> ''   \n |       |   | | | | | | | | | | | | | |   |   | |Elemwise{Composite{((i0 * i1) + (i2 * Abs(i1)))}}[(0, 1)] [id V] <TensorType(float64, 3D)> ''   \n |       |   | | | | | | | | | | | | | |   |   |MakeVector{dtype='int64'} [id CO] <TensorType(int64, vector)> ''   \n |       |   | | | | | | | | | | | | | |   |     |Shape_i{2} [id BI] <TensorType(int64, scalar)> ''   \n |       |   | | | | | | | | | | | | | |   |     |Elemwise{mul,no_inplace} [id CP] <TensorType(int64, scalar)> ''   \n |       |   | | | | | | | | | | | | | |   |       |Shape_i{2} [id CC] <TensorType(int64, scalar)> ''   \n |       |   | | | | | | | | | | | | | |   |       |Shape_i{0} [id BR] <TensorType(int64, scalar)> ''   \n |       |   | | | | | | | | | | | | | |   |MakeVector{dtype='int64'} [id CQ] <TensorType(int64, vector)> ''   \n |       |   | | | | | | | | | | | | | |     |Shape_i{0} [id BH] <TensorType(int64, scalar)> ''   \n |       |   | | | | | | | | | | | | | |     |Shape_i{2} [id BI] <TensorType(int64, scalar)> ''   \n |       |   | | | | | | | | | | | | | |     |Shape_i{0} [id BR] <TensorType(int64, scalar)> ''   \n |       |   | | | | | | | | | | | | | |     |Shape_i{2} [id CC] <TensorType(int64, scalar)> ''   \n |       |   | | | | | | | | | | | | | |MakeVector{dtype='int64'} [id CR] <TensorType(int64, vector)> ''   \n |       |   | | | | | | | | | | | | |   |Elemwise{Mul}[(0, 0)] [id BU] <TensorType(int64, scalar)> ''   \n |       |   | | | | | | | | | | | | |   |Elemwise{mul,no_inplace} [id CS] <TensorType(int64, scalar)> ''   \n |       |   | | | | | | | | | | | | |     |Shape_i{2} [id CC] <TensorType(int64, scalar)> ''   \n |       |   | | | | | | | | | | | | |     |Shape_i{0} [id BH] <TensorType(int64, scalar)> ''   \n |       |   | | | | | | | | | | | | |Reshape{2} [id CT] <TensorType(float64, matrix)> ''   \n |       |   | | | | | | | | | | | |   |W [id CU] <TensorType(float64, 3D)>\n |       |   | | | | | | | | | | | |   |MakeVector{dtype='int64'} [id CV] <TensorType(int64, vector)> ''   \n |       |   | | | | | | | | | | | |     |Elemwise{Mul}[(0, 0)] [id CW] <TensorType(int64, scalar)> ''   \n |       |   | | | | | | | | | | | |     | |Shape_i{0} [id CX] <TensorType(int64, scalar)> ''   \n |       |   | | | | | | | | | | | |     | | |W [id CU] <TensorType(float64, 3D)>\n |       |   | | | | | | | | | | | |     | |Shape_i{1} [id CY] <TensorType(int64, scalar)> ''   \n |       |   | | | | | | | | | | | |     |   |W [id CU] <TensorType(float64, 3D)>\n |       |   | | | | | | | | | | | |     |Shape_i{2} [id CZ] <TensorType(int64, scalar)> ''   \n |       |   | | | | | | | | | | | |       |W [id CU] <TensorType(float64, 3D)>\n |       |   | | | | | | | | | | | |MakeVector{dtype='int64'} [id DA] <TensorType(int64, vector)> ''   \n |       |   | | | | | | | | | | |   |Shape_i{0} [id BR] <TensorType(int64, scalar)> ''   \n |       |   | | | | | | | | | | |   |Shape_i{2} [id BI] <TensorType(int64, scalar)> ''   \n |       |   | | | | | | | | | | |   |Shape_i{2} [id CZ] <TensorType(int64, scalar)> ''   \n |       |   | | | | | | | | | | |TensorConstant{(1, 1, 1) of 0.495} [id CE] <TensorType(float64, (True, True, True))>\n |       |   | | | | | | | | | |Elemwise{Composite{((i0 * i1) + (i2 * Abs(i1)))}}[(0, 1)] [id DB] <TensorType(float64, 3D)> ''   \n |       |   | | | | | | | | | | |TensorConstant{(1, 1, 1) of 0.505} [id P] <TensorType(float64, (True, True, True))>\n |       |   | | | | | | | | | | |Reshape{3} [id DC] <TensorType(float64, 3D)> ''   \n |       |   | | | | | | | | | | | |Dot22 [id DD] <TensorType(float64, matrix)> ''   \n |       |   | | | | | | | | | | | | |Reshape{2} [id DE] <TensorType(float64, matrix)> ''   \n |       |   | | | | | | | | | | | | | |InplaceDimShuffle{2,1,0,3} [id DF] <TensorType(float64, 4D)> ''   \n |       |   | | | | | | | | | | | | | | |Reshape{4} [id DG] <TensorType(float64, 4D)> ''   \n |       |   | | | | | | | | | | | | | |   |Dot22 [id DH] <TensorType(float64, matrix)> ''   \n |       |   | | | | | | | | | | | | | |   | |Reshape{2} [id BC] <TensorType(float64, matrix)> ''   \n |       |   | | | | | | | | | | | | | |   | |Reshape{2} [id DI] <TensorType(float64, matrix)> ''   \n |       |   | | | | | | | | | | | | | |   |   |InplaceDimShuffle{1,0,2} [id DJ] <TensorType(float64, 3D)> ''   \n |       |   | | | | | | | | | | | | | |   |   | |Elemwise{Composite{((i0 * i1) + (i2 * Abs(i1)))}}[(0, 1)] [id CF] <TensorType(float64, 3D)> ''   \n |       |   | | | | | | | | | | | | | |   |   |MakeVector{dtype='int64'} [id DK] <TensorType(int64, vector)> ''   \n |       |   | | | | | | | | | | | | | |   |     |Shape_i{2} [id BI] <TensorType(int64, scalar)> ''   \n |       |   | | | | | | | | | | | | | |   |     |Elemwise{mul,no_inplace} [id DL] <TensorType(int64, scalar)> ''   \n |       |   | | | | | | | | | | | | | |   |       |Shape_i{2} [id CZ] <TensorType(int64, scalar)> ''   \n |       |   | | | | | | | | | | | | | |   |       |Shape_i{0} [id BR] <TensorType(int64, scalar)> ''   \n |       |   | | | | | | | | | | | | | |   |MakeVector{dtype='int64'} [id DM] <TensorType(int64, vector)> ''   \n |       |   | | | | | | | | | | | | | |     |Shape_i{0} [id BH] <TensorType(int64, scalar)> ''   \n |       |   | | | | | | | | | | | | | |     |Shape_i{2} [id BI] <TensorType(int64, scalar)> ''   \n |       |   | | | | | | | | | | | | | |     |Shape_i{0} [id BR] <TensorType(int64, scalar)> ''   \n |       |   | | | | | | | | | | | | | |     |Shape_i{2} [id CZ] <TensorType(int64, scalar)> ''   \n |       |   | | | | | | | | | | | | | |MakeVector{dtype='int64'} [id DN] <TensorType(int64, vector)> ''   \n |       |   | | | | | | | | | | | | |   |Elemwise{Mul}[(0, 0)] [id BU] <TensorType(int64, scalar)> ''   \n |       |   | | | | | | | | | | | | |   |Elemwise{Mul}[(0, 0)] [id DO] <TensorType(int64, scalar)> ''   \n |       |   | | | | | | | | | | | | |     |Shape_i{2} [id CZ] <TensorType(int64, scalar)> ''   \n |       |   | | | | | | | | | | | | |     |Shape_i{0} [id BH] <TensorType(int64, scalar)> ''   \n |       |   | | | | | | | | | | | | |Reshape{2} [id DP] <TensorType(float64, matrix)> ''   \n |       |   | | | | | | | | | | | |   |W [id DQ] <TensorType(float64, 3D)>\n |       |   | | | | | | | | | | | |   |MakeVector{dtype='int64'} [id DR] <TensorType(int64, vector)> ''   \n |       |   | | | | | | | | | | | |     |Elemwise{Mul}[(0, 0)] [id DS] <TensorType(int64, scalar)> ''   \n |       |   | | | | | | | | | | | |     | |Shape_i{0} [id DT] <TensorType(int64, scalar)> ''   \n |       |   | | | | | | | | | | | |     | | |W [id DQ] <TensorType(float64, 3D)>\n |       |   | | | | | | | | | | | |     | |Shape_i{1} [id DU] <TensorType(int64, scalar)> ''   \n |       |   | | | | | | | | | | | |     |   |W [id DQ] <TensorType(float64, 3D)>\n |       |   | | | | | | | | | | | |     |Shape_i{2} [id DV] <TensorType(int64, scalar)> ''   \n |       |   | | | | | | | | | | | |       |W [id DQ] <TensorType(float64, 3D)>\n |       |   | | | | | | | | | | | |MakeVector{dtype='int64'} [id DW] <TensorType(int64, vector)> ''   \n |       |   | | | | | | | | | | |   |Shape_i{0} [id BR] <TensorType(int64, scalar)> ''   \n |       |   | | | | | | | | | | |   |Shape_i{2} [id BI] <TensorType(int64, scalar)> ''   \n |       |   | | | | | | | | | | |   |Shape_i{2} [id DV] <TensorType(int64, scalar)> ''   \n |       |   | | | | | | | | | | |TensorConstant{(1, 1, 1) of 0.495} [id CE] <TensorType(float64, (True, True, True))>\n |       |   | | | | | | | | | |Elemwise{Composite{((i0 * i1) + (i2 * Abs(i1)))}}[(0, 1)] [id DX] <TensorType(float64, 3D)> ''   \n |       |   | | | | | | | | |   |TensorConstant{(1, 1, 1) of 0.505} [id P] <TensorType(float64, (True, True, True))>\n |       |   | | | | | | | | |   |Reshape{3} [id DY] <TensorType(float64, 3D)> ''   \n |       |   | | | | | | | | |   | |Dot22 [id DZ] <TensorType(float64, matrix)> ''   \n |       |   | | | | | | | | |   | | |Reshape{2} [id EA] <TensorType(float64, matrix)> ''   \n |       |   | | | | | | | | |   | | | |InplaceDimShuffle{2,1,0,3} [id EB] <TensorType(float64, 4D)> ''   \n |       |   | | | | | | | | |   | | | | |Reshape{4} [id EC] <TensorType(float64, 4D)> ''   \n |       |   | | | | | | | | |   | | | |   |Dot22 [id ED] <TensorType(float64, matrix)> ''   \n |       |   | | | | | | | | |   | | | |   | |Reshape{2} [id BC] <TensorType(float64, matrix)> ''   \n |       |   | | | | | | | | |   | | | |   | |Reshape{2} [id EE] <TensorType(float64, matrix)> ''   \n |       |   | | | | | | | | |   | | | |   |   |InplaceDimShuffle{1,0,2} [id EF] <TensorType(float64, 3D)> ''   \n |       |   | | | | | | | | |   | | | |   |   | |Elemwise{Composite{((i0 * i1) + (i2 * Abs(i1)))}}[(0, 1)] [id DB] <TensorType(float64, 3D)> ''   \n |       |   | | | | | | | | |   | | | |   |   |MakeVector{dtype='int64'} [id EG] <TensorType(int64, vector)> ''   \n |       |   | | | | | | | | |   | | | |   |     |Shape_i{2} [id BI] <TensorType(int64, scalar)> ''   \n |       |   | | | | | | | | |   | | | |   |     |Elemwise{mul,no_inplace} [id EH] <TensorType(int64, scalar)> ''   \n |       |   | | | | | | | | |   | | | |   |       |Shape_i{2} [id DV] <TensorType(int64, scalar)> ''   \n |       |   | | | | | | | | |   | | | |   |       |Shape_i{0} [id BR] <TensorType(int64, scalar)> ''   \n |       |   | | | | | | | | |   | | | |   |MakeVector{dtype='int64'} [id EI] <TensorType(int64, vector)> ''   \n |       |   | | | | | | | | |   | | | |     |Shape_i{0} [id BH] <TensorType(int64, scalar)> ''   \n |       |   | | | | | | | | |   | | | |     |Shape_i{2} [id BI] <TensorType(int64, scalar)> ''   \n |       |   | | | | | | | | |   | | | |     |Shape_i{0} [id BR] <TensorType(int64, scalar)> ''   \n |       |   | | | | | | | | |   | | | |     |Shape_i{2} [id DV] <TensorType(int64, scalar)> ''   \n |       |   | | | | | | | | |   | | | |MakeVector{dtype='int64'} [id EJ] <TensorType(int64, vector)> ''   \n |       |   | | | | | | | | |   | | |   |Elemwise{Mul}[(0, 0)] [id BU] <TensorType(int64, scalar)> ''   \n |       |   | | | | | | | | |   | | |   |Elemwise{Mul}[(0, 0)] [id EK] <TensorType(int64, scalar)> ''   \n |       |   | | | | | | | | |   | | |     |Shape_i{2} [id DV] <TensorType(int64, scalar)> ''   \n |       |   | | | | | | | | |   | | |     |Shape_i{0} [id BH] <TensorType(int64, scalar)> ''   \n |       |   | | | | | | | | |   | | |Reshape{2} [id EL] <TensorType(float64, matrix)> ''   \n |       |   | | | | | | | | |   | |   |W [id EM] <TensorType(float64, 3D)>\n |       |   | | | | | | | | |   | |   |MakeVector{dtype='int64'} [id EN] <TensorType(int64, vector)> ''   \n |       |   | | | | | | | | |   | |     |Elemwise{Mul}[(0, 0)] [id EO] <TensorType(int64, scalar)> ''   \n |       |   | | | | | | | | |   | |     | |Shape_i{0} [id EP] <TensorType(int64, scalar)> ''   \n |       |   | | | | | | | | |   | |     | | |W [id EM] <TensorType(float64, 3D)>\n |       |   | | | | | | | | |   | |     | |Shape_i{1} [id EQ] <TensorType(int64, scalar)> ''   \n |       |   | | | | | | | | |   | |     |   |W [id EM] <TensorType(float64, 3D)>\n |       |   | | | | | | | | |   | |     |Shape_i{2} [id ER] <TensorType(int64, scalar)> ''   \n |       |   | | | | | | | | |   | |       |W [id EM] <TensorType(float64, 3D)>\n |       |   | | | | | | | | |   | |MakeVector{dtype='int64'} [id ES] <TensorType(int64, vector)> ''   \n |       |   | | | | | | | | |   |   |Shape_i{0} [id BR] <TensorType(int64, scalar)> ''   \n |       |   | | | | | | | | |   |   |Shape_i{2} [id BI] <TensorType(int64, scalar)> ''   \n |       |   | | | | | | | | |   |   |Shape_i{2} [id ER] <TensorType(int64, scalar)> ''   \n |       |   | | | | | | | | |   |TensorConstant{(1, 1, 1) of 0.495} [id CE] <TensorType(float64, (True, True, True))>\n |       |   | | | | | | | | |MakeVector{dtype='int64'} [id ET] <TensorType(int64, vector)> ''   \n |       |   | | | | | | | |   |Elemwise{Mul}[(0, 0)] [id BU] <TensorType(int64, scalar)> ''   \n |       |   | | | | | | | |   |Elemwise{Add}[(0, 0)] [id EU] <TensorType(int64, scalar)> ''   \n |       |   | | | | | | | |     |Shape_i{2} [id CC] <TensorType(int64, scalar)> ''   \n |       |   | | | | | | | |     |Shape_i{2} [id CZ] <TensorType(int64, scalar)> ''   \n |       |   | | | | | | | |     |Shape_i{2} [id DV] <TensorType(int64, scalar)> ''   \n |       |   | | | | | | | |     |Shape_i{2} [id ER] <TensorType(int64, scalar)> ''   \n |       |   | | | | | | | |W [id EV] <TensorType(float64, matrix)>\n |       |   | | | | | | |MakeVector{dtype='int64'} [id EW] <TensorType(int64, vector)> ''   \n |       |   | | | | | |   |Shape_i{0} [id BR] <TensorType(int64, scalar)> ''   \n |       |   | | | | | |   |Shape_i{2} [id BI] <TensorType(int64, scalar)> ''   \n |       |   | | | | | |   |Shape_i{1} [id EX] <TensorType(int64, scalar)> ''   \n |       |   | | | | | |     |W [id EV] <TensorType(float64, matrix)>\n |       |   | | | | | |InplaceDimShuffle{x,x,0} [id EY] <TensorType(float64, (True, True, False))> ''   \n |       |   | | | | | | |b [id EZ] <TensorType(float64, vector)>\n |       |   | | | | | |mrg_uniform{TensorType(float64, 3D),inplace}.1 [id FA] <TensorType(float64, 3D)> ''   \n |       |   | | | | | | |<TensorType(int32, matrix)> [id FB] <TensorType(int32, matrix)>\n |       |   | | | | | | |MakeVector{dtype='int64'} [id EW] <TensorType(int64, vector)> ''   \n |       |   | | | | | |TensorConstant{(1, 1, 1) of 0.5} [id FC] <TensorType(float32, (True, True, True))>\n |       |   | | | | | |TensorConstant{(1, 1, 1) of 0.495} [id CE] <TensorType(float64, (True, True, True))>\n |       |   | | | | |MakeVector{dtype='int64'} [id FD] <TensorType(int64, vector)> ''   \n |       |   | | | |   |Elemwise{Mul}[(0, 0)] [id BU] <TensorType(int64, scalar)> ''   \n |       |   | | | |   |Shape_i{1} [id EX] <TensorType(int64, scalar)> ''   \n |       |   | | | |W [id FE] <TensorType(float64, matrix)>\n |       |   | | |MakeVector{dtype='int64'} [id FF] <TensorType(int64, vector)> ''   \n |       |   | |   |Shape_i{0} [id BR] <TensorType(int64, scalar)> ''   \n |       |   | |   |Shape_i{2} [id BI] <TensorType(int64, scalar)> ''   \n |       |   | |   |Shape_i{1} [id FG] <TensorType(int64, scalar)> ''   \n |       |   | |     |W [id FE] <TensorType(float64, matrix)>\n |       |   | |InplaceDimShuffle{x,x,0} [id FH] <TensorType(float64, (True, True, False))> ''   \n |       |   |   |b [id FI] <TensorType(float64, vector)>\n |       |   |MakeVector{dtype='int64'} [id FJ] <TensorType(int64, vector)> ''   \n |       |     |TensorConstant{-1} [id FK] <TensorType(int64, scalar)>\n |       |     |Shape_i{1} [id FG] <TensorType(int64, scalar)> ''   \n |       |MakeVector{dtype='int64'} [id FF] <TensorType(int64, vector)> ''   \n |ymask_sym [id FL] <TensorType(float64, 3D)>\n\nStorage map footprint:\n - A_sym, Input, Shape: (3, 4388, 4388), ElemSize: 8 Byte(s), TotalSize: 462109056 Byte(s)\n - x_sym, Input, Shape: (213, 4388, 3), ElemSize: 8 Byte(s), TotalSize: 22431456 Byte(s)\n - y_sym, Input, Shape: (213, 4388, 2), ElemSize: 8 Byte(s), TotalSize: 14954304 Byte(s)\n - ymask_sym, Input, Shape: (213, 4388, 1), ElemSize: 8 Byte(s), TotalSize: 7477152 Byte(s)\n - InplaceDimShuffle{x,0,1}.0, Shape: (1, 213, 4388), ElemSize: 8 Byte(s), TotalSize: 7477152 Byte(s)\n - mrg_uniform{TensorType(float64, 3D),inplace}.0, Shape: (15360, 6), ElemSize: 4 Byte(s), TotalSize: 368640 Byte(s)\n - <TensorType(int32, matrix)>, Shared Input, Shape: (15360, 6), ElemSize: 4 Byte(s), TotalSize: 368640 Byte(s)\n - W, Shared Input, Shape: (24, 30), ElemSize: 8 Byte(s), TotalSize: 5760 Byte(s)\n - W, Shared Input, Shape: (3, 7, 9), ElemSize: 8 Byte(s), TotalSize: 1512 Byte(s)\n - W, Shared Input, Shape: (3, 5, 7), ElemSize: 8 Byte(s), TotalSize: 840 Byte(s)\n - W, Shared Input, Shape: (30, 2), ElemSize: 8 Byte(s), TotalSize: 480 Byte(s)\n - W, Shared Input, Shape: (3, 3, 5), ElemSize: 8 Byte(s), TotalSize: 360 Byte(s)\n - b, Shared Input, Shape: (30,), ElemSize: 8 Byte(s), TotalSize: 240 Byte(s)\n - W, Shared Input, Shape: (3, 3, 3), ElemSize: 8 Byte(s), TotalSize: 216 Byte(s)\n - b, Shared Input, Shape: (2,), ElemSize: 8 Byte(s), TotalSize: 16 Byte(s)\n - TensorConstant{(1, 1, 1) of 0.495}, Shape: (1, 1, 1), ElemSize: 8 Byte(s), TotalSize: 8 Byte(s)\n - TensorConstant{-1}, Shape: (), ElemSize: 8 Byte(s), TotalSize: 8.0 Byte(s)\n - TensorConstant{(1, 1, 1) of 2.0}, Shape: (1, 1, 1), ElemSize: 8 Byte(s), TotalSize: 8 Byte(s)\n - TensorConstant{(1, 1, 1) of 0.505}, Shape: (1, 1, 1), ElemSize: 8 Byte(s), TotalSize: 8 Byte(s)\n - Constant{0}, Shape: (), ElemSize: 8 Byte(s), TotalSize: 8.0 Byte(s)\n - TensorConstant{(1, 1, 1) of 1e-08}, Shape: (1, 1, 1), ElemSize: 8 Byte(s), TotalSize: 8 Byte(s)\n - Constant{2}, Shape: (), ElemSize: 8 Byte(s), TotalSize: 8.0 Byte(s)\n - Constant{1}, Shape: (), ElemSize: 8 Byte(s), TotalSize: 8.0 Byte(s)\n - TensorConstant{(1, 1, 1) of 0.5}, Shape: (1, 1, 1), ElemSize: 4 Byte(s), TotalSize: 4 Byte(s)\n - TensorConstant{2}, Shape: (), ElemSize: 1 Byte(s), TotalSize: 1.0 Byte(s)\n TotalSize: 514827253.0 Byte(s) 0.479 GB\n TotalSize inputs: 507350101.0 Byte(s) 0.473 GB\n\n",
     "output_type": "error",
     "traceback": [
      "\u001b[0;31m---------------------------------------------------------------------------\u001b[0m",
      "\u001b[0;31mValueError\u001b[0m                                Traceback (most recent call last)",
      "\u001b[0;32m/Users/krisj/anaconda/envs/cfb_old/lib/python3.4/site-packages/theano/compile/function_module.py\u001b[0m in \u001b[0;36m__call__\u001b[0;34m(self, *args, **kwargs)\u001b[0m\n\u001b[1;32m    883\u001b[0m             \u001b[0moutputs\u001b[0m \u001b[0;34m=\u001b[0m\u001b[0;31m\\\u001b[0m\u001b[0;34m\u001b[0m\u001b[0m\n\u001b[0;32m--> 884\u001b[0;31m                 \u001b[0mself\u001b[0m\u001b[0;34m.\u001b[0m\u001b[0mfn\u001b[0m\u001b[0;34m(\u001b[0m\u001b[0;34m)\u001b[0m \u001b[0;32mif\u001b[0m \u001b[0moutput_subset\u001b[0m \u001b[0;32mis\u001b[0m \u001b[0;32mNone\u001b[0m \u001b[0;32melse\u001b[0m\u001b[0;31m\\\u001b[0m\u001b[0;34m\u001b[0m\u001b[0m\n\u001b[0m\u001b[1;32m    885\u001b[0m                 \u001b[0mself\u001b[0m\u001b[0;34m.\u001b[0m\u001b[0mfn\u001b[0m\u001b[0;34m(\u001b[0m\u001b[0moutput_subset\u001b[0m\u001b[0;34m=\u001b[0m\u001b[0moutput_subset\u001b[0m\u001b[0;34m)\u001b[0m\u001b[0;34m\u001b[0m\u001b[0m\n",
      "\u001b[0;31mValueError\u001b[0m: Input dimension mis-match. (input[0].shape[1] = 213, input[1].shape[1] = 4388)",
      "\nDuring handling of the above exception, another exception occurred:\n",
      "\u001b[0;31mValueError\u001b[0m                                Traceback (most recent call last)",
      "\u001b[0;32m<ipython-input-157-7789fb1389fb>\u001b[0m in \u001b[0;36m<module>\u001b[0;34m()\u001b[0m\n\u001b[0;32m----> 1\u001b[0;31m \u001b[0mtest_loss\u001b[0m \u001b[0;34m=\u001b[0m \u001b[0mcost_eval\u001b[0m\u001b[0;34m(\u001b[0m\u001b[0mX_test\u001b[0m\u001b[0;34m,\u001b[0m \u001b[0mY_test\u001b[0m\u001b[0;34m,\u001b[0m \u001b[0mA_hat\u001b[0m\u001b[0;34m,\u001b[0m \u001b[0mmask_test\u001b[0m\u001b[0;34m)\u001b[0m\u001b[0;34m\u001b[0m\u001b[0m\n\u001b[0m",
      "\u001b[0;32m/Users/krisj/anaconda/envs/cfb_old/lib/python3.4/site-packages/theano/compile/function_module.py\u001b[0m in \u001b[0;36m__call__\u001b[0;34m(self, *args, **kwargs)\u001b[0m\n\u001b[1;32m    896\u001b[0m                     \u001b[0mnode\u001b[0m\u001b[0;34m=\u001b[0m\u001b[0mself\u001b[0m\u001b[0;34m.\u001b[0m\u001b[0mfn\u001b[0m\u001b[0;34m.\u001b[0m\u001b[0mnodes\u001b[0m\u001b[0;34m[\u001b[0m\u001b[0mself\u001b[0m\u001b[0;34m.\u001b[0m\u001b[0mfn\u001b[0m\u001b[0;34m.\u001b[0m\u001b[0mposition_of_error\u001b[0m\u001b[0;34m]\u001b[0m\u001b[0;34m,\u001b[0m\u001b[0;34m\u001b[0m\u001b[0m\n\u001b[1;32m    897\u001b[0m                     \u001b[0mthunk\u001b[0m\u001b[0;34m=\u001b[0m\u001b[0mthunk\u001b[0m\u001b[0;34m,\u001b[0m\u001b[0;34m\u001b[0m\u001b[0m\n\u001b[0;32m--> 898\u001b[0;31m                     storage_map=getattr(self.fn, 'storage_map', None))\n\u001b[0m\u001b[1;32m    899\u001b[0m             \u001b[0;32melse\u001b[0m\u001b[0;34m:\u001b[0m\u001b[0;34m\u001b[0m\u001b[0m\n\u001b[1;32m    900\u001b[0m                 \u001b[0;31m# old-style linkers raise their own exceptions\u001b[0m\u001b[0;34m\u001b[0m\u001b[0;34m\u001b[0m\u001b[0m\n",
      "\u001b[0;32m/Users/krisj/anaconda/envs/cfb_old/lib/python3.4/site-packages/theano/gof/link.py\u001b[0m in \u001b[0;36mraise_with_op\u001b[0;34m(node, thunk, exc_info, storage_map)\u001b[0m\n\u001b[1;32m    323\u001b[0m         \u001b[0;31m# extra long error message in that case.\u001b[0m\u001b[0;34m\u001b[0m\u001b[0;34m\u001b[0m\u001b[0m\n\u001b[1;32m    324\u001b[0m         \u001b[0;32mpass\u001b[0m\u001b[0;34m\u001b[0m\u001b[0m\n\u001b[0;32m--> 325\u001b[0;31m     \u001b[0mreraise\u001b[0m\u001b[0;34m(\u001b[0m\u001b[0mexc_type\u001b[0m\u001b[0;34m,\u001b[0m \u001b[0mexc_value\u001b[0m\u001b[0;34m,\u001b[0m \u001b[0mexc_trace\u001b[0m\u001b[0;34m)\u001b[0m\u001b[0;34m\u001b[0m\u001b[0m\n\u001b[0m\u001b[1;32m    326\u001b[0m \u001b[0;34m\u001b[0m\u001b[0m\n\u001b[1;32m    327\u001b[0m \u001b[0;34m\u001b[0m\u001b[0m\n",
      "\u001b[0;32m/Users/krisj/anaconda/envs/cfb_old/lib/python3.4/site-packages/six.py\u001b[0m in \u001b[0;36mreraise\u001b[0;34m(tp, value, tb)\u001b[0m\n\u001b[1;32m    690\u001b[0m                 \u001b[0mvalue\u001b[0m \u001b[0;34m=\u001b[0m \u001b[0mtp\u001b[0m\u001b[0;34m(\u001b[0m\u001b[0;34m)\u001b[0m\u001b[0;34m\u001b[0m\u001b[0m\n\u001b[1;32m    691\u001b[0m             \u001b[0;32mif\u001b[0m \u001b[0mvalue\u001b[0m\u001b[0;34m.\u001b[0m\u001b[0m__traceback__\u001b[0m \u001b[0;32mis\u001b[0m \u001b[0;32mnot\u001b[0m \u001b[0mtb\u001b[0m\u001b[0;34m:\u001b[0m\u001b[0;34m\u001b[0m\u001b[0m\n\u001b[0;32m--> 692\u001b[0;31m                 \u001b[0;32mraise\u001b[0m \u001b[0mvalue\u001b[0m\u001b[0;34m.\u001b[0m\u001b[0mwith_traceback\u001b[0m\u001b[0;34m(\u001b[0m\u001b[0mtb\u001b[0m\u001b[0;34m)\u001b[0m\u001b[0;34m\u001b[0m\u001b[0m\n\u001b[0m\u001b[1;32m    693\u001b[0m             \u001b[0;32mraise\u001b[0m \u001b[0mvalue\u001b[0m\u001b[0;34m\u001b[0m\u001b[0m\n\u001b[1;32m    694\u001b[0m         \u001b[0;32mfinally\u001b[0m\u001b[0;34m:\u001b[0m\u001b[0;34m\u001b[0m\u001b[0m\n",
      "\u001b[0;32m/Users/krisj/anaconda/envs/cfb_old/lib/python3.4/site-packages/theano/compile/function_module.py\u001b[0m in \u001b[0;36m__call__\u001b[0;34m(self, *args, **kwargs)\u001b[0m\n\u001b[1;32m    882\u001b[0m         \u001b[0;32mtry\u001b[0m\u001b[0;34m:\u001b[0m\u001b[0;34m\u001b[0m\u001b[0m\n\u001b[1;32m    883\u001b[0m             \u001b[0moutputs\u001b[0m \u001b[0;34m=\u001b[0m\u001b[0;31m\\\u001b[0m\u001b[0;34m\u001b[0m\u001b[0m\n\u001b[0;32m--> 884\u001b[0;31m                 \u001b[0mself\u001b[0m\u001b[0;34m.\u001b[0m\u001b[0mfn\u001b[0m\u001b[0;34m(\u001b[0m\u001b[0;34m)\u001b[0m \u001b[0;32mif\u001b[0m \u001b[0moutput_subset\u001b[0m \u001b[0;32mis\u001b[0m \u001b[0;32mNone\u001b[0m \u001b[0;32melse\u001b[0m\u001b[0;31m\\\u001b[0m\u001b[0;34m\u001b[0m\u001b[0m\n\u001b[0m\u001b[1;32m    885\u001b[0m                 \u001b[0mself\u001b[0m\u001b[0;34m.\u001b[0m\u001b[0mfn\u001b[0m\u001b[0;34m(\u001b[0m\u001b[0moutput_subset\u001b[0m\u001b[0;34m=\u001b[0m\u001b[0moutput_subset\u001b[0m\u001b[0;34m)\u001b[0m\u001b[0;34m\u001b[0m\u001b[0m\n\u001b[1;32m    886\u001b[0m         \u001b[0;32mexcept\u001b[0m \u001b[0mException\u001b[0m\u001b[0;34m:\u001b[0m\u001b[0;34m\u001b[0m\u001b[0m\n",
      "\u001b[0;31mValueError\u001b[0m: Input dimension mis-match. (input[0].shape[1] = 213, input[1].shape[1] = 4388)\nApply node that caused the error: Elemwise{mul,no_inplace}(InplaceDimShuffle{x,0,1}.0, ymask_sym)\nToposort index: 129\nInputs types: [TensorType(float64, (True, False, False)), TensorType(float64, 3D)]\nInputs shapes: [(1, 213, 4388), (213, 4388, 1)]\nInputs strides: [(7477152, 35104, 8), (35104, 8, 8)]\nInputs values: ['not shown', 'not shown']\nInputs type_num: [12, 12]\nOutputs clients: [[Sum{acc_dtype=float64}(Elemwise{mul,no_inplace}.0)]]\n\nBacktrace when the node is created(use Theano flag traceback.limit=N to make it longer):\n  File \"/Users/krisj/anaconda/envs/cfb_old/lib/python3.4/site-packages/ipykernel/kernelbase.py\", line 228, in dispatch_shell\n    handler(stream, idents, msg)\n  File \"/Users/krisj/anaconda/envs/cfb_old/lib/python3.4/site-packages/ipykernel/kernelbase.py\", line 391, in execute_request\n    user_expressions, allow_stdin)\n  File \"/Users/krisj/anaconda/envs/cfb_old/lib/python3.4/site-packages/ipykernel/ipkernel.py\", line 199, in do_execute\n    shell.run_cell(code, store_history=store_history, silent=silent)\n  File \"/Users/krisj/anaconda/envs/cfb_old/lib/python3.4/site-packages/IPython/core/interactiveshell.py\", line 2717, in run_cell\n    interactivity=interactivity, compiler=compiler, result=result)\n  File \"/Users/krisj/anaconda/envs/cfb_old/lib/python3.4/site-packages/IPython/core/interactiveshell.py\", line 2821, in run_ast_nodes\n    if self.run_code(code, result):\n  File \"/Users/krisj/anaconda/envs/cfb_old/lib/python3.4/site-packages/IPython/core/interactiveshell.py\", line 2881, in run_code\n    exec(code_obj, self.user_global_ns, self.user_ns)\n  File \"<ipython-input-144-ada4fb01b576>\", line 10, in <module>\n    cost = lasagne.objectives.aggregate(cost, weights=ymask_sym, mode=\"mean\")\n  File \"/Users/krisj/anaconda/envs/cfb_old/lib/python3.4/site-packages/lasagne/objectives.py\", line 237, in aggregate\n    return loss.mean()\n\nDebugprint of the apply node: \nElemwise{mul,no_inplace} [id A] <TensorType(float64, 3D)> ''   \n |InplaceDimShuffle{x,0,1} [id B] <TensorType(float64, (True, False, False))> ''   \n | |Sum{axis=[2], acc_dtype=float64} [id C] <TensorType(float64, matrix)> ''   \n |   |Elemwise{Composite{(i0 * log((i1 + i2)))}}[(0, 2)] [id D] <TensorType(float64, 3D)> ''   \n |     |y_sym [id E] <TensorType(float64, 3D)>\n |     |TensorConstant{(1, 1, 1) of 1e-08} [id F] <TensorType(float64, (True, True, True))>\n |     |Reshape{3} [id G] <TensorType(float64, 3D)> ''   \n |       |Softmax [id H] <TensorType(float64, matrix)> ''   \n |       | |Reshape{2} [id I] <TensorType(float64, matrix)> ''   \n |       |   |Elemwise{Add}[(0, 0)] [id J] <TensorType(float64, 3D)> ''   \n |       |   | |Reshape{3} [id K] <TensorType(float64, 3D)> ''   \n |       |   | | |Dot22 [id L] <TensorType(float64, matrix)> ''   \n |       |   | | | |Reshape{2} [id M] <TensorType(float64, matrix)> ''   \n |       |   | | | | |Elemwise{Composite{(i0 * ((i1 * (i2 + i3) * Composite{Cast{float64}(LT(i0, i1))}(i4, i5)) + (i6 * Abs((i2 + i3)) * Composite{Cast{float64}(LT(i0, i1))}(i4, i5))))}}[(0, 2)] [id N] <TensorType(float64, 3D)> ''   \n |       |   | | | | | |TensorConstant{(1, 1, 1) of 2.0} [id O] <TensorType(float64, (True, True, True))>\n |       |   | | | | | |TensorConstant{(1, 1, 1) of 0.505} [id P] <TensorType(float64, (True, True, True))>\n |       |   | | | | | |Reshape{3} [id Q] <TensorType(float64, 3D)> ''   \n |       |   | | | | | | |Dot22 [id R] <TensorType(float64, matrix)> ''   \n |       |   | | | | | | | |Reshape{2} [id S] <TensorType(float64, matrix)> ''   \n |       |   | | | | | | | | |Join [id T] <TensorType(float64, 3D)> ''   \n |       |   | | | | | | | | | |TensorConstant{2} [id U] <TensorType(int8, scalar)>\n |       |   | | | | | | | | | |Elemwise{Composite{((i0 * i1) + (i2 * Abs(i1)))}}[(0, 1)] [id V] <TensorType(float64, 3D)> ''   \n |       |   | | | | | | | | | | |TensorConstant{(1, 1, 1) of 0.505} [id P] <TensorType(float64, (True, True, True))>\n |       |   | | | | | | | | | | |Reshape{3} [id W] <TensorType(float64, 3D)> ''   \n |       |   | | | | | | | | | | | |Dot22 [id X] <TensorType(float64, matrix)> ''   \n |       |   | | | | | | | | | | | | |Reshape{2} [id Y] <TensorType(float64, matrix)> ''   \n |       |   | | | | | | | | | | | | | |InplaceDimShuffle{2,1,0,3} [id Z] <TensorType(float64, 4D)> ''   \n |       |   | | | | | | | | | | | | | | |Reshape{4} [id BA] <TensorType(float64, 4D)> ''   \n |       |   | | | | | | | | | | | | | |   |Dot22 [id BB] <TensorType(float64, matrix)> ''   \n |       |   | | | | | | | | | | | | | |   | |Reshape{2} [id BC] <TensorType(float64, matrix)> ''   \n |       |   | | | | | | | | | | | | | |   | | |InplaceDimShuffle{0,2,1} [id BD] <TensorType(float64, 3D)> ''   \n |       |   | | | | | | | | | | | | | |   | | | |A_sym [id BE] <TensorType(float64, 3D)>\n |       |   | | | | | | | | | | | | | |   | | |MakeVector{dtype='int64'} [id BF] <TensorType(int64, vector)> ''   \n |       |   | | | | | | | | | | | | | |   | |   |Elemwise{Mul}[(0, 0)] [id BG] <TensorType(int64, scalar)> ''   \n |       |   | | | | | | | | | | | | | |   | |   | |Shape_i{0} [id BH] <TensorType(int64, scalar)> ''   \n |       |   | | | | | | | | | | | | | |   | |   | | |A_sym [id BE] <TensorType(float64, 3D)>\n |       |   | | | | | | | | | | | | | |   | |   | |Shape_i{2} [id BI] <TensorType(int64, scalar)> ''   \n |       |   | | | | | | | | | | | | | |   | |   |   |A_sym [id BE] <TensorType(float64, 3D)>\n |       |   | | | | | | | | | | | | | |   | |   |Shape_i{1} [id BJ] <TensorType(int64, scalar)> ''   \n |       |   | | | | | | | | | | | | | |   | |     |A_sym [id BE] <TensorType(float64, 3D)>\n |       |   | | | | | | | | | | | | | |   | |Reshape{2} [id BK] <TensorType(float64, matrix)> ''   \n |       |   | | | | | | | | | | | | | |   |   |InplaceDimShuffle{1,0,2} [id BL] <TensorType(float64, 3D)> ''   \n |       |   | | | | | | | | | | | | | |   |   | |x_sym [id BM] <TensorType(float64, 3D)>\n |       |   | | | | | | | | | | | | | |   |   |MakeVector{dtype='int64'} [id BN] <TensorType(int64, vector)> ''   \n |       |   | | | | | | | | | | | | | |   |     |Shape_i{1} [id BO] <TensorType(int64, scalar)> ''   \n |       |   | | | | | | | | | | | | | |   |     | |x_sym [id BM] <TensorType(float64, 3D)>\n |       |   | | | | | | | | | | | | | |   |     |Elemwise{mul,no_inplace} [id BP] <TensorType(int64, scalar)> ''   \n |       |   | | | | | | | | | | | | | |   |       |Shape_i{2} [id BQ] <TensorType(int64, scalar)> ''   \n |       |   | | | | | | | | | | | | | |   |       | |x_sym [id BM] <TensorType(float64, 3D)>\n |       |   | | | | | | | | | | | | | |   |       |Shape_i{0} [id BR] <TensorType(int64, scalar)> ''   \n |       |   | | | | | | | | | | | | | |   |         |x_sym [id BM] <TensorType(float64, 3D)>\n |       |   | | | | | | | | | | | | | |   |MakeVector{dtype='int64'} [id BS] <TensorType(int64, vector)> ''   \n |       |   | | | | | | | | | | | | | |     |Shape_i{0} [id BH] <TensorType(int64, scalar)> ''   \n |       |   | | | | | | | | | | | | | |     |Shape_i{2} [id BI] <TensorType(int64, scalar)> ''   \n |       |   | | | | | | | | | | | | | |     |Shape_i{0} [id BR] <TensorType(int64, scalar)> ''   \n |       |   | | | | | | | | | | | | | |     |Shape_i{2} [id BQ] <TensorType(int64, scalar)> ''   \n |       |   | | | | | | | | | | | | | |MakeVector{dtype='int64'} [id BT] <TensorType(int64, vector)> ''   \n |       |   | | | | | | | | | | | | |   |Elemwise{Mul}[(0, 0)] [id BU] <TensorType(int64, scalar)> ''   \n |       |   | | | | | | | | | | | | |   | |Shape_i{0} [id BR] <TensorType(int64, scalar)> ''   \n |       |   | | | | | | | | | | | | |   | |Shape_i{2} [id BI] <TensorType(int64, scalar)> ''   \n |       |   | | | | | | | | | | | | |   |Elemwise{Mul}[(0, 0)] [id BV] <TensorType(int64, scalar)> ''   \n |       |   | | | | | | | | | | | | |     |Shape_i{2} [id BQ] <TensorType(int64, scalar)> ''   \n |       |   | | | | | | | | | | | | |     |Shape_i{0} [id BH] <TensorType(int64, scalar)> ''   \n |       |   | | | | | | | | | | | | |Reshape{2} [id BW] <TensorType(float64, matrix)> ''   \n |       |   | | | | | | | | | | | |   |W [id BX] <TensorType(float64, 3D)>\n |       |   | | | | | | | | | | | |   |MakeVector{dtype='int64'} [id BY] <TensorType(int64, vector)> ''   \n |       |   | | | | | | | | | | | |     |Elemwise{Mul}[(0, 0)] [id BZ] <TensorType(int64, scalar)> ''   \n |       |   | | | | | | | | | | | |     | |Shape_i{0} [id CA] <TensorType(int64, scalar)> ''   \n |       |   | | | | | | | | | | | |     | | |W [id BX] <TensorType(float64, 3D)>\n |       |   | | | | | | | | | | | |     | |Shape_i{1} [id CB] <TensorType(int64, scalar)> ''   \n |       |   | | | | | | | | | | | |     |   |W [id BX] <TensorType(float64, 3D)>\n |       |   | | | | | | | | | | | |     |Shape_i{2} [id CC] <TensorType(int64, scalar)> ''   \n |       |   | | | | | | | | | | | |       |W [id BX] <TensorType(float64, 3D)>\n |       |   | | | | | | | | | | | |MakeVector{dtype='int64'} [id CD] <TensorType(int64, vector)> ''   \n |       |   | | | | | | | | | | |   |Shape_i{0} [id BR] <TensorType(int64, scalar)> ''   \n |       |   | | | | | | | | | | |   |Shape_i{2} [id BI] <TensorType(int64, scalar)> ''   \n |       |   | | | | | | | | | | |   |Shape_i{2} [id CC] <TensorType(int64, scalar)> ''   \n |       |   | | | | | | | | | | |TensorConstant{(1, 1, 1) of 0.495} [id CE] <TensorType(float64, (True, True, True))>\n |       |   | | | | | | | | | |Elemwise{Composite{((i0 * i1) + (i2 * Abs(i1)))}}[(0, 1)] [id CF] <TensorType(float64, 3D)> ''   \n |       |   | | | | | | | | | | |TensorConstant{(1, 1, 1) of 0.505} [id P] <TensorType(float64, (True, True, True))>\n |       |   | | | | | | | | | | |Reshape{3} [id CG] <TensorType(float64, 3D)> ''   \n |       |   | | | | | | | | | | | |Dot22 [id CH] <TensorType(float64, matrix)> ''   \n |       |   | | | | | | | | | | | | |Reshape{2} [id CI] <TensorType(float64, matrix)> ''   \n |       |   | | | | | | | | | | | | | |InplaceDimShuffle{2,1,0,3} [id CJ] <TensorType(float64, 4D)> ''   \n |       |   | | | | | | | | | | | | | | |Reshape{4} [id CK] <TensorType(float64, 4D)> ''   \n |       |   | | | | | | | | | | | | | |   |Dot22 [id CL] <TensorType(float64, matrix)> ''   \n |       |   | | | | | | | | | | | | | |   | |Reshape{2} [id BC] <TensorType(float64, matrix)> ''   \n |       |   | | | | | | | | | | | | | |   | |Reshape{2} [id CM] <TensorType(float64, matrix)> ''   \n |       |   | | | | | | | | | | | | | |   |   |InplaceDimShuffle{1,0,2} [id CN] <TensorType(float64, 3D)> ''   \n |       |   | | | | | | | | | | | | | |   |   | |Elemwise{Composite{((i0 * i1) + (i2 * Abs(i1)))}}[(0, 1)] [id V] <TensorType(float64, 3D)> ''   \n |       |   | | | | | | | | | | | | | |   |   |MakeVector{dtype='int64'} [id CO] <TensorType(int64, vector)> ''   \n |       |   | | | | | | | | | | | | | |   |     |Shape_i{2} [id BI] <TensorType(int64, scalar)> ''   \n |       |   | | | | | | | | | | | | | |   |     |Elemwise{mul,no_inplace} [id CP] <TensorType(int64, scalar)> ''   \n |       |   | | | | | | | | | | | | | |   |       |Shape_i{2} [id CC] <TensorType(int64, scalar)> ''   \n |       |   | | | | | | | | | | | | | |   |       |Shape_i{0} [id BR] <TensorType(int64, scalar)> ''   \n |       |   | | | | | | | | | | | | | |   |MakeVector{dtype='int64'} [id CQ] <TensorType(int64, vector)> ''   \n |       |   | | | | | | | | | | | | | |     |Shape_i{0} [id BH] <TensorType(int64, scalar)> ''   \n |       |   | | | | | | | | | | | | | |     |Shape_i{2} [id BI] <TensorType(int64, scalar)> ''   \n |       |   | | | | | | | | | | | | | |     |Shape_i{0} [id BR] <TensorType(int64, scalar)> ''   \n |       |   | | | | | | | | | | | | | |     |Shape_i{2} [id CC] <TensorType(int64, scalar)> ''   \n |       |   | | | | | | | | | | | | | |MakeVector{dtype='int64'} [id CR] <TensorType(int64, vector)> ''   \n |       |   | | | | | | | | | | | | |   |Elemwise{Mul}[(0, 0)] [id BU] <TensorType(int64, scalar)> ''   \n |       |   | | | | | | | | | | | | |   |Elemwise{mul,no_inplace} [id CS] <TensorType(int64, scalar)> ''   \n |       |   | | | | | | | | | | | | |     |Shape_i{2} [id CC] <TensorType(int64, scalar)> ''   \n |       |   | | | | | | | | | | | | |     |Shape_i{0} [id BH] <TensorType(int64, scalar)> ''   \n |       |   | | | | | | | | | | | | |Reshape{2} [id CT] <TensorType(float64, matrix)> ''   \n |       |   | | | | | | | | | | | |   |W [id CU] <TensorType(float64, 3D)>\n |       |   | | | | | | | | | | | |   |MakeVector{dtype='int64'} [id CV] <TensorType(int64, vector)> ''   \n |       |   | | | | | | | | | | | |     |Elemwise{Mul}[(0, 0)] [id CW] <TensorType(int64, scalar)> ''   \n |       |   | | | | | | | | | | | |     | |Shape_i{0} [id CX] <TensorType(int64, scalar)> ''   \n |       |   | | | | | | | | | | | |     | | |W [id CU] <TensorType(float64, 3D)>\n |       |   | | | | | | | | | | | |     | |Shape_i{1} [id CY] <TensorType(int64, scalar)> ''   \n |       |   | | | | | | | | | | | |     |   |W [id CU] <TensorType(float64, 3D)>\n |       |   | | | | | | | | | | | |     |Shape_i{2} [id CZ] <TensorType(int64, scalar)> ''   \n |       |   | | | | | | | | | | | |       |W [id CU] <TensorType(float64, 3D)>\n |       |   | | | | | | | | | | | |MakeVector{dtype='int64'} [id DA] <TensorType(int64, vector)> ''   \n |       |   | | | | | | | | | | |   |Shape_i{0} [id BR] <TensorType(int64, scalar)> ''   \n |       |   | | | | | | | | | | |   |Shape_i{2} [id BI] <TensorType(int64, scalar)> ''   \n |       |   | | | | | | | | | | |   |Shape_i{2} [id CZ] <TensorType(int64, scalar)> ''   \n |       |   | | | | | | | | | | |TensorConstant{(1, 1, 1) of 0.495} [id CE] <TensorType(float64, (True, True, True))>\n |       |   | | | | | | | | | |Elemwise{Composite{((i0 * i1) + (i2 * Abs(i1)))}}[(0, 1)] [id DB] <TensorType(float64, 3D)> ''   \n |       |   | | | | | | | | | | |TensorConstant{(1, 1, 1) of 0.505} [id P] <TensorType(float64, (True, True, True))>\n |       |   | | | | | | | | | | |Reshape{3} [id DC] <TensorType(float64, 3D)> ''   \n |       |   | | | | | | | | | | | |Dot22 [id DD] <TensorType(float64, matrix)> ''   \n |       |   | | | | | | | | | | | | |Reshape{2} [id DE] <TensorType(float64, matrix)> ''   \n |       |   | | | | | | | | | | | | | |InplaceDimShuffle{2,1,0,3} [id DF] <TensorType(float64, 4D)> ''   \n |       |   | | | | | | | | | | | | | | |Reshape{4} [id DG] <TensorType(float64, 4D)> ''   \n |       |   | | | | | | | | | | | | | |   |Dot22 [id DH] <TensorType(float64, matrix)> ''   \n |       |   | | | | | | | | | | | | | |   | |Reshape{2} [id BC] <TensorType(float64, matrix)> ''   \n |       |   | | | | | | | | | | | | | |   | |Reshape{2} [id DI] <TensorType(float64, matrix)> ''   \n |       |   | | | | | | | | | | | | | |   |   |InplaceDimShuffle{1,0,2} [id DJ] <TensorType(float64, 3D)> ''   \n |       |   | | | | | | | | | | | | | |   |   | |Elemwise{Composite{((i0 * i1) + (i2 * Abs(i1)))}}[(0, 1)] [id CF] <TensorType(float64, 3D)> ''   \n |       |   | | | | | | | | | | | | | |   |   |MakeVector{dtype='int64'} [id DK] <TensorType(int64, vector)> ''   \n |       |   | | | | | | | | | | | | | |   |     |Shape_i{2} [id BI] <TensorType(int64, scalar)> ''   \n |       |   | | | | | | | | | | | | | |   |     |Elemwise{mul,no_inplace} [id DL] <TensorType(int64, scalar)> ''   \n |       |   | | | | | | | | | | | | | |   |       |Shape_i{2} [id CZ] <TensorType(int64, scalar)> ''   \n |       |   | | | | | | | | | | | | | |   |       |Shape_i{0} [id BR] <TensorType(int64, scalar)> ''   \n |       |   | | | | | | | | | | | | | |   |MakeVector{dtype='int64'} [id DM] <TensorType(int64, vector)> ''   \n |       |   | | | | | | | | | | | | | |     |Shape_i{0} [id BH] <TensorType(int64, scalar)> ''   \n |       |   | | | | | | | | | | | | | |     |Shape_i{2} [id BI] <TensorType(int64, scalar)> ''   \n |       |   | | | | | | | | | | | | | |     |Shape_i{0} [id BR] <TensorType(int64, scalar)> ''   \n |       |   | | | | | | | | | | | | | |     |Shape_i{2} [id CZ] <TensorType(int64, scalar)> ''   \n |       |   | | | | | | | | | | | | | |MakeVector{dtype='int64'} [id DN] <TensorType(int64, vector)> ''   \n |       |   | | | | | | | | | | | | |   |Elemwise{Mul}[(0, 0)] [id BU] <TensorType(int64, scalar)> ''   \n |       |   | | | | | | | | | | | | |   |Elemwise{Mul}[(0, 0)] [id DO] <TensorType(int64, scalar)> ''   \n |       |   | | | | | | | | | | | | |     |Shape_i{2} [id CZ] <TensorType(int64, scalar)> ''   \n |       |   | | | | | | | | | | | | |     |Shape_i{0} [id BH] <TensorType(int64, scalar)> ''   \n |       |   | | | | | | | | | | | | |Reshape{2} [id DP] <TensorType(float64, matrix)> ''   \n |       |   | | | | | | | | | | | |   |W [id DQ] <TensorType(float64, 3D)>\n |       |   | | | | | | | | | | | |   |MakeVector{dtype='int64'} [id DR] <TensorType(int64, vector)> ''   \n |       |   | | | | | | | | | | | |     |Elemwise{Mul}[(0, 0)] [id DS] <TensorType(int64, scalar)> ''   \n |       |   | | | | | | | | | | | |     | |Shape_i{0} [id DT] <TensorType(int64, scalar)> ''   \n |       |   | | | | | | | | | | | |     | | |W [id DQ] <TensorType(float64, 3D)>\n |       |   | | | | | | | | | | | |     | |Shape_i{1} [id DU] <TensorType(int64, scalar)> ''   \n |       |   | | | | | | | | | | | |     |   |W [id DQ] <TensorType(float64, 3D)>\n |       |   | | | | | | | | | | | |     |Shape_i{2} [id DV] <TensorType(int64, scalar)> ''   \n |       |   | | | | | | | | | | | |       |W [id DQ] <TensorType(float64, 3D)>\n |       |   | | | | | | | | | | | |MakeVector{dtype='int64'} [id DW] <TensorType(int64, vector)> ''   \n |       |   | | | | | | | | | | |   |Shape_i{0} [id BR] <TensorType(int64, scalar)> ''   \n |       |   | | | | | | | | | | |   |Shape_i{2} [id BI] <TensorType(int64, scalar)> ''   \n |       |   | | | | | | | | | | |   |Shape_i{2} [id DV] <TensorType(int64, scalar)> ''   \n |       |   | | | | | | | | | | |TensorConstant{(1, 1, 1) of 0.495} [id CE] <TensorType(float64, (True, True, True))>\n |       |   | | | | | | | | | |Elemwise{Composite{((i0 * i1) + (i2 * Abs(i1)))}}[(0, 1)] [id DX] <TensorType(float64, 3D)> ''   \n |       |   | | | | | | | | |   |TensorConstant{(1, 1, 1) of 0.505} [id P] <TensorType(float64, (True, True, True))>\n |       |   | | | | | | | | |   |Reshape{3} [id DY] <TensorType(float64, 3D)> ''   \n |       |   | | | | | | | | |   | |Dot22 [id DZ] <TensorType(float64, matrix)> ''   \n |       |   | | | | | | | | |   | | |Reshape{2} [id EA] <TensorType(float64, matrix)> ''   \n |       |   | | | | | | | | |   | | | |InplaceDimShuffle{2,1,0,3} [id EB] <TensorType(float64, 4D)> ''   \n |       |   | | | | | | | | |   | | | | |Reshape{4} [id EC] <TensorType(float64, 4D)> ''   \n |       |   | | | | | | | | |   | | | |   |Dot22 [id ED] <TensorType(float64, matrix)> ''   \n |       |   | | | | | | | | |   | | | |   | |Reshape{2} [id BC] <TensorType(float64, matrix)> ''   \n |       |   | | | | | | | | |   | | | |   | |Reshape{2} [id EE] <TensorType(float64, matrix)> ''   \n |       |   | | | | | | | | |   | | | |   |   |InplaceDimShuffle{1,0,2} [id EF] <TensorType(float64, 3D)> ''   \n |       |   | | | | | | | | |   | | | |   |   | |Elemwise{Composite{((i0 * i1) + (i2 * Abs(i1)))}}[(0, 1)] [id DB] <TensorType(float64, 3D)> ''   \n |       |   | | | | | | | | |   | | | |   |   |MakeVector{dtype='int64'} [id EG] <TensorType(int64, vector)> ''   \n |       |   | | | | | | | | |   | | | |   |     |Shape_i{2} [id BI] <TensorType(int64, scalar)> ''   \n |       |   | | | | | | | | |   | | | |   |     |Elemwise{mul,no_inplace} [id EH] <TensorType(int64, scalar)> ''   \n |       |   | | | | | | | | |   | | | |   |       |Shape_i{2} [id DV] <TensorType(int64, scalar)> ''   \n |       |   | | | | | | | | |   | | | |   |       |Shape_i{0} [id BR] <TensorType(int64, scalar)> ''   \n |       |   | | | | | | | | |   | | | |   |MakeVector{dtype='int64'} [id EI] <TensorType(int64, vector)> ''   \n |       |   | | | | | | | | |   | | | |     |Shape_i{0} [id BH] <TensorType(int64, scalar)> ''   \n |       |   | | | | | | | | |   | | | |     |Shape_i{2} [id BI] <TensorType(int64, scalar)> ''   \n |       |   | | | | | | | | |   | | | |     |Shape_i{0} [id BR] <TensorType(int64, scalar)> ''   \n |       |   | | | | | | | | |   | | | |     |Shape_i{2} [id DV] <TensorType(int64, scalar)> ''   \n |       |   | | | | | | | | |   | | | |MakeVector{dtype='int64'} [id EJ] <TensorType(int64, vector)> ''   \n |       |   | | | | | | | | |   | | |   |Elemwise{Mul}[(0, 0)] [id BU] <TensorType(int64, scalar)> ''   \n |       |   | | | | | | | | |   | | |   |Elemwise{Mul}[(0, 0)] [id EK] <TensorType(int64, scalar)> ''   \n |       |   | | | | | | | | |   | | |     |Shape_i{2} [id DV] <TensorType(int64, scalar)> ''   \n |       |   | | | | | | | | |   | | |     |Shape_i{0} [id BH] <TensorType(int64, scalar)> ''   \n |       |   | | | | | | | | |   | | |Reshape{2} [id EL] <TensorType(float64, matrix)> ''   \n |       |   | | | | | | | | |   | |   |W [id EM] <TensorType(float64, 3D)>\n |       |   | | | | | | | | |   | |   |MakeVector{dtype='int64'} [id EN] <TensorType(int64, vector)> ''   \n |       |   | | | | | | | | |   | |     |Elemwise{Mul}[(0, 0)] [id EO] <TensorType(int64, scalar)> ''   \n |       |   | | | | | | | | |   | |     | |Shape_i{0} [id EP] <TensorType(int64, scalar)> ''   \n |       |   | | | | | | | | |   | |     | | |W [id EM] <TensorType(float64, 3D)>\n |       |   | | | | | | | | |   | |     | |Shape_i{1} [id EQ] <TensorType(int64, scalar)> ''   \n |       |   | | | | | | | | |   | |     |   |W [id EM] <TensorType(float64, 3D)>\n |       |   | | | | | | | | |   | |     |Shape_i{2} [id ER] <TensorType(int64, scalar)> ''   \n |       |   | | | | | | | | |   | |       |W [id EM] <TensorType(float64, 3D)>\n |       |   | | | | | | | | |   | |MakeVector{dtype='int64'} [id ES] <TensorType(int64, vector)> ''   \n |       |   | | | | | | | | |   |   |Shape_i{0} [id BR] <TensorType(int64, scalar)> ''   \n |       |   | | | | | | | | |   |   |Shape_i{2} [id BI] <TensorType(int64, scalar)> ''   \n |       |   | | | | | | | | |   |   |Shape_i{2} [id ER] <TensorType(int64, scalar)> ''   \n |       |   | | | | | | | | |   |TensorConstant{(1, 1, 1) of 0.495} [id CE] <TensorType(float64, (True, True, True))>\n |       |   | | | | | | | | |MakeVector{dtype='int64'} [id ET] <TensorType(int64, vector)> ''   \n |       |   | | | | | | | |   |Elemwise{Mul}[(0, 0)] [id BU] <TensorType(int64, scalar)> ''   \n |       |   | | | | | | | |   |Elemwise{Add}[(0, 0)] [id EU] <TensorType(int64, scalar)> ''   \n |       |   | | | | | | | |     |Shape_i{2} [id CC] <TensorType(int64, scalar)> ''   \n |       |   | | | | | | | |     |Shape_i{2} [id CZ] <TensorType(int64, scalar)> ''   \n |       |   | | | | | | | |     |Shape_i{2} [id DV] <TensorType(int64, scalar)> ''   \n |       |   | | | | | | | |     |Shape_i{2} [id ER] <TensorType(int64, scalar)> ''   \n |       |   | | | | | | | |W [id EV] <TensorType(float64, matrix)>\n |       |   | | | | | | |MakeVector{dtype='int64'} [id EW] <TensorType(int64, vector)> ''   \n |       |   | | | | | |   |Shape_i{0} [id BR] <TensorType(int64, scalar)> ''   \n |       |   | | | | | |   |Shape_i{2} [id BI] <TensorType(int64, scalar)> ''   \n |       |   | | | | | |   |Shape_i{1} [id EX] <TensorType(int64, scalar)> ''   \n |       |   | | | | | |     |W [id EV] <TensorType(float64, matrix)>\n |       |   | | | | | |InplaceDimShuffle{x,x,0} [id EY] <TensorType(float64, (True, True, False))> ''   \n |       |   | | | | | | |b [id EZ] <TensorType(float64, vector)>\n |       |   | | | | | |mrg_uniform{TensorType(float64, 3D),inplace}.1 [id FA] <TensorType(float64, 3D)> ''   \n |       |   | | | | | | |<TensorType(int32, matrix)> [id FB] <TensorType(int32, matrix)>\n |       |   | | | | | | |MakeVector{dtype='int64'} [id EW] <TensorType(int64, vector)> ''   \n |       |   | | | | | |TensorConstant{(1, 1, 1) of 0.5} [id FC] <TensorType(float32, (True, True, True))>\n |       |   | | | | | |TensorConstant{(1, 1, 1) of 0.495} [id CE] <TensorType(float64, (True, True, True))>\n |       |   | | | | |MakeVector{dtype='int64'} [id FD] <TensorType(int64, vector)> ''   \n |       |   | | | |   |Elemwise{Mul}[(0, 0)] [id BU] <TensorType(int64, scalar)> ''   \n |       |   | | | |   |Shape_i{1} [id EX] <TensorType(int64, scalar)> ''   \n |       |   | | | |W [id FE] <TensorType(float64, matrix)>\n |       |   | | |MakeVector{dtype='int64'} [id FF] <TensorType(int64, vector)> ''   \n |       |   | |   |Shape_i{0} [id BR] <TensorType(int64, scalar)> ''   \n |       |   | |   |Shape_i{2} [id BI] <TensorType(int64, scalar)> ''   \n |       |   | |   |Shape_i{1} [id FG] <TensorType(int64, scalar)> ''   \n |       |   | |     |W [id FE] <TensorType(float64, matrix)>\n |       |   | |InplaceDimShuffle{x,x,0} [id FH] <TensorType(float64, (True, True, False))> ''   \n |       |   |   |b [id FI] <TensorType(float64, vector)>\n |       |   |MakeVector{dtype='int64'} [id FJ] <TensorType(int64, vector)> ''   \n |       |     |TensorConstant{-1} [id FK] <TensorType(int64, scalar)>\n |       |     |Shape_i{1} [id FG] <TensorType(int64, scalar)> ''   \n |       |MakeVector{dtype='int64'} [id FF] <TensorType(int64, vector)> ''   \n |ymask_sym [id FL] <TensorType(float64, 3D)>\n\nStorage map footprint:\n - A_sym, Input, Shape: (3, 4388, 4388), ElemSize: 8 Byte(s), TotalSize: 462109056 Byte(s)\n - x_sym, Input, Shape: (213, 4388, 3), ElemSize: 8 Byte(s), TotalSize: 22431456 Byte(s)\n - y_sym, Input, Shape: (213, 4388, 2), ElemSize: 8 Byte(s), TotalSize: 14954304 Byte(s)\n - ymask_sym, Input, Shape: (213, 4388, 1), ElemSize: 8 Byte(s), TotalSize: 7477152 Byte(s)\n - InplaceDimShuffle{x,0,1}.0, Shape: (1, 213, 4388), ElemSize: 8 Byte(s), TotalSize: 7477152 Byte(s)\n - mrg_uniform{TensorType(float64, 3D),inplace}.0, Shape: (15360, 6), ElemSize: 4 Byte(s), TotalSize: 368640 Byte(s)\n - <TensorType(int32, matrix)>, Shared Input, Shape: (15360, 6), ElemSize: 4 Byte(s), TotalSize: 368640 Byte(s)\n - W, Shared Input, Shape: (24, 30), ElemSize: 8 Byte(s), TotalSize: 5760 Byte(s)\n - W, Shared Input, Shape: (3, 7, 9), ElemSize: 8 Byte(s), TotalSize: 1512 Byte(s)\n - W, Shared Input, Shape: (3, 5, 7), ElemSize: 8 Byte(s), TotalSize: 840 Byte(s)\n - W, Shared Input, Shape: (30, 2), ElemSize: 8 Byte(s), TotalSize: 480 Byte(s)\n - W, Shared Input, Shape: (3, 3, 5), ElemSize: 8 Byte(s), TotalSize: 360 Byte(s)\n - b, Shared Input, Shape: (30,), ElemSize: 8 Byte(s), TotalSize: 240 Byte(s)\n - W, Shared Input, Shape: (3, 3, 3), ElemSize: 8 Byte(s), TotalSize: 216 Byte(s)\n - b, Shared Input, Shape: (2,), ElemSize: 8 Byte(s), TotalSize: 16 Byte(s)\n - TensorConstant{(1, 1, 1) of 0.495}, Shape: (1, 1, 1), ElemSize: 8 Byte(s), TotalSize: 8 Byte(s)\n - TensorConstant{-1}, Shape: (), ElemSize: 8 Byte(s), TotalSize: 8.0 Byte(s)\n - TensorConstant{(1, 1, 1) of 2.0}, Shape: (1, 1, 1), ElemSize: 8 Byte(s), TotalSize: 8 Byte(s)\n - TensorConstant{(1, 1, 1) of 0.505}, Shape: (1, 1, 1), ElemSize: 8 Byte(s), TotalSize: 8 Byte(s)\n - Constant{0}, Shape: (), ElemSize: 8 Byte(s), TotalSize: 8.0 Byte(s)\n - TensorConstant{(1, 1, 1) of 1e-08}, Shape: (1, 1, 1), ElemSize: 8 Byte(s), TotalSize: 8 Byte(s)\n - Constant{2}, Shape: (), ElemSize: 8 Byte(s), TotalSize: 8.0 Byte(s)\n - Constant{1}, Shape: (), ElemSize: 8 Byte(s), TotalSize: 8.0 Byte(s)\n - TensorConstant{(1, 1, 1) of 0.5}, Shape: (1, 1, 1), ElemSize: 4 Byte(s), TotalSize: 4 Byte(s)\n - TensorConstant{2}, Shape: (), ElemSize: 1 Byte(s), TotalSize: 1.0 Byte(s)\n TotalSize: 514827253.0 Byte(s) 0.479 GB\n TotalSize inputs: 507350101.0 Byte(s) 0.473 GB\n\n"
     ]
    }
   ],
   "source": [
    "test_loss = cost_eval(X_test, Y_test, A_hat, mask_test)"
   ]
  },
  {
   "cell_type": "code",
   "execution_count": 393,
   "metadata": {},
   "outputs": [
    {
     "name": "stdout",
     "output_type": "stream",
     "text": [
      "[[20  4]\n",
      " [ 5  7]]\n"
     ]
    }
   ],
   "source": [
    "print(ConfusionMatrix(best_pred, Y_test.argmax(-1).flatten()[mask_test.flatten().astype(\"bool\")]))"
   ]
  },
  {
   "cell_type": "code",
   "execution_count": 73,
   "metadata": {},
   "outputs": [
    {
     "data": {
      "text/plain": [
       "(31, 2803)"
      ]
     },
     "execution_count": 73,
     "metadata": {},
     "output_type": "execute_result"
    }
   ],
   "source": [
    "lasagne.objectives.categorical_crossentropy(test_output, Y_test).eval().shape"
   ]
  },
  {
   "cell_type": "code",
   "execution_count": 74,
   "metadata": {},
   "outputs": [
    {
     "data": {
      "text/plain": [
       "(31, 2803, 1)"
      ]
     },
     "execution_count": 74,
     "metadata": {},
     "output_type": "execute_result"
    }
   ],
   "source": [
    "mask_test.shape"
   ]
  },
  {
   "cell_type": "code",
   "execution_count": null,
   "metadata": {
    "collapsed": true
   },
   "outputs": [],
   "source": [
    "# pFBA fluxes: Much less overfitting (train_loss < test_loss) than with model.solve() fluxes :S"
   ]
  },
  {
   "cell_type": "code",
   "execution_count": 221,
   "metadata": {},
   "outputs": [],
   "source": [
    "correctness = Y_test.argmax(2) == test_output.argmax(2)\n",
    "train_correctness = Y_train.argmax(2) == train_output.argmax(2)"
   ]
  },
  {
   "cell_type": "code",
   "execution_count": 222,
   "metadata": {},
   "outputs": [],
   "source": [
    "node_mask = (mask_test != 0)[0, :, 0]"
   ]
  },
  {
   "cell_type": "code",
   "execution_count": 223,
   "metadata": {},
   "outputs": [],
   "source": [
    "aa_order = [\n",
    "    'alanine',\n",
    "    'arginine',\n",
    "    'asparagine',\n",
    "    'aspartate',\n",
    "    'glutamine',\n",
    "    'glutamate',\n",
    "    'glycine',\n",
    "    'histidine',\n",
    "    'isoleucine',\n",
    "    'leucine',\n",
    "    'lysine',\n",
    "    'methionine',\n",
    "    'phenylalanine',\n",
    "    'proline',\n",
    "    'serine',\n",
    "    'threonine',\n",
    "    'tryptophan',\n",
    "    'tyrosine',\n",
    "    'valine'\n",
    "]"
   ]
  },
  {
   "cell_type": "code",
   "execution_count": 16,
   "metadata": {},
   "outputs": [
    {
     "data": {
      "text/plain": [
       "(31, 2803)"
      ]
     },
     "execution_count": 16,
     "metadata": {},
     "output_type": "execute_result"
    }
   ],
   "source": [
    "correctness.shape"
   ]
  },
  {
   "cell_type": "code",
   "execution_count": 17,
   "metadata": {},
   "outputs": [
    {
     "data": {
      "text/plain": [
       "[<matplotlib.lines.Line2D at 0x118594fd0>]"
      ]
     },
     "execution_count": 17,
     "metadata": {},
     "output_type": "execute_result"
    },
    {
     "data": {
      "image/png": "[encoded data removed]",
      "text/plain": [
       "<matplotlib.figure.Figure at 0x118b918d0>"
      ]
     },
     "metadata": {},
     "output_type": "display_data"
    }
   ],
   "source": [
    "plt.plot(Y_test.argmax(2)[:, node_mask].var(0),\n",
    "        test_output.argmax(2)[:, node_mask].var(0), \".\")"
   ]
  },
  {
   "cell_type": "code",
   "execution_count": 224,
   "metadata": {},
   "outputs": [],
   "source": [
    "def prediction_plots():\n",
    "    node_mask = (mask_test != 0)[0, :, 0]\n",
    "    \n",
    "    fig = plt.figure(figsize=[14, 14])\n",
    "    \n",
    "    guess = np.ones_like(test_output)\n",
    "    \n",
    "    correctness = (Y_test.argmax(2) == test_output.argmax(2))[:, node_mask]\n",
    "    #correctness = (Y_test.argmax(2) == guess[:, :, 0])[:, node_mask]\n",
    "    train_correctness = (Y_train.argmax(2) == train_output.argmax(2))[:, node_mask]\n",
    "    \n",
    "    # Bar chart\n",
    "    aa_accuracies = correctness.astype(\"int\").mean(0)\n",
    "    ax = fig.add_subplot(2, 2, 1)\n",
    "    ax.plot([-1, 19], [1/3, 1/3], \"--r\")\n",
    "    plt.bar(np.arange(0, len(aa_accuracies))-0.5, aa_accuracies)\n",
    "    plt.xlim(-1, 19)\n",
    "    plt.xticks(range(len(aa_accuracies)), rotation=\"vertical\")\n",
    "    ax.set_xticklabels(aa_order)\n",
    "    \n",
    "    plt.ylabel(\"Acc\")\n",
    "    \n",
    "    # Var vs Acc\n",
    "    ax = fig.add_subplot(2, 2, 2)\n",
    "    var = Y_test[:, node_mask].argmax(2).var(0)\n",
    "    \n",
    "    plt.plot(var, aa_accuracies, \".\")\n",
    "    plt.plot([var.min(), var.max()], [1/3, 1/3], \"--r\")\n",
    "    \n",
    "    plt.ylim([0, 1])\n",
    "    \n",
    "    plt.xlabel(\"Variance\")\n",
    "    plt.ylabel(\"Acc\")\n",
    "    \n",
    "    # Highest class frequency vs accuracy\n",
    "    ax = fig.add_subplot(2, 2, 3)\n",
    "    top_freq = Y_train[:, node_mask].sum(0).max(1) / Y_train.shape[0]\n",
    "    \n",
    "    plt.plot(top_freq, aa_accuracies, \".\")\n",
    "    plt.plot([top_freq.min(), top_freq.max()], [top_freq.min(), top_freq.max()], \"r--\")\n",
    "    \n",
    "    plt.xlabel(\"Freq of most frequent class\")\n",
    "    plt.ylabel(\"Acc\")"
   ]
  },
  {
   "cell_type": "code",
   "execution_count": 61,
   "metadata": {},
   "outputs": [],
   "source": [
    "bacs = np.zeros([len(aa_order), 3])\n",
    "for i in range(3):\n",
    "    bacs[:, i] = (train_correctness[:, node_mask] & (Y_train[:, node_mask].argmax(2) == i)).sum(0)\n",
    "    "
   ]
  },
  {
   "cell_type": "code",
   "execution_count": 63,
   "metadata": {
    "collapsed": true
   },
   "outputs": [
    {
     "data": {
      "image/png": "[encoded data removed]",
      "text/plain": [
       "<matplotlib.figure.Figure at 0x1135e0128>"
      ]
     },
     "metadata": {},
     "output_type": "display_data"
    }
   ],
   "source": [
    "plt.figure(figsize=[3, 20])\n",
    "freqs = Y[:, node_mask].sum(0) / Y.shape[0]\n",
    "for i, aa in enumerate(aa_order):\n",
    "    plt.subplot(19, 1, i+1)\n",
    "    \n",
    "    plt.bar(np.arange(0, 3, 1), freqs[i])\n",
    "    plt.xticks([])\n",
    "    "
   ]
  },
  {
   "cell_type": "code",
   "execution_count": 225,
   "metadata": {
    "collapsed": true
   },
   "outputs": [
    {
     "data": {
      "image/png": "[encoded data removed]",
      "text/plain": [
       "<matplotlib.figure.Figure at 0x15aa875f8>"
      ]
     },
     "metadata": {},
     "output_type": "display_data"
    }
   ],
   "source": [
    "prediction_plots()"
   ]
  },
  {
   "cell_type": "code",
   "execution_count": 38,
   "metadata": {},
   "outputs": [
    {
     "data": {
      "text/plain": [
       "641"
      ]
     },
     "execution_count": 38,
     "metadata": {},
     "output_type": "execute_result"
    }
   ],
   "source": [
    "(test_output[:, node_mask].argmax(2) == 2).sum()"
   ]
  },
  {
   "cell_type": "code",
   "execution_count": 18,
   "metadata": {},
   "outputs": [
    {
     "data": {
      "text/plain": [
       "[<matplotlib.lines.Line2D at 0x131475908>]"
      ]
     },
     "execution_count": 18,
     "metadata": {},
     "output_type": "execute_result"
    },
    {
     "data": {
      "image/png": "[encoded data removed]",
      "text/plain": [
       "<matplotlib.figure.Figure at 0x12fb8ca90>"
      ]
     },
     "metadata": {},
     "output_type": "display_data"
    }
   ],
   "source": [
    "plt.plot(Y_test.argmax(2)[:, node_mask].var(0),\n",
    "            (correctness * (mask_test != 0).astype(\"int\")[:, :, 0]).mean(0)[node_mask], \".\")"
   ]
  },
  {
   "cell_type": "code",
   "execution_count": 92,
   "metadata": {},
   "outputs": [
    {
     "data": {
      "text/plain": [
       "array([ 0.41935484,  0.22580645,  0.41935484,  0.25806452,  0.35483871,\n",
       "        0.29032258,  0.80645161,  0.90322581,  0.74193548,  0.48387097,\n",
       "        0.64516129,  0.25806452,  0.74193548,  0.32258065,  0.38709677,\n",
       "        0.22580645,  0.70967742,  0.29032258,  0.19354839])"
      ]
     },
     "execution_count": 92,
     "metadata": {},
     "output_type": "execute_result"
    }
   ],
   "source": [
    "(correctness * (mask_test != 0).astype(\"int\")[:, :, 0]).mean(0)[node_mask]"
   ]
  },
  {
   "cell_type": "code",
   "execution_count": 59,
   "metadata": {},
   "outputs": [
    {
     "data": {
      "text/plain": [
       "(31, 2803, 3)"
      ]
     },
     "execution_count": 59,
     "metadata": {},
     "output_type": "execute_result"
    }
   ],
   "source": [
    "test_output.shape"
   ]
  },
  {
   "cell_type": "markdown",
   "metadata": {},
   "source": [
    "Necessary?: Flux coupling, fluxes, specific knock-out fluxes?\n",
    "Generative??\n",
    "What does it fail at predicting?\n",
    "Take another look at Uwe paper"
   ]
  },
  {
   "cell_type": "code",
   "execution_count": 435,
   "metadata": {
    "collapsed": true
   },
   "outputs": [],
   "source": []
  },
  {
   "cell_type": "code",
   "execution_count": 562,
   "metadata": {},
   "outputs": [
    {
     "name": "stdout",
     "output_type": "stream",
     "text": [
      "13  31   4  22   5  17   9  11  20  12  31  16  10   7  17   8  19  28  12  \n",
      " 7   9   1   8   2  10   5   5   9   3  13   6   5   3   9   1   7   9   7  \n"
     ]
    }
   ],
   "source": [
    "loaded = np.load(\"../Data/NN_data.npz\")\n",
    "\n",
    "data = dict(zip(loaded[\"arr_1\"], loaded[\"arr_0\"]))\n",
    "X = data[\"X\"].astype(\"float32\")\n",
    "Y = data[\"Y\"].astype(\"float32\")\n",
    "weight_mask = data[\"weight_mask\"]\n",
    "cat_Y = data[\"cat_Y\"].astype(\"float32\")\n",
    "affected = data[\"affected\"].astype(\"bool\")\n",
    "\n",
    "splitpoint = 75\n",
    "X = X[affected]\n",
    "Y = Y[affected]\n",
    "cat_Y = cat_Y[affected]\n",
    "\n",
    "order = random.sample(range(len(X)), len(X))\n",
    "X = X[order]\n",
    "Y = Y[order]\n",
    "cat_Y = cat_Y[order]\n",
    "\n",
    "# Merge increase and decrease\n",
    "cat_Y = np.stack([cat_Y[:, :, 1], cat_Y[:, :, 0] + cat_Y[:, :, 2]], axis=2)\n",
    "\n",
    "for aa, idx in aa_indices.items():\n",
    "    print(\"%2s\" % int(cat_Y[:splitpoint, idx, 1].sum()), end=\"  \")\n",
    "\n",
    "print(\"\")\n",
    "    \n",
    "for aa, idx in aa_indices.items():\n",
    "    print(\"%2s\" % int(cat_Y[splitpoint:, idx, 1].sum()), end=\"  \")\n",
    "print(\"\")"
   ]
  },
  {
   "cell_type": "code",
   "execution_count": 559,
   "metadata": {
    "collapsed": true
   },
   "outputs": [],
   "source": [
    "# np.savez(\"../Data/Permuted_data1.npz\", X=X, Y=Y, cat_Y=cat_Y)"
   ]
  },
  {
   "cell_type": "code",
   "execution_count": 556,
   "metadata": {},
   "outputs": [
    {
     "name": "stdout",
     "output_type": "stream",
     "text": [
      "methionine\n",
      "valine\n",
      "histidine\n",
      "proline\n",
      "tryptophan\n",
      "aspartate\n",
      "arginine\n",
      "glutamine\n",
      "tyrosine\n",
      "isoleucine\n",
      "alanine\n",
      "lysine\n",
      "glycine\n",
      "leucine\n",
      "glutamate\n",
      "phenylalanine\n",
      "threonine\n",
      "serine\n",
      "asparagine\n"
     ]
    }
   ],
   "source": [
    "# Train on all aa's simultaneously. Predict conc changes from all other concs and gene KO.\n",
    "# All aa's have same GCN layer parameters, and individual dense layers\n",
    "\n",
    "loaded = np.load(\"../Data/Permuted_data1.npz\")\n",
    "\n",
    "splitpoint = 75\n",
    "\n",
    "X_train = {}\n",
    "Y_train = {}\n",
    "mask_train = {}\n",
    "\n",
    "X_test = {}\n",
    "Y_test = {}\n",
    "mask_test = {}\n",
    "\n",
    "for aa, idx in aa_indices.items():\n",
    "    \n",
    "    X = loaded[\"X\"]\n",
    "    Y = loaded[\"Y\"]\n",
    "    cat_Y = loaded[\"cat_Y\"]\n",
    "    covariates = Y.copy()\n",
    "    \n",
    "    # Only predict one metabolite\n",
    "    aa_mask = np.zeros_like(Y)\n",
    "    aa_mask[:, aa_indices[aa]] = 1\n",
    "    Y = Y * aa_mask\n",
    "    \n",
    "    mask = (Y != 0).astype(\"float\")\n",
    "    cat_Y = cat_Y * mask\n",
    "\n",
    "    covariates[:, aa_indices[aa]] = 0\n",
    "    X = np.concatenate([X, covariates], axis=2)\n",
    "    \n",
    "    # Amplify knockout signal\n",
    "    X[:, :, 0] *= 3000\n",
    "    \n",
    "    Y = cat_Y\n",
    "    \n",
    "    X_train[aa] = X[:splitpoint]\n",
    "    Y_train[aa] = Y[:splitpoint]\n",
    "    X_test[aa] = X[splitpoint:]\n",
    "    Y_test[aa] = Y[splitpoint:]\n",
    "\n",
    "    mask_train[aa] = mask[:splitpoint]\n",
    "    mask_test[aa] = mask[splitpoint:]\n",
    "    \n",
    "    train_cat_counts = Y_train[aa].sum(1).sum(0)\n",
    "    train_cat_factors = [train_cat_counts.max() / cnt for cnt in train_cat_counts]\n",
    "    #print(train_cat_counts)\n",
    "    #print(np.array(cat_counts) - np.array(train_cat_counts))\n",
    "\n",
    "    for i, fact in enumerate(train_cat_factors):\n",
    "        mask_train[aa][:, :, 0] *= (Y_train[aa][:, :, i] == 1).astype(\"int\") * (fact - 1) + 1\n",
    "        \n",
    "first_aa = list(aa_indices)[0]\n",
    "        \n",
    "NUM_INPUTS = X_train[first_aa].shape[2]\n",
    "NUM_OUTPUTS = Y_train[first_aa].shape[-1]\n",
    "x_sym = T.tensor3(\"x_sym\")\n",
    "y_sym = T.tensor3(\"y_sym\")\n",
    "#A_sym = T.matrix(\"A_sym\")\n",
    "A_sym = T.tensor3(\"A_sym\")\n",
    "ymask_sym = T.tensor3(\"ymask_sym\")\n",
    "\n",
    "l_in = lasagne.layers.InputLayer((None, A_hat.shape[0], NUM_INPUTS))\n",
    "l_1 = GCNLayer(l_in, A_sym, num_out_features=5, nonlinearity=lasagne.nonlinearities.leaky_rectify) # 5\n",
    "l_2 = GCNLayer(l_1, A_sym, num_out_features=7, nonlinearity=lasagne.nonlinearities.leaky_rectify) # 7\n",
    "l_3 = GCNLayer(l_2, A_sym, num_out_features=9, nonlinearity=lasagne.nonlinearities.leaky_rectify) # 9\n",
    "l_4 = GCNLayer(l_3, A_sym, num_out_features=9, nonlinearity=lasagne.nonlinearities.leaky_rectify) # 13\n",
    "l_5 = GCNLayer(l_4, A_sym, num_out_features=7, nonlinearity=lasagne.nonlinearities.leaky_rectify)\n",
    "l_concat = lasagne.layers.ConcatLayer([l_1, l_2, l_3, l_4, l_5], axis=2)\n",
    "\n",
    "aa_output_layers = {}\n",
    "f_train = {}\n",
    "f_eval = {}\n",
    "cost_eval = {}\n",
    "\n",
    "for aa, idx in aa_indices.items():\n",
    "    # if aa not in [\"valine\"]:\n",
    "    #     continue\n",
    "    print(aa)\n",
    "    \n",
    "    l_slice = lasagne.layers.SliceLayer(l_concat, indices=idx, axis=1)\n",
    "    l_dense = lasagne.layers.DenseLayer(l_slice, num_units=30, num_leading_axes=1, nonlinearity=lasagne.nonlinearities.leaky_rectify)\n",
    "    l_drop = lasagne.layers.DropoutLayer(l_dense)\n",
    "\n",
    "    l_out = lasagne.layers.DenseLayer(l_drop, num_units=NUM_OUTPUTS, num_leading_axes=1, nonlinearity=special_softmax)\n",
    "    \n",
    "    aa_output_layers[aa] = l_out\n",
    "    \n",
    "    # Retrieve network output\n",
    "    train_out = lasagne.layers.get_output(l_out, inputs={l_in: x_sym}, deterministic=False)\n",
    "    eval_out = lasagne.layers.get_output(l_out, inputs={l_in: x_sym}, deterministic=True)\n",
    "\n",
    "    all_params = lasagne.layers.get_all_params(l_out, trainable=True)\n",
    "\n",
    "    # cost = T.nnet.categorical_crossentropy(train_out+1e-8, y_sym).mean()\n",
    "    # cost = lasagne.objectives.squared_error(train_out, y_sym)\n",
    "    cost = lasagne.objectives.categorical_crossentropy(train_out+1e-8, y_sym[:, aa_indices[aa]])\n",
    "    cost = lasagne.objectives.aggregate(cost, weights=ymask_sym[:, aa_indices[aa], 0], mode=\"mean\")\n",
    "\n",
    "    # cost = lasagne.objectives.categorical_crossentropy(train_out+1e-8, y_sym)\n",
    "    # cost = lasagne.objectives.aggregate(cost, weights=ymask_sym[:, :, 0], mode=\"mean\")\n",
    "\n",
    "    #cost_eval = lasagne.objectives.squared_error(eval_out, y_sym)\n",
    "\n",
    "    all_grads = T.grad(cost, all_params)\n",
    "\n",
    "    updates = lasagne.updates.adamax(all_grads, all_params, learning_rate=0.06)#, learning_rate=0.002) #, learning_rate=0.002)\n",
    "\n",
    "    f_eval[aa] = theano.function([x_sym, A_sym],\n",
    "                         eval_out, on_unused_input='warn')\n",
    "\n",
    "    cost_eval[aa] = theano.function([x_sym, y_sym, A_sym, ymask_sym],\n",
    "                         cost, on_unused_input='warn')\n",
    "\n",
    "    f_train[aa] = theano.function(\n",
    "        [x_sym, y_sym, A_sym, ymask_sym],\n",
    "        cost,\n",
    "        updates=updates, on_unused_input='warn'\n",
    "    )"
   ]
  },
  {
   "cell_type": "code",
   "execution_count": 504,
   "metadata": {},
   "outputs": [
    {
     "data": {
      "text/plain": [
       "array([ 48.,  27.])"
      ]
     },
     "execution_count": 504,
     "metadata": {},
     "output_type": "execute_result"
    }
   ],
   "source": [
    "Y_train[\"valine\"][:, aa_indices[\"valine\"]].sum(0)"
   ]
  },
  {
   "cell_type": "code",
   "execution_count": 531,
   "metadata": {},
   "outputs": [
    {
     "data": {
      "text/plain": [
       "True"
      ]
     },
     "execution_count": 531,
     "metadata": {},
     "output_type": "execute_result"
    }
   ],
   "source": [
    "all_params[0] is l_1.W"
   ]
  },
  {
   "cell_type": "code",
   "execution_count": 525,
   "metadata": {
    "scrolled": true
   },
   "outputs": [
    {
     "data": {
      "text/plain": [
       "array([[ 0.48001891,  0.51998109],\n",
       "       [ 0.48001744,  0.51998256],\n",
       "       [ 0.47998582,  0.52001418],\n",
       "       [ 0.48001913,  0.51998087],\n",
       "       [ 0.47961679,  0.52038321],\n",
       "       [ 0.4800187 ,  0.5199813 ],\n",
       "       [ 0.48001917,  0.51998083],\n",
       "       [ 0.48001865,  0.51998135],\n",
       "       [ 0.47855098,  0.52144902],\n",
       "       [ 0.4800192 ,  0.5199808 ],\n",
       "       [ 0.48001905,  0.51998095],\n",
       "       [ 0.480019  ,  0.519981  ],\n",
       "       [ 0.48001868,  0.51998132],\n",
       "       [ 0.48001907,  0.51998093],\n",
       "       [ 0.48001599,  0.51998401],\n",
       "       [ 0.48001861,  0.51998139],\n",
       "       [ 0.48001886,  0.51998114],\n",
       "       [ 0.48001924,  0.51998076],\n",
       "       [ 0.47891675,  0.52108325],\n",
       "       [ 0.47855096,  0.52144904],\n",
       "       [ 0.48001929,  0.51998071],\n",
       "       [ 0.48001656,  0.51998344],\n",
       "       [ 0.47855102,  0.52144898],\n",
       "       [ 0.47998559,  0.52001441],\n",
       "       [ 0.48001913,  0.51998087],\n",
       "       [ 0.48002022,  0.51997978],\n",
       "       [ 0.47855104,  0.52144896],\n",
       "       [ 0.47855092,  0.52144908],\n",
       "       [ 0.4797561 ,  0.5202439 ],\n",
       "       [ 0.48000931,  0.51999069],\n",
       "       [ 0.47855098,  0.52144902],\n",
       "       [ 0.48001857,  0.51998143],\n",
       "       [ 0.48001912,  0.51998088],\n",
       "       [ 0.47854994,  0.52145006],\n",
       "       [ 0.48001893,  0.51998107],\n",
       "       [ 0.47998611,  0.52001389],\n",
       "       [ 0.48001915,  0.51998085],\n",
       "       [ 0.48001879,  0.51998121],\n",
       "       [ 0.48001849,  0.51998151],\n",
       "       [ 0.48001683,  0.51998317],\n",
       "       [ 0.48001852,  0.51998148],\n",
       "       [ 0.48001871,  0.51998129],\n",
       "       [ 0.47855092,  0.52144908],\n",
       "       [ 0.48001858,  0.51998142],\n",
       "       [ 0.48001904,  0.51998096],\n",
       "       [ 0.48001861,  0.51998139],\n",
       "       [ 0.48001873,  0.51998127],\n",
       "       [ 0.47998618,  0.52001382],\n",
       "       [ 0.48001866,  0.51998134],\n",
       "       [ 0.48001922,  0.51998078],\n",
       "       [ 0.48001915,  0.51998085],\n",
       "       [ 0.48001911,  0.51998089],\n",
       "       [ 0.48001861,  0.51998139],\n",
       "       [ 0.48001884,  0.51998116],\n",
       "       [ 0.48001911,  0.51998089],\n",
       "       [ 0.48001847,  0.51998153],\n",
       "       [ 0.48001887,  0.51998113],\n",
       "       [ 0.48001843,  0.51998157],\n",
       "       [ 0.48001849,  0.51998151],\n",
       "       [ 0.4800187 ,  0.5199813 ],\n",
       "       [ 0.47855063,  0.52144937],\n",
       "       [ 0.48001706,  0.51998294],\n",
       "       [ 0.48001913,  0.51998087],\n",
       "       [ 0.48001789,  0.51998211],\n",
       "       [ 0.48001851,  0.51998149],\n",
       "       [ 0.48001879,  0.51998121],\n",
       "       [ 0.48001911,  0.51998089],\n",
       "       [ 0.48001863,  0.51998137],\n",
       "       [ 0.48001914,  0.51998086],\n",
       "       [ 0.48001905,  0.51998095],\n",
       "       [ 0.47855083,  0.52144917],\n",
       "       [ 0.48001921,  0.51998079],\n",
       "       [ 0.48001915,  0.51998085],\n",
       "       [ 0.48001905,  0.51998095],\n",
       "       [ 0.48001897,  0.51998103]])"
      ]
     },
     "execution_count": 525,
     "metadata": {},
     "output_type": "execute_result"
    }
   ],
   "source": [
    "f_eval[\"valine\"](X_train[\"valine\"], A_hat_2)"
   ]
  },
  {
   "cell_type": "code",
   "execution_count": 557,
   "metadata": {},
   "outputs": [
    {
     "ename": "KeyboardInterrupt",
     "evalue": "",
     "output_type": "error",
     "traceback": [
      "\u001b[0;31m---------------------------------------------------------------------------\u001b[0m",
      "\u001b[0;31mKeyboardInterrupt\u001b[0m                         Traceback (most recent call last)",
      "\u001b[0;32m<ipython-input-557-6e76e28435e7>\u001b[0m in \u001b[0;36m<module>\u001b[0;34m()\u001b[0m\n\u001b[1;32m     17\u001b[0m                 \u001b[0;31m#f_train({x_sym: x_batch, y_sym: y_batch, A_sym: A_hat, ymask_sym: mask_batch})\u001b[0m\u001b[0;34m\u001b[0m\u001b[0;34m\u001b[0m\u001b[0m\n\u001b[1;32m     18\u001b[0m                 \u001b[0;32mif\u001b[0m \u001b[0mepoch\u001b[0m \u001b[0;34m!=\u001b[0m \u001b[0;36m0\u001b[0m\u001b[0;34m:\u001b[0m\u001b[0;34m\u001b[0m\u001b[0m\n\u001b[0;32m---> 19\u001b[0;31m                     \u001b[0mbatch_train_loss\u001b[0m \u001b[0;34m=\u001b[0m \u001b[0mf_train\u001b[0m\u001b[0;34m[\u001b[0m\u001b[0maa\u001b[0m\u001b[0;34m]\u001b[0m\u001b[0;34m(\u001b[0m\u001b[0mx_batch\u001b[0m\u001b[0;34m,\u001b[0m \u001b[0my_batch\u001b[0m\u001b[0;34m,\u001b[0m \u001b[0mA_hat_2\u001b[0m\u001b[0;34m,\u001b[0m \u001b[0mmask_batch\u001b[0m\u001b[0;34m)\u001b[0m\u001b[0;34m\u001b[0m\u001b[0m\n\u001b[0m\u001b[1;32m     20\u001b[0m \u001b[0;34m\u001b[0m\u001b[0m\n\u001b[1;32m     21\u001b[0m         \u001b[0mtest_output\u001b[0m \u001b[0;34m=\u001b[0m \u001b[0mf_eval\u001b[0m\u001b[0;34m[\u001b[0m\u001b[0maa\u001b[0m\u001b[0;34m]\u001b[0m\u001b[0;34m(\u001b[0m\u001b[0mX_test\u001b[0m\u001b[0;34m[\u001b[0m\u001b[0maa\u001b[0m\u001b[0;34m]\u001b[0m\u001b[0;34m,\u001b[0m \u001b[0mA_hat_2\u001b[0m\u001b[0;34m)\u001b[0m\u001b[0;34m\u001b[0m\u001b[0m\n",
      "\u001b[0;32m/Users/krisj/anaconda/envs/cfb/lib/python3.4/site-packages/theano/compile/function_module.py\u001b[0m in \u001b[0;36m__call__\u001b[0;34m(self, *args, **kwargs)\u001b[0m\n\u001b[1;32m    882\u001b[0m         \u001b[0;32mtry\u001b[0m\u001b[0;34m:\u001b[0m\u001b[0;34m\u001b[0m\u001b[0m\n\u001b[1;32m    883\u001b[0m             \u001b[0moutputs\u001b[0m \u001b[0;34m=\u001b[0m\u001b[0;31m\\\u001b[0m\u001b[0;34m\u001b[0m\u001b[0m\n\u001b[0;32m--> 884\u001b[0;31m                 \u001b[0mself\u001b[0m\u001b[0;34m.\u001b[0m\u001b[0mfn\u001b[0m\u001b[0;34m(\u001b[0m\u001b[0;34m)\u001b[0m \u001b[0;32mif\u001b[0m \u001b[0moutput_subset\u001b[0m \u001b[0;32mis\u001b[0m \u001b[0;32mNone\u001b[0m \u001b[0;32melse\u001b[0m\u001b[0;31m\\\u001b[0m\u001b[0;34m\u001b[0m\u001b[0m\n\u001b[0m\u001b[1;32m    885\u001b[0m                 \u001b[0mself\u001b[0m\u001b[0;34m.\u001b[0m\u001b[0mfn\u001b[0m\u001b[0;34m(\u001b[0m\u001b[0moutput_subset\u001b[0m\u001b[0;34m=\u001b[0m\u001b[0moutput_subset\u001b[0m\u001b[0;34m)\u001b[0m\u001b[0;34m\u001b[0m\u001b[0m\n\u001b[1;32m    886\u001b[0m         \u001b[0;32mexcept\u001b[0m \u001b[0mException\u001b[0m\u001b[0;34m:\u001b[0m\u001b[0;34m\u001b[0m\u001b[0m\n",
      "\u001b[0;32m/Users/krisj/anaconda/envs/cfb/lib/python3.4/site-packages/theano/gof/op.py\u001b[0m in \u001b[0;36mrval\u001b[0;34m(p, i, o, n)\u001b[0m\n\u001b[1;32m    883\u001b[0m         \u001b[0;32mif\u001b[0m \u001b[0mparams\u001b[0m \u001b[0;32mis\u001b[0m \u001b[0mgraph\u001b[0m\u001b[0;34m.\u001b[0m\u001b[0mNoParams\u001b[0m\u001b[0;34m:\u001b[0m\u001b[0;34m\u001b[0m\u001b[0m\n\u001b[1;32m    884\u001b[0m             \u001b[0;31m# default arguments are stored in the closure of `rval`\u001b[0m\u001b[0;34m\u001b[0m\u001b[0;34m\u001b[0m\u001b[0m\n\u001b[0;32m--> 885\u001b[0;31m             \u001b[0;32mdef\u001b[0m \u001b[0mrval\u001b[0m\u001b[0;34m(\u001b[0m\u001b[0mp\u001b[0m\u001b[0;34m=\u001b[0m\u001b[0mp\u001b[0m\u001b[0;34m,\u001b[0m \u001b[0mi\u001b[0m\u001b[0;34m=\u001b[0m\u001b[0mnode_input_storage\u001b[0m\u001b[0;34m,\u001b[0m \u001b[0mo\u001b[0m\u001b[0;34m=\u001b[0m\u001b[0mnode_output_storage\u001b[0m\u001b[0;34m,\u001b[0m \u001b[0mn\u001b[0m\u001b[0;34m=\u001b[0m\u001b[0mnode\u001b[0m\u001b[0;34m)\u001b[0m\u001b[0;34m:\u001b[0m\u001b[0;34m\u001b[0m\u001b[0m\n\u001b[0m\u001b[1;32m    886\u001b[0m                 \u001b[0mr\u001b[0m \u001b[0;34m=\u001b[0m \u001b[0mp\u001b[0m\u001b[0;34m(\u001b[0m\u001b[0mn\u001b[0m\u001b[0;34m,\u001b[0m \u001b[0;34m[\u001b[0m\u001b[0mx\u001b[0m\u001b[0;34m[\u001b[0m\u001b[0;36m0\u001b[0m\u001b[0;34m]\u001b[0m \u001b[0;32mfor\u001b[0m \u001b[0mx\u001b[0m \u001b[0;32min\u001b[0m \u001b[0mi\u001b[0m\u001b[0;34m]\u001b[0m\u001b[0;34m,\u001b[0m \u001b[0mo\u001b[0m\u001b[0;34m)\u001b[0m\u001b[0;34m\u001b[0m\u001b[0m\n\u001b[1;32m    887\u001b[0m                 \u001b[0;32mfor\u001b[0m \u001b[0mo\u001b[0m \u001b[0;32min\u001b[0m \u001b[0mnode\u001b[0m\u001b[0;34m.\u001b[0m\u001b[0moutputs\u001b[0m\u001b[0;34m:\u001b[0m\u001b[0;34m\u001b[0m\u001b[0m\n",
      "\u001b[0;31mKeyboardInterrupt\u001b[0m: "
     ]
    }
   ],
   "source": [
    "train_losses = []\n",
    "test_losses = []\n",
    "\n",
    "bacs_train = {}\n",
    "bacs_test = {}\n",
    "\n",
    "for epoch in range(EPOCHS):\n",
    "    epoch_train_losses = []\n",
    "    epoch_test_losses = []\n",
    "    for aa in sorted(aa_indices):\n",
    "        for j in range(1):\n",
    "            for i in range(math.ceil(len(X_train[aa])/BATCH_SIZE)):\n",
    "                x_batch = X_train[aa][i*BATCH_SIZE: (i+1)*BATCH_SIZE]\n",
    "                y_batch = Y_train[aa][i*BATCH_SIZE: (i+1)*BATCH_SIZE]\n",
    "                mask_batch = mask_train[aa][i*BATCH_SIZE: (i+1)*BATCH_SIZE]\n",
    "\n",
    "                #f_train({x_sym: x_batch, y_sym: y_batch, A_sym: A_hat, ymask_sym: mask_batch})\n",
    "                if epoch != 0:\n",
    "                    batch_train_loss = f_train[aa](x_batch, y_batch, A_hat_2, mask_batch)\n",
    "\n",
    "        test_output = f_eval[aa](X_test[aa], A_hat_2)\n",
    "        train_output = f_eval[aa](X_train[aa], A_hat_2)\n",
    "    \n",
    "        test_loss = cost_eval[aa](X_test[aa], Y_test[aa], A_hat_2, mask_test[aa])\n",
    "        train_loss = cost_eval[aa](X_train[aa], Y_train[aa], A_hat_2, mask_train[aa])\n",
    "        \n",
    "        epoch_train_losses.append(train_loss)\n",
    "        epoch_test_losses.append(test_loss)\n",
    "        \n",
    "        test_predictions = test_output.argmax(-1)\n",
    "        real_classes = Y_test[aa].argmax(-1)[:, aa_indices[aa]]\n",
    "        \n",
    "        conf = ConfusionMatrix(test_predictions, real_classes)\n",
    "        bacs_test[aa] = conf.bac()\n",
    "        \n",
    "        train_predictions = train_output.argmax(-1)\n",
    "        real_classes = Y_train[aa].argmax(-1)[:, aa_indices[aa]]\n",
    "    \n",
    "        conf = ConfusionMatrix(train_predictions, real_classes)\n",
    "        bacs_train[aa] = conf.bac()\n",
    "        \n",
    "    train_losses.append(sum(epoch_train_losses)/len(aa_indices))\n",
    "    test_losses.append(sum(epoch_test_losses)/len(aa_indices))   \n",
    "    \n",
    "    fig = plt.figure(figsize=[14, 5])\n",
    "    plt.subplot(2, 2, 1)\n",
    "    plt.plot(list(range(epoch+1)), train_losses, \"g\", label=\"Train\")\n",
    "    plt.plot(list(range(epoch+1)), test_losses, \"b\", label=\"Test\")\n",
    "    plt.legend()\n",
    "    plt.xlabel(\"Epochs\")\n",
    "    plt.ylabel(\"Loss\")\n",
    "    plt.title(\"Loss\")\n",
    "    \n",
    "    ax = fig.add_subplot(2, 2, 3)\n",
    "    ax.plot([-1, 19], [1/2, 1/2], \"--r\")\n",
    "    plt.bar(np.arange(0, len(bacs_test))-0.5, [bacs_test[a] for a in sorted(bacs_test)])\n",
    "    plt.xlim(-1, 19)\n",
    "    plt.xticks(range(len(bacs_test)), rotation=\"vertical\")\n",
    "    ax.set_xticklabels(sorted(bacs_test))\n",
    "    plt.ylim([0, 1])\n",
    "    \n",
    "    ax = fig.add_subplot(2, 2, 4)\n",
    "    ax.plot([-1, 19], [1/2, 1/2], \"--r\")\n",
    "    plt.bar(np.arange(0, len(bacs_train))-0.5, [bacs_train[a] for a in sorted(bacs_train)])\n",
    "    plt.xlim(-1, 19)\n",
    "    plt.xticks(range(len(bacs_train)), rotation=\"vertical\")\n",
    "    ax.set_xticklabels(sorted(bacs_train))\n",
    "    plt.ylim([0, 1])\n",
    "    \n",
    "    plt.savefig(\"out.png\")\n",
    "    plt.close()\n",
    "    display.display(display.Image(filename=\"out.png\"))\n",
    "    \n",
    "    print(sum(bacs_test.values()) / len(bacs_test))\n",
    "    \n",
    "    print(epoch)\n",
    "    \n",
    "    display.clear_output(wait=True)"
   ]
  },
  {
   "cell_type": "code",
   "execution_count": null,
   "metadata": {
    "collapsed": true
   },
   "outputs": [],
   "source": [
    "aa_datasets = {}"
   ]
  },
  {
   "cell_type": "code",
   "execution_count": 622,
   "metadata": {},
   "outputs": [
    {
     "name": "stdout",
     "output_type": "stream",
     "text": [
      "tryptophan\n",
      "[ 104.    7.]\n",
      "[ 71.   4.]\n",
      "[ 33.   3.]\n"
     ]
    }
   ],
   "source": [
    "# Train on each compound seperately\n",
    "# Using reaction KO and other metabolite concentrations as input\n",
    "\n",
    "loaded = np.load(\"../Data/NN_data.npz\")\n",
    "\n",
    "for aa in [\"tryptophan\"]: #aa_indices:\n",
    "    print(aa)\n",
    "\n",
    "    data = dict(zip(loaded[\"arr_1\"], loaded[\"arr_0\"]))\n",
    "    X = data[\"X\"].astype(\"float32\")\n",
    "    Y = data[\"Y\"].astype(\"float32\")\n",
    "    weight_mask = data[\"weight_mask\"]\n",
    "    cat_Y = data[\"cat_Y\"].astype(\"float32\")\n",
    "    affected = data[\"affected\"].astype(\"bool\")\n",
    "\n",
    "    splitpoint = 75\n",
    "\n",
    "    X = X[affected]\n",
    "    Y = Y[affected]\n",
    "    cat_Y = cat_Y[affected]\n",
    "\n",
    "\n",
    "    order = random.sample(range(len(X)), len(X))\n",
    "    X = X[order]\n",
    "    Y = Y[order]\n",
    "    cat_Y = cat_Y[order]\n",
    "    \n",
    "    covariates = Y.copy()\n",
    "\n",
    "    # Merge increase and decrease\n",
    "    cat_Y = np.stack([cat_Y[:, :, 1], cat_Y[:, :, 0] + cat_Y[:, :, 2]], axis=2)\n",
    "\n",
    "    # Only predict one metabolite\n",
    "    aa_mask = np.zeros_like(Y)\n",
    "    aa_mask[:, aa_indices[aa]] = 1\n",
    "    Y = Y * aa_mask\n",
    "\n",
    "    mask = (Y != 0).astype(\"float\")\n",
    "    cat_Y = cat_Y * mask\n",
    "\n",
    "    \n",
    "    covariates[:, aa_indices[aa]] = 0\n",
    "    X = np.concatenate([X, covariates], axis=2)\n",
    "\n",
    "    #mask[:, :, 0] = mask[:, :, 0] / ((cat_Y[:, :, 1] == 1).astype(\"float\") * 3 + 1)\n",
    "\n",
    "    #mask = np.stack([weight_mask]).transpose([1, 2, 0])\n",
    "    #mask = mask * np.abs(Y)\n",
    "    #mask = np.zeros_like(Y, dtype=\"int32\")\n",
    "    #mask[:, 256] = 1\n",
    "    A_hat = data[\"A_hat\"].astype(\"float32\")\n",
    "    A_hat_2 = data[\"double_A\"].astype(\"float32\")\n",
    "\n",
    "    Y = cat_Y\n",
    "    #for i, fact in enumerate(cat_factors):\n",
    "    #    mask[:, :, 0] *= (cat_Y[:, :, i] == 1).astype(\"int\") * (fact - 1) + 1\n",
    "\n",
    "    # Amplify knockout signal\n",
    "    X[:, :, 0] *= 1000\n",
    "\n",
    "    X_train = X[:splitpoint]\n",
    "    Y_train = Y[:splitpoint]\n",
    "    X_test = X[splitpoint:]\n",
    "    Y_test = Y[splitpoint:]\n",
    "\n",
    "    mask_train = mask[:splitpoint]\n",
    "    mask_test = mask[splitpoint:]\n",
    "\n",
    "    cat_counts = Y.sum(1).sum(0)\n",
    "    cat_factors = [cat_counts.max() / cnt for cnt in cat_counts]\n",
    "    print(cat_counts)\n",
    "\n",
    "    train_cat_counts = Y_train.sum(1).sum(0)\n",
    "    train_cat_factors = [train_cat_counts.max() / cnt for cnt in train_cat_counts]\n",
    "    print(train_cat_counts)\n",
    "    print(np.array(cat_counts) - np.array(train_cat_counts))\n",
    "\n",
    "    for i, fact in enumerate(train_cat_factors):\n",
    "        mask_train[:, :, 0] *= (Y_train[:, :, i] == 1).astype(\"int\") * (fact - 1) + 1\n",
    "        \n",
    "    dataset = {\n",
    "        \"X_train\": X_train,\n",
    "        \"Y_train\": Y_train,\n",
    "        \"X_test\": X_test,\n",
    "        \"Y_test\": Y_test,\n",
    "        \"mask_train\": mask_train,\n",
    "        \"mask_test\": mask_test\n",
    "    }\n",
    "    aa_datasets[aa] = dataset"
   ]
  },
  {
   "cell_type": "code",
   "execution_count": 623,
   "metadata": {},
   "outputs": [],
   "source": [
    "# for aa, ds in aa_datasets.items():\n",
    "#     np.savez(\"../Data/AA_datasets/\"+aa+\".npz\", **ds)"
   ]
  },
  {
   "cell_type": "code",
   "execution_count": 567,
   "metadata": {
    "scrolled": false
   },
   "outputs": [
    {
     "name": "stdout",
     "output_type": "stream",
     "text": [
      "methionine\n",
      "   0\n",
      "   1\n",
      "   2\n",
      "   3\n",
      "valine\n",
      "   0\n",
      "   1\n",
      "   2\n",
      "   3\n",
      "histidine\n",
      "   0\n",
      "   1\n",
      "   2\n",
      "   3\n",
      "proline\n",
      "   0\n",
      "   1\n",
      "   2\n",
      "   3\n",
      "tryptophan\n",
      "   0\n",
      "   1\n",
      "   2\n",
      "   3\n",
      "aspartate\n",
      "   0\n",
      "   1\n",
      "   2\n",
      "   3\n",
      "arginine\n",
      "   0\n",
      "   1\n",
      "   2\n",
      "   3\n",
      "glutamine\n",
      "   0\n",
      "   1\n",
      "   2\n",
      "   3\n",
      "tyrosine\n",
      "   0\n",
      "   1\n",
      "   2\n",
      "   3\n",
      "isoleucine\n",
      "   0\n",
      "   1\n",
      "   2\n",
      "   3\n",
      "alanine\n",
      "   0\n",
      "   1\n",
      "   2\n",
      "   3\n",
      "lysine\n",
      "   0\n",
      "   1\n",
      "   2\n",
      "   3\n",
      "glycine\n",
      "   0\n",
      "   1\n",
      "   2\n",
      "   3\n",
      "leucine\n",
      "   0\n",
      "   1\n",
      "   2\n",
      "   3\n",
      "glutamate\n",
      "   0\n",
      "   1\n",
      "   2\n",
      "   3\n",
      "phenylalanine\n",
      "   0\n",
      "   1\n",
      "   2\n",
      "   3\n",
      "threonine\n",
      "   0\n",
      "   1\n",
      "   2\n",
      "   3\n",
      "serine\n",
      "   0\n",
      "   1\n",
      "   2\n",
      "   3\n",
      "asparagine\n",
      "   0\n",
      "   1\n",
      "   2\n",
      "   3\n"
     ]
    }
   ],
   "source": [
    "result_dict = {}\n",
    "for aa in aa_indices:\n",
    "    print(aa)\n",
    "    results = []\n",
    "\n",
    "    for training_round in range(4):\n",
    "        print(\"  \", training_round)\n",
    "        NUM_INPUTS = X_train.shape[2]\n",
    "        NUM_OUTPUTS = Y.shape[-1]\n",
    "\n",
    "        x_sym = T.tensor3(\"x_sym\")\n",
    "        y_sym = T.tensor3(\"y_sym\")\n",
    "        #A_sym = T.matrix(\"A_sym\")\n",
    "        A_sym = T.tensor3(\"A_sym\")\n",
    "        ymask_sym = T.tensor3(\"ymask_sym\")\n",
    "\n",
    "        l_in = lasagne.layers.InputLayer((None, A_hat.shape[0], NUM_INPUTS))\n",
    "\n",
    "        l_1 = GCNLayer(l_in, A_sym, num_out_features=3, nonlinearity=lasagne.nonlinearities.leaky_rectify) # 5\n",
    "        l_2 = GCNLayer(l_1, A_sym, num_out_features=5, nonlinearity=lasagne.nonlinearities.leaky_rectify) # 7\n",
    "        l_3 = GCNLayer(l_2, A_sym, num_out_features=7, nonlinearity=lasagne.nonlinearities.leaky_rectify) # 9\n",
    "        l_4 = GCNLayer(l_3, A_sym, num_out_features=9, nonlinearity=lasagne.nonlinearities.leaky_rectify) # 13\n",
    "        l_5 = GCNLayer(l_4, A_sym, num_out_features=7, nonlinearity=lasagne.nonlinearities.leaky_rectify)\n",
    "\n",
    "        l_concat = lasagne.layers.ConcatLayer([l_1, l_2, l_3, l_4], axis=2)\n",
    "\n",
    "        # Dense: 50 units, leaky_rectify\n",
    "        l_slice = lasagne.layers.SliceLayer(l_concat, indices=aa_indices[aa], axis=1)\n",
    "        l_dense = lasagne.layers.DenseLayer(l_slice, num_units=30, num_leading_axes=1, nonlinearity=lasagne.nonlinearities.leaky_rectify)\n",
    "        l_drop = lasagne.layers.DropoutLayer(l_dense)\n",
    "\n",
    "        l_out = lasagne.layers.DenseLayer(l_drop, num_units=NUM_OUTPUTS, num_leading_axes=1, nonlinearity=special_softmax)\n",
    "\n",
    "\n",
    "        all_params = lasagne.layers.get_all_params(l_out, trainable=True)\n",
    "\n",
    "        # Retrieve network output\n",
    "        train_out = lasagne.layers.get_output(l_out, inputs={l_in: x_sym}, deterministic=False)\n",
    "        eval_out = lasagne.layers.get_output(l_out, inputs={l_in: x_sym}, deterministic=True)\n",
    "\n",
    "        all_params = lasagne.layers.get_all_params(l_out, trainable=True)\n",
    "\n",
    "        # cost = T.nnet.categorical_crossentropy(train_out+1e-8, y_sym).mean()\n",
    "        # cost = lasagne.objectives.squared_error(train_out, y_sym)\n",
    "        cost = lasagne.objectives.categorical_crossentropy(train_out+1e-8, y_sym[:, aa_indices[aa]])\n",
    "        cost = lasagne.objectives.aggregate(cost, weights=ymask_sym[:, aa_indices[aa], 0], mode=\"mean\")\n",
    "\n",
    "        # cost = lasagne.objectives.categorical_crossentropy(train_out+1e-8, y_sym)\n",
    "        # cost = lasagne.objectives.aggregate(cost, weights=ymask_sym[:, :, 0], mode=\"mean\")\n",
    "\n",
    "        #cost_eval = lasagne.objectives.squared_error(eval_out, y_sym)\n",
    "\n",
    "        all_grads = T.grad(cost, all_params)\n",
    "\n",
    "        updates = lasagne.updates.adamax(all_grads, all_params, learning_rate=0.06)#, learning_rate=0.002) #, learning_rate=0.002)\n",
    "\n",
    "        f_eval = theano.function([x_sym, A_sym],\n",
    "                             eval_out, on_unused_input='warn')\n",
    "\n",
    "        cost_eval = theano.function([x_sym, y_sym, A_sym, ymask_sym],\n",
    "                             cost, on_unused_input='warn')\n",
    "\n",
    "        f_train = theano.function(\n",
    "            [x_sym, y_sym, A_sym, ymask_sym],\n",
    "            cost,\n",
    "            updates=updates, on_unused_input='warn'\n",
    "        )\n",
    "\n",
    "        EPOCHS = 40\n",
    "        BATCH_SIZE = 10\n",
    "\n",
    "        train_losses = []\n",
    "        test_losses = []\n",
    "\n",
    "        best_bac = 0\n",
    "        \n",
    "        dataset = aa_datasets[aa]\n",
    "        X_train = dataset[\"X_train\"]\n",
    "        Y_train = dataset[\"Y_train\"]\n",
    "        X_test = dataset[\"X_test\"]\n",
    "        Y_test = dataset[\"Y_test\"]\n",
    "        mask_train = dataset[\"mask_train\"]\n",
    "        mask_test = dataset[\"mask_test\"]\n",
    "\n",
    "        for epoch in range(EPOCHS):\n",
    "            for j in range(1):\n",
    "                for i in range(math.ceil(len(X_train)/BATCH_SIZE)):\n",
    "                    x_batch = X_train[i*BATCH_SIZE: (i+1)*BATCH_SIZE]\n",
    "                    y_batch = Y_train[i*BATCH_SIZE: (i+1)*BATCH_SIZE]\n",
    "                    mask_batch = mask_train[i*BATCH_SIZE: (i+1)*BATCH_SIZE]\n",
    "\n",
    "                    #f_train({x_sym: x_batch, y_sym: y_batch, A_sym: A_hat, ymask_sym: mask_batch})\n",
    "                    if epoch != 0:\n",
    "                        batch_train_loss = f_train(x_batch, y_batch, A_hat_2, mask_batch)\n",
    "\n",
    "            test_output = f_eval(X_test, A_hat_2)\n",
    "            train_output = f_eval(X_train, A_hat_2)\n",
    "\n",
    "            test_loss = cost_eval(X_test, Y_test, A_hat_2, mask_test)\n",
    "            train_loss = cost_eval(X_train, Y_train, A_hat_2, mask_train)\n",
    "            #test_loss = (lasagne.objectives.categorical_crossentropy(test_output+1e-8, Y_test) * mask_test[:, :, 0]).sum() / mask_test.sum()\n",
    "            #train_loss = 0.5 * (lasagne.objectives.categorical_crossentropy(train_output+1e-8, Y_train) * mask_train[:, :, 0]).sum() / mask_test.sum()\n",
    "\n",
    "            #print((test_cost * mask_test).mean())\n",
    "\n",
    "            train_losses.append(train_loss)\n",
    "            test_losses.append(test_loss)\n",
    "\n",
    "            # plt.figure(figsize=[14, 5])\n",
    "            # plt.subplot(1, 3, 1)\n",
    "            # plt.plot(list(range(epoch+1)), train_losses, \"g\", label=\"Train\")\n",
    "            # plt.plot(list(range(epoch+1)), test_losses, \"b\", label=\"Test\")\n",
    "            # plt.legend()\n",
    "            # plt.xlabel(\"Epochs\")\n",
    "            # plt.ylabel(\"Loss\")\n",
    "            # plt.title(\"Loss\")\n",
    "\n",
    "\n",
    "            # plt.savefig(\"out.png\")\n",
    "            # plt.close()\n",
    "            # display.display(display.Image(filename=\"out.png\"))\n",
    "            test_predictions = test_output.argmax(-1)#.flatten()[mask_test.flatten().astype(\"bool\")]\n",
    "            real_classes = Y_test.argmax(-1)[:, aa_indices[aa]]#.flatten()[mask_test.flatten().astype(\"bool\")]\n",
    "            # test_predictions = test_output.argmax(-1).flatten()[mask_test.flatten().astype(\"bool\")]\n",
    "            # real_classes = Y_test.argmax(-1).flatten()[mask_test.flatten().astype(\"bool\")]\n",
    "\n",
    "            conf = ConfusionMatrix(test_predictions, real_classes)\n",
    "            # print(conf)\n",
    "            # print(conf.bac())\n",
    "            # print(\"\")\n",
    "            if conf.bac() > best_bac:\n",
    "                best_bac = conf.bac()\n",
    "                best_pred = test_predictions\n",
    "                best_output = test_output\n",
    "                real_test_classes = real_classes\n",
    "                best_epoch = epoch\n",
    "\n",
    "            test_predictions = train_output.argmax(-1)#.flatten()[mask_train.flatten().astype(\"bool\")]\n",
    "            real_classes = Y_train.argmax(-1)[:, aa_indices[aa]]#.flatten()[mask_train.flatten().astype(\"bool\")]\n",
    "            # test_predictions = train_output.argmax(-1).flatten()[mask_train.flatten().astype(\"bool\")]\n",
    "            # real_classes = Y_train.argmax(-1).flatten()[mask_train.flatten().astype(\"bool\")]\n",
    "\n",
    "            conf = ConfusionMatrix(test_predictions, real_classes)\n",
    "            # print(conf)\n",
    "            # print(conf.bac())\n",
    "\n",
    "            # print(epoch)\n",
    "\n",
    "            # display.clear_output(wait=True)\n",
    "\n",
    "        results.append({\n",
    "                \"best_bac\": best_bac,\n",
    "                \"best_pred\": best_pred,\n",
    "                \"best_output\": best_output,\n",
    "                \"real_test_classes\": real_test_classes,\n",
    "                \"best_epoch\": best_epoch\n",
    "        })\n",
    "    result_dict[aa] = results"
   ]
  },
  {
   "cell_type": "code",
   "execution_count": 568,
   "metadata": {
    "scrolled": true
   },
   "outputs": [
    {
     "name": "stdout",
     "output_type": "stream",
     "text": [
      "methionine\n",
      "0.6\n",
      "[[31  0]\n",
      " [ 4  1]]\n",
      "0\n",
      "\n",
      "0.554838709677\n",
      "[[22  9]\n",
      " [ 3  2]]\n",
      "9\n",
      "\n",
      "0.612903225806\n",
      "[[ 7 24]\n",
      " [ 0  5]]\n",
      "10\n",
      "\n",
      "0.5\n",
      "[[31  0]\n",
      " [ 5  0]]\n",
      "1\n",
      "\n",
      "valine\n",
      "0.600334448161\n",
      "[[17  6]\n",
      " [ 7  6]]\n",
      "32\n",
      "\n",
      "0.650501672241\n",
      "[[14  9]\n",
      " [ 4  9]]\n",
      "15\n",
      "\n",
      "0.595317725753\n",
      "[[15  8]\n",
      " [ 6  7]]\n",
      "34\n",
      "\n",
      "0.573578595318\n",
      "[[14  9]\n",
      " [ 6  7]]\n",
      "18\n",
      "\n",
      "histidine\n",
      "0.720588235294\n",
      "[[32  2]\n",
      " [ 1  1]]\n",
      "38\n",
      "\n",
      "0.558823529412\n",
      "[[21 13]\n",
      " [ 1  1]]\n",
      "9\n",
      "\n",
      "0.617647058824\n",
      "[[25  9]\n",
      " [ 1  1]]\n",
      "2\n",
      "\n",
      "0.661764705882\n",
      "[[28  6]\n",
      " [ 1  1]]\n",
      "11\n",
      "\n",
      "proline\n",
      "0.570234113712\n",
      "[[ 5 18]\n",
      " [ 1 12]]\n",
      "8\n",
      "\n",
      "0.688963210702\n",
      "[[14  9]\n",
      " [ 3 10]]\n",
      "24\n",
      "\n",
      "0.678929765886\n",
      "[[10 13]\n",
      " [ 1 12]]\n",
      "10\n",
      "\n",
      "0.628762541806\n",
      "[[13 10]\n",
      " [ 4  9]]\n",
      "10\n",
      "\n",
      "tryptophan\n",
      "0.560606060606\n",
      "[[26  7]\n",
      " [ 2  1]]\n",
      "5\n",
      "\n",
      "0.575757575758\n",
      "[[16 17]\n",
      " [ 1  2]]\n",
      "0\n",
      "\n",
      "0.530303030303\n",
      "[[24  9]\n",
      " [ 2  1]]\n",
      "23\n",
      "\n",
      "0.5\n",
      "[[33  0]\n",
      " [ 3  0]]\n",
      "1\n",
      "\n",
      "aspartate\n",
      "0.62962962963\n",
      "[[19  8]\n",
      " [ 4  5]]\n",
      "17\n",
      "\n",
      "0.648148148148\n",
      "[[14 13]\n",
      " [ 2  7]]\n",
      "35\n",
      "\n",
      "0.592592592593\n",
      "[[11 16]\n",
      " [ 2  7]]\n",
      "12\n",
      "\n",
      "0.592592592593\n",
      "[[11 16]\n",
      " [ 2  7]]\n",
      "24\n",
      "\n",
      "arginine\n",
      "0.716666666667\n",
      "[[28  2]\n",
      " [ 3  3]]\n",
      "30\n",
      "\n",
      "0.716666666667\n",
      "[[28  2]\n",
      " [ 3  3]]\n",
      "39\n",
      "\n",
      "0.5\n",
      "[[ 5 25]\n",
      " [ 1  5]]\n",
      "1\n",
      "\n",
      "0.733333333333\n",
      "[[19 11]\n",
      " [ 1  5]]\n",
      "18\n",
      "\n",
      "glutamine\n",
      "0.674193548387\n",
      "[[17 14]\n",
      " [ 1  4]]\n",
      "28\n",
      "\n",
      "0.803225806452\n",
      "[[25  6]\n",
      " [ 1  4]]\n",
      "29\n",
      "\n",
      "0.835483870968\n",
      "[[27  4]\n",
      " [ 1  4]]\n",
      "33\n",
      "\n",
      "0.658064516129\n",
      "[[16 15]\n",
      " [ 1  4]]\n",
      "0\n",
      "\n",
      "tyrosine\n",
      "0.5625\n",
      "[[21  7]\n",
      " [ 5  3]]\n",
      "6\n",
      "\n",
      "0.553571428571\n",
      "[[ 3 25]\n",
      " [ 0  8]]\n",
      "1\n",
      "\n",
      "0.580357142857\n",
      "[[15 13]\n",
      " [ 3  5]]\n",
      "16\n",
      "\n",
      "0.553571428571\n",
      "[[24  4]\n",
      " [ 6  2]]\n",
      "26\n",
      "\n",
      "isoleucine\n",
      "0.635483870968\n",
      "[[27  4]\n",
      " [ 3  2]]\n",
      "35\n",
      "\n",
      "0.722580645161\n",
      "[[20 11]\n",
      " [ 1  4]]\n",
      "32\n",
      "\n",
      "0.564516129032\n",
      "[[ 4 27]\n",
      " [ 0  5]]\n",
      "24\n",
      "\n",
      "0.803225806452\n",
      "[[25  6]\n",
      " [ 1  4]]\n",
      "19\n",
      "\n",
      "alanine\n",
      "0.683946488294\n",
      "[[12 11]\n",
      " [ 2 11]]\n",
      "12\n",
      "\n",
      "0.727424749164\n",
      "[[14  9]\n",
      " [ 2 11]]\n",
      "27\n",
      "\n",
      "0.683946488294\n",
      "[[12 11]\n",
      " [ 2 11]]\n",
      "19\n",
      "\n",
      "0.596989966555\n",
      "[[ 8 15]\n",
      " [ 2 11]]\n",
      "11\n",
      "\n",
      "lysine\n",
      "0.625\n",
      "[[21  7]\n",
      " [ 4  4]]\n",
      "19\n",
      "\n",
      "0.705357142857\n",
      "[[22  6]\n",
      " [ 3  5]]\n",
      "19\n",
      "\n",
      "0.660714285714\n",
      "[[23  5]\n",
      " [ 4  4]]\n",
      "29\n",
      "\n",
      "0.678571428571\n",
      "[[24  4]\n",
      " [ 4  4]]\n",
      "13\n",
      "\n",
      "glycine\n",
      "0.583870967742\n",
      "[[30  1]\n",
      " [ 4  1]]\n",
      "5\n",
      "\n",
      "0.738709677419\n",
      "[[21 10]\n",
      " [ 1  4]]\n",
      "0\n",
      "\n",
      "0.683870967742\n",
      "[[30  1]\n",
      " [ 3  2]]\n",
      "9\n",
      "\n",
      "0.667741935484\n",
      "[[29  2]\n",
      " [ 3  2]]\n",
      "5\n",
      "\n",
      "leucine\n",
      "0.622580645161\n",
      "[[20 11]\n",
      " [ 2  3]]\n",
      "7\n",
      "\n",
      "0.706451612903\n",
      "[[19 12]\n",
      " [ 1  4]]\n",
      "33\n",
      "\n",
      "0.690322580645\n",
      "[[18 13]\n",
      " [ 1  4]]\n",
      "1\n",
      "\n",
      "0.738709677419\n",
      "[[21 10]\n",
      " [ 1  4]]\n",
      "20\n",
      "\n",
      "glutamate\n",
      "0.657692307692\n",
      "[[16 10]\n",
      " [ 3  7]]\n",
      "17\n",
      "\n",
      "0.580769230769\n",
      "[[12 14]\n",
      " [ 3  7]]\n",
      "12\n",
      "\n",
      "0.619230769231\n",
      "[[14 12]\n",
      " [ 3  7]]\n",
      "10\n",
      "\n",
      "0.680769230769\n",
      "[[12 14]\n",
      " [ 1  9]]\n",
      "10\n",
      "\n",
      "phenylalanine\n",
      "0.666666666667\n",
      "[[22 11]\n",
      " [ 1  2]]\n",
      "4\n",
      "\n",
      "0.757575757576\n",
      "[[28  5]\n",
      " [ 1  2]]\n",
      "6\n",
      "\n",
      "0.772727272727\n",
      "[[29  4]\n",
      " [ 1  2]]\n",
      "9\n",
      "\n",
      "0.636363636364\n",
      "[[31  2]\n",
      " [ 2  1]]\n",
      "20\n",
      "\n",
      "threonine\n",
      "0.546153846154\n",
      "[[18  8]\n",
      " [ 6  4]]\n",
      "28\n",
      "\n",
      "0.688461538462\n",
      "[[15 11]\n",
      " [ 2  8]]\n",
      "17\n",
      "\n",
      "0.561538461538\n",
      "[[11 15]\n",
      " [ 3  7]]\n",
      "32\n",
      "\n",
      "0.534615384615\n",
      "[[ 7 19]\n",
      " [ 2  8]]\n",
      "9\n",
      "\n",
      "serine\n",
      "0.666666666667\n",
      "[[12 12]\n",
      " [ 2 10]]\n",
      "15\n",
      "\n",
      "0.583333333333\n",
      "[[ 4 20]\n",
      " [ 0 12]]\n",
      "21\n",
      "\n",
      "0.604166666667\n",
      "[[15  9]\n",
      " [ 5  7]]\n",
      "27\n",
      "\n",
      "0.5625\n",
      "[[ 7 17]\n",
      " [ 2 10]]\n",
      "31\n",
      "\n",
      "asparagine\n",
      "0.5\n",
      "[[31  0]\n",
      " [ 5  0]]\n",
      "0\n",
      "\n",
      "0.416129032258\n",
      "[[ 1 30]\n",
      " [ 1  4]]\n",
      "3\n",
      "\n",
      "0.5\n",
      "[[ 0 31]\n",
      " [ 0  5]]\n",
      "0\n",
      "\n",
      "0.51935483871\n",
      "[[26  5]\n",
      " [ 4  1]]\n",
      "4\n",
      "\n"
     ]
    }
   ],
   "source": [
    "for aa in aa_indices:\n",
    "    print(aa)\n",
    "    for r in result_dict[aa]:\n",
    "        conf = ConfusionMatrix(r[\"best_pred\"], r[\"real_test_classes\"])\n",
    "        print(conf.bac())\n",
    "        print(conf)\n",
    "        print(r[\"best_epoch\"])\n",
    "        print(\"\")"
   ]
  },
  {
   "cell_type": "code",
   "execution_count": 572,
   "metadata": {},
   "outputs": [
    {
     "name": "stdout",
     "output_type": "stream",
     "text": [
      "methionine : 0.612903225806\n",
      "valine : 0.650501672241\n",
      "histidine : 0.720588235294\n",
      "proline : 0.688963210702\n",
      "tryptophan : 0.575757575758\n",
      "aspartate : 0.648148148148\n",
      "arginine : 0.733333333333\n",
      "glutamine : 0.835483870968\n",
      "tyrosine : 0.580357142857\n",
      "isoleucine : 0.803225806452\n",
      "alanine : 0.727424749164\n",
      "lysine : 0.705357142857\n",
      "glycine : 0.738709677419\n",
      "leucine : 0.738709677419\n",
      "glutamate : 0.680769230769\n",
      "phenylalanine : 0.772727272727\n",
      "threonine : 0.688461538462\n",
      "serine : 0.666666666667\n",
      "asparagine : 0.51935483871\n"
     ]
    }
   ],
   "source": [
    "for aa in aa_indices:\n",
    "    print(aa, \":\", max([d[\"best_bac\"] for d in result_dict[aa]]))"
   ]
  },
  {
   "cell_type": "code",
   "execution_count": 414,
   "metadata": {},
   "outputs": [
    {
     "data": {
      "text/plain": [
       "[{'best_bac': 0,\n",
       "  'best_epoch': 36,\n",
       "  'best_output': array([[  8.74057098e-01,   1.25942902e-01],\n",
       "         [  4.58311317e-01,   5.41688683e-01],\n",
       "         [  5.72001333e-01,   4.27998667e-01],\n",
       "         [  8.38903444e-02,   9.16109656e-01],\n",
       "         [  6.55559102e-01,   3.44440898e-01],\n",
       "         [  8.41168898e-01,   1.58831102e-01],\n",
       "         [  2.30288581e-01,   7.69711419e-01],\n",
       "         [  7.92186468e-01,   2.07813532e-01],\n",
       "         [  8.42383930e-01,   1.57616070e-01],\n",
       "         [  4.46947209e-04,   9.99553053e-01],\n",
       "         [  4.31807020e-01,   5.68192980e-01],\n",
       "         [  1.69200867e-01,   8.30799133e-01],\n",
       "         [  7.81572882e-01,   2.18427118e-01],\n",
       "         [  9.93302088e-01,   6.69791236e-03],\n",
       "         [  6.13464928e-01,   3.86535072e-01],\n",
       "         [  8.85395990e-01,   1.14604010e-01],\n",
       "         [  8.97792318e-01,   1.02207682e-01],\n",
       "         [  6.22410163e-01,   3.77589837e-01],\n",
       "         [  1.55228021e-01,   8.44771979e-01],\n",
       "         [  5.23424416e-01,   4.76575584e-01],\n",
       "         [  9.79266452e-01,   2.07335482e-02],\n",
       "         [  6.16465149e-01,   3.83534851e-01],\n",
       "         [  6.69109465e-01,   3.30890535e-01],\n",
       "         [  6.45588685e-01,   3.54411315e-01],\n",
       "         [  7.32137562e-01,   2.67862438e-01],\n",
       "         [  3.54192368e-01,   6.45807632e-01],\n",
       "         [  5.12355502e-01,   4.87644498e-01],\n",
       "         [  7.43309256e-01,   2.56690744e-01],\n",
       "         [  9.99633311e-01,   3.66689132e-04],\n",
       "         [  3.88774214e-02,   9.61122579e-01],\n",
       "         [  8.41931966e-01,   1.58068034e-01],\n",
       "         [  8.67295534e-01,   1.32704466e-01],\n",
       "         [  6.74972076e-05,   9.99932503e-01],\n",
       "         [  8.40304102e-01,   1.59695898e-01],\n",
       "         [  5.77958925e-01,   4.22041075e-01],\n",
       "         [  8.25594530e-01,   1.74405470e-01]]),\n",
       "  'best_pred': array([0, 1, 0, 1, 0, 0, 1, 0, 0, 1, 1, 1, 0, 0, 0, 0, 0, 0, 1, 0, 0, 0, 0,\n",
       "         0, 0, 1, 0, 0, 0, 1, 0, 0, 1, 0, 0, 0]),\n",
       "  'real_test_classes': array([0, 1, 0, 1, 1, 0, 1, 0, 0, 0, 1, 0, 0, 0, 0, 1, 0, 0, 1, 0, 0, 0, 1,\n",
       "         0, 1, 1, 0, 0, 0, 0, 0, 1, 1, 0, 0, 0])},\n",
       " {'best_bac': 0,\n",
       "  'best_epoch': 36,\n",
       "  'best_output': array([[  8.74057098e-01,   1.25942902e-01],\n",
       "         [  4.58311317e-01,   5.41688683e-01],\n",
       "         [  5.72001333e-01,   4.27998667e-01],\n",
       "         [  8.38903444e-02,   9.16109656e-01],\n",
       "         [  6.55559102e-01,   3.44440898e-01],\n",
       "         [  8.41168898e-01,   1.58831102e-01],\n",
       "         [  2.30288581e-01,   7.69711419e-01],\n",
       "         [  7.92186468e-01,   2.07813532e-01],\n",
       "         [  8.42383930e-01,   1.57616070e-01],\n",
       "         [  4.46947209e-04,   9.99553053e-01],\n",
       "         [  4.31807020e-01,   5.68192980e-01],\n",
       "         [  1.69200867e-01,   8.30799133e-01],\n",
       "         [  7.81572882e-01,   2.18427118e-01],\n",
       "         [  9.93302088e-01,   6.69791236e-03],\n",
       "         [  6.13464928e-01,   3.86535072e-01],\n",
       "         [  8.85395990e-01,   1.14604010e-01],\n",
       "         [  8.97792318e-01,   1.02207682e-01],\n",
       "         [  6.22410163e-01,   3.77589837e-01],\n",
       "         [  1.55228021e-01,   8.44771979e-01],\n",
       "         [  5.23424416e-01,   4.76575584e-01],\n",
       "         [  9.79266452e-01,   2.07335482e-02],\n",
       "         [  6.16465149e-01,   3.83534851e-01],\n",
       "         [  6.69109465e-01,   3.30890535e-01],\n",
       "         [  6.45588685e-01,   3.54411315e-01],\n",
       "         [  7.32137562e-01,   2.67862438e-01],\n",
       "         [  3.54192368e-01,   6.45807632e-01],\n",
       "         [  5.12355502e-01,   4.87644498e-01],\n",
       "         [  7.43309256e-01,   2.56690744e-01],\n",
       "         [  9.99633311e-01,   3.66689132e-04],\n",
       "         [  3.88774214e-02,   9.61122579e-01],\n",
       "         [  8.41931966e-01,   1.58068034e-01],\n",
       "         [  8.67295534e-01,   1.32704466e-01],\n",
       "         [  6.74972076e-05,   9.99932503e-01],\n",
       "         [  8.40304102e-01,   1.59695898e-01],\n",
       "         [  5.77958925e-01,   4.22041075e-01],\n",
       "         [  8.25594530e-01,   1.74405470e-01]]),\n",
       "  'best_pred': array([0, 1, 0, 1, 0, 0, 1, 0, 0, 1, 1, 1, 0, 0, 0, 0, 0, 0, 1, 0, 0, 0, 0,\n",
       "         0, 0, 1, 0, 0, 0, 1, 0, 0, 1, 0, 0, 0]),\n",
       "  'real_test_classes': array([0, 1, 0, 1, 1, 0, 1, 0, 0, 0, 1, 0, 0, 0, 0, 1, 0, 0, 1, 0, 0, 0, 1,\n",
       "         0, 1, 1, 0, 0, 0, 0, 0, 1, 1, 0, 0, 0])},\n",
       " {'best_bac': 0,\n",
       "  'best_epoch': 36,\n",
       "  'best_output': array([[  8.74057098e-01,   1.25942902e-01],\n",
       "         [  4.58311317e-01,   5.41688683e-01],\n",
       "         [  5.72001333e-01,   4.27998667e-01],\n",
       "         [  8.38903444e-02,   9.16109656e-01],\n",
       "         [  6.55559102e-01,   3.44440898e-01],\n",
       "         [  8.41168898e-01,   1.58831102e-01],\n",
       "         [  2.30288581e-01,   7.69711419e-01],\n",
       "         [  7.92186468e-01,   2.07813532e-01],\n",
       "         [  8.42383930e-01,   1.57616070e-01],\n",
       "         [  4.46947209e-04,   9.99553053e-01],\n",
       "         [  4.31807020e-01,   5.68192980e-01],\n",
       "         [  1.69200867e-01,   8.30799133e-01],\n",
       "         [  7.81572882e-01,   2.18427118e-01],\n",
       "         [  9.93302088e-01,   6.69791236e-03],\n",
       "         [  6.13464928e-01,   3.86535072e-01],\n",
       "         [  8.85395990e-01,   1.14604010e-01],\n",
       "         [  8.97792318e-01,   1.02207682e-01],\n",
       "         [  6.22410163e-01,   3.77589837e-01],\n",
       "         [  1.55228021e-01,   8.44771979e-01],\n",
       "         [  5.23424416e-01,   4.76575584e-01],\n",
       "         [  9.79266452e-01,   2.07335482e-02],\n",
       "         [  6.16465149e-01,   3.83534851e-01],\n",
       "         [  6.69109465e-01,   3.30890535e-01],\n",
       "         [  6.45588685e-01,   3.54411315e-01],\n",
       "         [  7.32137562e-01,   2.67862438e-01],\n",
       "         [  3.54192368e-01,   6.45807632e-01],\n",
       "         [  5.12355502e-01,   4.87644498e-01],\n",
       "         [  7.43309256e-01,   2.56690744e-01],\n",
       "         [  9.99633311e-01,   3.66689132e-04],\n",
       "         [  3.88774214e-02,   9.61122579e-01],\n",
       "         [  8.41931966e-01,   1.58068034e-01],\n",
       "         [  8.67295534e-01,   1.32704466e-01],\n",
       "         [  6.74972076e-05,   9.99932503e-01],\n",
       "         [  8.40304102e-01,   1.59695898e-01],\n",
       "         [  5.77958925e-01,   4.22041075e-01],\n",
       "         [  8.25594530e-01,   1.74405470e-01]]),\n",
       "  'best_pred': array([0, 1, 0, 1, 0, 0, 1, 0, 0, 1, 1, 1, 0, 0, 0, 0, 0, 0, 1, 0, 0, 0, 0,\n",
       "         0, 0, 1, 0, 0, 0, 1, 0, 0, 1, 0, 0, 0]),\n",
       "  'real_test_classes': array([0, 1, 0, 1, 1, 0, 1, 0, 0, 0, 1, 0, 0, 0, 0, 1, 0, 0, 1, 0, 0, 0, 1,\n",
       "         0, 1, 1, 0, 0, 0, 0, 0, 1, 1, 0, 0, 0])},\n",
       " {'best_bac': 0,\n",
       "  'best_epoch': 36,\n",
       "  'best_output': array([[  8.74057098e-01,   1.25942902e-01],\n",
       "         [  4.58311317e-01,   5.41688683e-01],\n",
       "         [  5.72001333e-01,   4.27998667e-01],\n",
       "         [  8.38903444e-02,   9.16109656e-01],\n",
       "         [  6.55559102e-01,   3.44440898e-01],\n",
       "         [  8.41168898e-01,   1.58831102e-01],\n",
       "         [  2.30288581e-01,   7.69711419e-01],\n",
       "         [  7.92186468e-01,   2.07813532e-01],\n",
       "         [  8.42383930e-01,   1.57616070e-01],\n",
       "         [  4.46947209e-04,   9.99553053e-01],\n",
       "         [  4.31807020e-01,   5.68192980e-01],\n",
       "         [  1.69200867e-01,   8.30799133e-01],\n",
       "         [  7.81572882e-01,   2.18427118e-01],\n",
       "         [  9.93302088e-01,   6.69791236e-03],\n",
       "         [  6.13464928e-01,   3.86535072e-01],\n",
       "         [  8.85395990e-01,   1.14604010e-01],\n",
       "         [  8.97792318e-01,   1.02207682e-01],\n",
       "         [  6.22410163e-01,   3.77589837e-01],\n",
       "         [  1.55228021e-01,   8.44771979e-01],\n",
       "         [  5.23424416e-01,   4.76575584e-01],\n",
       "         [  9.79266452e-01,   2.07335482e-02],\n",
       "         [  6.16465149e-01,   3.83534851e-01],\n",
       "         [  6.69109465e-01,   3.30890535e-01],\n",
       "         [  6.45588685e-01,   3.54411315e-01],\n",
       "         [  7.32137562e-01,   2.67862438e-01],\n",
       "         [  3.54192368e-01,   6.45807632e-01],\n",
       "         [  5.12355502e-01,   4.87644498e-01],\n",
       "         [  7.43309256e-01,   2.56690744e-01],\n",
       "         [  9.99633311e-01,   3.66689132e-04],\n",
       "         [  3.88774214e-02,   9.61122579e-01],\n",
       "         [  8.41931966e-01,   1.58068034e-01],\n",
       "         [  8.67295534e-01,   1.32704466e-01],\n",
       "         [  6.74972076e-05,   9.99932503e-01],\n",
       "         [  8.40304102e-01,   1.59695898e-01],\n",
       "         [  5.77958925e-01,   4.22041075e-01],\n",
       "         [  8.25594530e-01,   1.74405470e-01]]),\n",
       "  'best_pred': array([0, 1, 0, 1, 0, 0, 1, 0, 0, 1, 1, 1, 0, 0, 0, 0, 0, 0, 1, 0, 0, 0, 0,\n",
       "         0, 0, 1, 0, 0, 0, 1, 0, 0, 1, 0, 0, 0]),\n",
       "  'real_test_classes': array([0, 1, 0, 1, 1, 0, 1, 0, 0, 0, 1, 0, 0, 0, 0, 1, 0, 0, 1, 0, 0, 0, 1,\n",
       "         0, 1, 1, 0, 0, 0, 0, 0, 1, 1, 0, 0, 0])}]"
      ]
     },
     "execution_count": 414,
     "metadata": {},
     "output_type": "execute_result"
    }
   ],
   "source": [
    "result_dict[\"proline\"]"
   ]
  },
  {
   "cell_type": "code",
   "execution_count": 599,
   "metadata": {},
   "outputs": [
    {
     "data": {
      "text/plain": [
       "True"
      ]
     },
     "execution_count": 599,
     "metadata": {},
     "output_type": "execute_result"
    }
   ],
   "source": [
    "(X_train[:, :, [0, 4]][:, :, 1] == X_train[:, :, 4]).all()"
   ]
  },
  {
   "cell_type": "code",
   "execution_count": 625,
   "metadata": {},
   "outputs": [
    {
     "data": {
      "text/plain": [
       "True"
      ]
     },
     "execution_count": 625,
     "metadata": {},
     "output_type": "execute_result"
    }
   ],
   "source": [
    "aa_datasets[\"alanine\"][\"X_test\"][:, :, 4].any()"
   ]
  },
  {
   "cell_type": "code",
   "execution_count": 589,
   "metadata": {},
   "outputs": [
    {
     "data": {
      "text/plain": [
       "(341, 2803, 4)"
      ]
     },
     "execution_count": 589,
     "metadata": {},
     "output_type": "execute_result"
    }
   ],
   "source": [
    "data[\"X\"].shape"
   ]
  },
  {
   "cell_type": "code",
   "execution_count": 601,
   "metadata": {},
   "outputs": [
    {
     "data": {
      "text/plain": [
       "False"
      ]
     },
     "execution_count": 601,
     "metadata": {},
     "output_type": "execute_result"
    }
   ],
   "source": [
    "X_train[:, :, 4].any()"
   ]
  },
  {
   "cell_type": "code",
   "execution_count": 633,
   "metadata": {},
   "outputs": [
    {
     "data": {
      "text/plain": [
       "True"
      ]
     },
     "execution_count": 633,
     "metadata": {},
     "output_type": "execute_result"
    }
   ],
   "source": [
    "(A_hat_2[:1][0] == A_hat_2[0]).all()"
   ]
  },
  {
   "cell_type": "code",
   "execution_count": 634,
   "metadata": {},
   "outputs": [
    {
     "data": {
      "text/plain": [
       "2"
      ]
     },
     "execution_count": 634,
     "metadata": {},
     "output_type": "execute_result"
    }
   ],
   "source": [
    "len(A_hat_2)"
   ]
  },
  {
   "cell_type": "code",
   "execution_count": null,
   "metadata": {},
   "outputs": [],
   "source": [
    "import os"
   ]
  },
  {
   "cell_type": "code",
   "execution_count": null,
   "metadata": {},
   "outputs": [],
   "source": [
    "os.listdir()"
   ]
  },
  {
   "cell_type": "code",
   "execution_count": null,
   "metadata": {
    "collapsed": true
   },
   "outputs": [],
   "source": [
    "with open(\"../../\")"
   ]
  }
 ],
 "metadata": {
  "anaconda-cloud": {},
  "kernelspec": {
   "display_name": "Python [cfb_old]",
   "language": "python",
   "name": "Python [cfb_old]"
  },
  "language_info": {
   "codemirror_mode": {
    "name": "ipython",
    "version": 3
   },
   "file_extension": ".py",
   "mimetype": "text/x-python",
   "name": "python",
   "nbconvert_exporter": "python",
   "pygments_lexer": "ipython3",
   "version": "3.4.5"
  }
 },
 "nbformat": 4,
 "nbformat_minor": 1
}
